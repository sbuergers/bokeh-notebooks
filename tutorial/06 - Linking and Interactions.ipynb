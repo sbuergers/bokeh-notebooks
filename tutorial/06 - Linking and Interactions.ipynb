{
 "cells": [
  {
   "cell_type": "markdown",
   "metadata": {},
   "source": [
    "<table style=\"float:left; border:none\">\n",
    "   <tr style=\"border:none\">\n",
    "       <td style=\"border:none\">\n",
    "           <a href=\"https://bokeh.org/\">     \n",
    "           <img \n",
    "               src=\"assets/bokeh-transparent.png\" \n",
    "               style=\"width:50px\"\n",
    "           >\n",
    "           </a>    \n",
    "       </td>\n",
    "       <td style=\"border:none\">\n",
    "           <h1>Bokeh Tutorial</h1>\n",
    "       </td>\n",
    "   </tr>\n",
    "</table>\n",
    "\n",
    "<div style=\"float:right;\"><h2>06. Linking and Interactions</h2></div>"
   ]
  },
  {
   "cell_type": "code",
   "execution_count": 1,
   "metadata": {},
   "outputs": [
    {
     "data": {
      "text/html": [
       "\n",
       "    <div class=\"bk-root\">\n",
       "        <a href=\"https://bokeh.org\" target=\"_blank\" class=\"bk-logo bk-logo-small bk-logo-notebook\"></a>\n",
       "        <span id=\"1001\">Loading BokehJS ...</span>\n",
       "    </div>"
      ]
     },
     "metadata": {},
     "output_type": "display_data"
    },
    {
     "data": {
      "application/javascript": [
       "\n",
       "(function(root) {\n",
       "  function now() {\n",
       "    return new Date();\n",
       "  }\n",
       "\n",
       "  var force = true;\n",
       "\n",
       "  if (typeof root._bokeh_onload_callbacks === \"undefined\" || force === true) {\n",
       "    root._bokeh_onload_callbacks = [];\n",
       "    root._bokeh_is_loading = undefined;\n",
       "  }\n",
       "\n",
       "  var JS_MIME_TYPE = 'application/javascript';\n",
       "  var HTML_MIME_TYPE = 'text/html';\n",
       "  var EXEC_MIME_TYPE = 'application/vnd.bokehjs_exec.v0+json';\n",
       "  var CLASS_NAME = 'output_bokeh rendered_html';\n",
       "\n",
       "  /**\n",
       "   * Render data to the DOM node\n",
       "   */\n",
       "  function render(props, node) {\n",
       "    var script = document.createElement(\"script\");\n",
       "    node.appendChild(script);\n",
       "  }\n",
       "\n",
       "  /**\n",
       "   * Handle when an output is cleared or removed\n",
       "   */\n",
       "  function handleClearOutput(event, handle) {\n",
       "    var cell = handle.cell;\n",
       "\n",
       "    var id = cell.output_area._bokeh_element_id;\n",
       "    var server_id = cell.output_area._bokeh_server_id;\n",
       "    // Clean up Bokeh references\n",
       "    if (id != null && id in Bokeh.index) {\n",
       "      Bokeh.index[id].model.document.clear();\n",
       "      delete Bokeh.index[id];\n",
       "    }\n",
       "\n",
       "    if (server_id !== undefined) {\n",
       "      // Clean up Bokeh references\n",
       "      var cmd = \"from bokeh.io.state import curstate; print(curstate().uuid_to_server['\" + server_id + \"'].get_sessions()[0].document.roots[0]._id)\";\n",
       "      cell.notebook.kernel.execute(cmd, {\n",
       "        iopub: {\n",
       "          output: function(msg) {\n",
       "            var id = msg.content.text.trim();\n",
       "            if (id in Bokeh.index) {\n",
       "              Bokeh.index[id].model.document.clear();\n",
       "              delete Bokeh.index[id];\n",
       "            }\n",
       "          }\n",
       "        }\n",
       "      });\n",
       "      // Destroy server and session\n",
       "      var cmd = \"import bokeh.io.notebook as ion; ion.destroy_server('\" + server_id + \"')\";\n",
       "      cell.notebook.kernel.execute(cmd);\n",
       "    }\n",
       "  }\n",
       "\n",
       "  /**\n",
       "   * Handle when a new output is added\n",
       "   */\n",
       "  function handleAddOutput(event, handle) {\n",
       "    var output_area = handle.output_area;\n",
       "    var output = handle.output;\n",
       "\n",
       "    // limit handleAddOutput to display_data with EXEC_MIME_TYPE content only\n",
       "    if ((output.output_type != \"display_data\") || (!output.data.hasOwnProperty(EXEC_MIME_TYPE))) {\n",
       "      return\n",
       "    }\n",
       "\n",
       "    var toinsert = output_area.element.find(\".\" + CLASS_NAME.split(' ')[0]);\n",
       "\n",
       "    if (output.metadata[EXEC_MIME_TYPE][\"id\"] !== undefined) {\n",
       "      toinsert[toinsert.length - 1].firstChild.textContent = output.data[JS_MIME_TYPE];\n",
       "      // store reference to embed id on output_area\n",
       "      output_area._bokeh_element_id = output.metadata[EXEC_MIME_TYPE][\"id\"];\n",
       "    }\n",
       "    if (output.metadata[EXEC_MIME_TYPE][\"server_id\"] !== undefined) {\n",
       "      var bk_div = document.createElement(\"div\");\n",
       "      bk_div.innerHTML = output.data[HTML_MIME_TYPE];\n",
       "      var script_attrs = bk_div.children[0].attributes;\n",
       "      for (var i = 0; i < script_attrs.length; i++) {\n",
       "        toinsert[toinsert.length - 1].firstChild.setAttribute(script_attrs[i].name, script_attrs[i].value);\n",
       "        toinsert[toinsert.length - 1].firstChild.textContent = bk_div.children[0].textContent\n",
       "      }\n",
       "      // store reference to server id on output_area\n",
       "      output_area._bokeh_server_id = output.metadata[EXEC_MIME_TYPE][\"server_id\"];\n",
       "    }\n",
       "  }\n",
       "\n",
       "  function register_renderer(events, OutputArea) {\n",
       "\n",
       "    function append_mime(data, metadata, element) {\n",
       "      // create a DOM node to render to\n",
       "      var toinsert = this.create_output_subarea(\n",
       "        metadata,\n",
       "        CLASS_NAME,\n",
       "        EXEC_MIME_TYPE\n",
       "      );\n",
       "      this.keyboard_manager.register_events(toinsert);\n",
       "      // Render to node\n",
       "      var props = {data: data, metadata: metadata[EXEC_MIME_TYPE]};\n",
       "      render(props, toinsert[toinsert.length - 1]);\n",
       "      element.append(toinsert);\n",
       "      return toinsert\n",
       "    }\n",
       "\n",
       "    /* Handle when an output is cleared or removed */\n",
       "    events.on('clear_output.CodeCell', handleClearOutput);\n",
       "    events.on('delete.Cell', handleClearOutput);\n",
       "\n",
       "    /* Handle when a new output is added */\n",
       "    events.on('output_added.OutputArea', handleAddOutput);\n",
       "\n",
       "    /**\n",
       "     * Register the mime type and append_mime function with output_area\n",
       "     */\n",
       "    OutputArea.prototype.register_mime_type(EXEC_MIME_TYPE, append_mime, {\n",
       "      /* Is output safe? */\n",
       "      safe: true,\n",
       "      /* Index of renderer in `output_area.display_order` */\n",
       "      index: 0\n",
       "    });\n",
       "  }\n",
       "\n",
       "  // register the mime type if in Jupyter Notebook environment and previously unregistered\n",
       "  if (root.Jupyter !== undefined) {\n",
       "    var events = require('base/js/events');\n",
       "    var OutputArea = require('notebook/js/outputarea').OutputArea;\n",
       "\n",
       "    if (OutputArea.prototype.mime_types().indexOf(EXEC_MIME_TYPE) == -1) {\n",
       "      register_renderer(events, OutputArea);\n",
       "    }\n",
       "  }\n",
       "\n",
       "  \n",
       "  if (typeof (root._bokeh_timeout) === \"undefined\" || force === true) {\n",
       "    root._bokeh_timeout = Date.now() + 5000;\n",
       "    root._bokeh_failed_load = false;\n",
       "  }\n",
       "\n",
       "  var NB_LOAD_WARNING = {'data': {'text/html':\n",
       "     \"<div style='background-color: #fdd'>\\n\"+\n",
       "     \"<p>\\n\"+\n",
       "     \"BokehJS does not appear to have successfully loaded. If loading BokehJS from CDN, this \\n\"+\n",
       "     \"may be due to a slow or bad network connection. Possible fixes:\\n\"+\n",
       "     \"</p>\\n\"+\n",
       "     \"<ul>\\n\"+\n",
       "     \"<li>re-rerun `output_notebook()` to attempt to load from CDN again, or</li>\\n\"+\n",
       "     \"<li>use INLINE resources instead, as so:</li>\\n\"+\n",
       "     \"</ul>\\n\"+\n",
       "     \"<code>\\n\"+\n",
       "     \"from bokeh.resources import INLINE\\n\"+\n",
       "     \"output_notebook(resources=INLINE)\\n\"+\n",
       "     \"</code>\\n\"+\n",
       "     \"</div>\"}};\n",
       "\n",
       "  function display_loaded() {\n",
       "    var el = document.getElementById(\"1001\");\n",
       "    if (el != null) {\n",
       "      el.textContent = \"BokehJS is loading...\";\n",
       "    }\n",
       "    if (root.Bokeh !== undefined) {\n",
       "      if (el != null) {\n",
       "        el.textContent = \"BokehJS \" + root.Bokeh.version + \" successfully loaded.\";\n",
       "      }\n",
       "    } else if (Date.now() < root._bokeh_timeout) {\n",
       "      setTimeout(display_loaded, 100)\n",
       "    }\n",
       "  }\n",
       "\n",
       "\n",
       "  function run_callbacks() {\n",
       "    try {\n",
       "      root._bokeh_onload_callbacks.forEach(function(callback) {\n",
       "        if (callback != null)\n",
       "          callback();\n",
       "      });\n",
       "    } finally {\n",
       "      delete root._bokeh_onload_callbacks\n",
       "    }\n",
       "    console.debug(\"Bokeh: all callbacks have finished\");\n",
       "  }\n",
       "\n",
       "  function load_libs(css_urls, js_urls, callback) {\n",
       "    if (css_urls == null) css_urls = [];\n",
       "    if (js_urls == null) js_urls = [];\n",
       "\n",
       "    root._bokeh_onload_callbacks.push(callback);\n",
       "    if (root._bokeh_is_loading > 0) {\n",
       "      console.debug(\"Bokeh: BokehJS is being loaded, scheduling callback at\", now());\n",
       "      return null;\n",
       "    }\n",
       "    if (js_urls == null || js_urls.length === 0) {\n",
       "      run_callbacks();\n",
       "      return null;\n",
       "    }\n",
       "    console.debug(\"Bokeh: BokehJS not loaded, scheduling load and callback at\", now());\n",
       "    root._bokeh_is_loading = css_urls.length + js_urls.length;\n",
       "\n",
       "    function on_load() {\n",
       "      root._bokeh_is_loading--;\n",
       "      if (root._bokeh_is_loading === 0) {\n",
       "        console.debug(\"Bokeh: all BokehJS libraries/stylesheets loaded\");\n",
       "        run_callbacks()\n",
       "      }\n",
       "    }\n",
       "\n",
       "    function on_error() {\n",
       "      console.error(\"failed to load \" + url);\n",
       "    }\n",
       "\n",
       "    for (var i = 0; i < css_urls.length; i++) {\n",
       "      var url = css_urls[i];\n",
       "      const element = document.createElement(\"link\");\n",
       "      element.onload = on_load;\n",
       "      element.onerror = on_error;\n",
       "      element.rel = \"stylesheet\";\n",
       "      element.type = \"text/css\";\n",
       "      element.href = url;\n",
       "      console.debug(\"Bokeh: injecting link tag for BokehJS stylesheet: \", url);\n",
       "      document.body.appendChild(element);\n",
       "    }\n",
       "\n",
       "    const hashes = {\"https://cdn.bokeh.org/bokeh/release/bokeh-2.0.2.min.js\": \"ufR9RFnRs6lniiaFvtJziE0YeidtAgBRH6ux2oUItHw5WTvE1zuk9uzhUU/FJXDp\", \"https://cdn.bokeh.org/bokeh/release/bokeh-widgets-2.0.2.min.js\": \"8QM/PGWBT+IssZuRcDcjzwIh1mkOmJSoNMmyYDZbCfXJg3Ap1lEvdVgFuSAwhb/J\", \"https://cdn.bokeh.org/bokeh/release/bokeh-tables-2.0.2.min.js\": \"Jm8cH3Rg0P6UeZhVY5cLy1WzKajUT9KImCY+76hEqrcJt59/d8GPvFHjCkYgnSIn\", \"https://cdn.bokeh.org/bokeh/release/bokeh-gl-2.0.2.min.js\": \"Ozhzj+SI7ywm74aOI/UajcWz+C0NjsPunEVyVIrxzYkB+jA+2tUw8x5xJCbVtK5I\"};\n",
       "\n",
       "    for (var i = 0; i < js_urls.length; i++) {\n",
       "      var url = js_urls[i];\n",
       "      var element = document.createElement('script');\n",
       "      element.onload = on_load;\n",
       "      element.onerror = on_error;\n",
       "      element.async = false;\n",
       "      element.src = url;\n",
       "      if (url in hashes) {\n",
       "        element.crossOrigin = \"anonymous\";\n",
       "        element.integrity = \"sha384-\" + hashes[url];\n",
       "      }\n",
       "      console.debug(\"Bokeh: injecting script tag for BokehJS library: \", url);\n",
       "      document.head.appendChild(element);\n",
       "    }\n",
       "  };\n",
       "\n",
       "  function inject_raw_css(css) {\n",
       "    const element = document.createElement(\"style\");\n",
       "    element.appendChild(document.createTextNode(css));\n",
       "    document.body.appendChild(element);\n",
       "  }\n",
       "\n",
       "  \n",
       "  var js_urls = [\"https://cdn.bokeh.org/bokeh/release/bokeh-2.0.2.min.js\", \"https://cdn.bokeh.org/bokeh/release/bokeh-widgets-2.0.2.min.js\", \"https://cdn.bokeh.org/bokeh/release/bokeh-tables-2.0.2.min.js\", \"https://cdn.bokeh.org/bokeh/release/bokeh-gl-2.0.2.min.js\"];\n",
       "  var css_urls = [];\n",
       "  \n",
       "\n",
       "  var inline_js = [\n",
       "    function(Bokeh) {\n",
       "      Bokeh.set_log_level(\"info\");\n",
       "    },\n",
       "    function(Bokeh) {\n",
       "    \n",
       "    \n",
       "    }\n",
       "  ];\n",
       "\n",
       "  function run_inline_js() {\n",
       "    \n",
       "    if (root.Bokeh !== undefined || force === true) {\n",
       "      \n",
       "    for (var i = 0; i < inline_js.length; i++) {\n",
       "      inline_js[i].call(root, root.Bokeh);\n",
       "    }\n",
       "    if (force === true) {\n",
       "        display_loaded();\n",
       "      }} else if (Date.now() < root._bokeh_timeout) {\n",
       "      setTimeout(run_inline_js, 100);\n",
       "    } else if (!root._bokeh_failed_load) {\n",
       "      console.log(\"Bokeh: BokehJS failed to load within specified timeout.\");\n",
       "      root._bokeh_failed_load = true;\n",
       "    } else if (force !== true) {\n",
       "      var cell = $(document.getElementById(\"1001\")).parents('.cell').data().cell;\n",
       "      cell.output_area.append_execute_result(NB_LOAD_WARNING)\n",
       "    }\n",
       "\n",
       "  }\n",
       "\n",
       "  if (root._bokeh_is_loading === 0) {\n",
       "    console.debug(\"Bokeh: BokehJS loaded, going straight to plotting\");\n",
       "    run_inline_js();\n",
       "  } else {\n",
       "    load_libs(css_urls, js_urls, function() {\n",
       "      console.debug(\"Bokeh: BokehJS plotting callback run at\", now());\n",
       "      run_inline_js();\n",
       "    });\n",
       "  }\n",
       "}(window));"
      ],
      "application/vnd.bokehjs_load.v0+json": "\n(function(root) {\n  function now() {\n    return new Date();\n  }\n\n  var force = true;\n\n  if (typeof root._bokeh_onload_callbacks === \"undefined\" || force === true) {\n    root._bokeh_onload_callbacks = [];\n    root._bokeh_is_loading = undefined;\n  }\n\n  \n\n  \n  if (typeof (root._bokeh_timeout) === \"undefined\" || force === true) {\n    root._bokeh_timeout = Date.now() + 5000;\n    root._bokeh_failed_load = false;\n  }\n\n  var NB_LOAD_WARNING = {'data': {'text/html':\n     \"<div style='background-color: #fdd'>\\n\"+\n     \"<p>\\n\"+\n     \"BokehJS does not appear to have successfully loaded. If loading BokehJS from CDN, this \\n\"+\n     \"may be due to a slow or bad network connection. Possible fixes:\\n\"+\n     \"</p>\\n\"+\n     \"<ul>\\n\"+\n     \"<li>re-rerun `output_notebook()` to attempt to load from CDN again, or</li>\\n\"+\n     \"<li>use INLINE resources instead, as so:</li>\\n\"+\n     \"</ul>\\n\"+\n     \"<code>\\n\"+\n     \"from bokeh.resources import INLINE\\n\"+\n     \"output_notebook(resources=INLINE)\\n\"+\n     \"</code>\\n\"+\n     \"</div>\"}};\n\n  function display_loaded() {\n    var el = document.getElementById(\"1001\");\n    if (el != null) {\n      el.textContent = \"BokehJS is loading...\";\n    }\n    if (root.Bokeh !== undefined) {\n      if (el != null) {\n        el.textContent = \"BokehJS \" + root.Bokeh.version + \" successfully loaded.\";\n      }\n    } else if (Date.now() < root._bokeh_timeout) {\n      setTimeout(display_loaded, 100)\n    }\n  }\n\n\n  function run_callbacks() {\n    try {\n      root._bokeh_onload_callbacks.forEach(function(callback) {\n        if (callback != null)\n          callback();\n      });\n    } finally {\n      delete root._bokeh_onload_callbacks\n    }\n    console.debug(\"Bokeh: all callbacks have finished\");\n  }\n\n  function load_libs(css_urls, js_urls, callback) {\n    if (css_urls == null) css_urls = [];\n    if (js_urls == null) js_urls = [];\n\n    root._bokeh_onload_callbacks.push(callback);\n    if (root._bokeh_is_loading > 0) {\n      console.debug(\"Bokeh: BokehJS is being loaded, scheduling callback at\", now());\n      return null;\n    }\n    if (js_urls == null || js_urls.length === 0) {\n      run_callbacks();\n      return null;\n    }\n    console.debug(\"Bokeh: BokehJS not loaded, scheduling load and callback at\", now());\n    root._bokeh_is_loading = css_urls.length + js_urls.length;\n\n    function on_load() {\n      root._bokeh_is_loading--;\n      if (root._bokeh_is_loading === 0) {\n        console.debug(\"Bokeh: all BokehJS libraries/stylesheets loaded\");\n        run_callbacks()\n      }\n    }\n\n    function on_error() {\n      console.error(\"failed to load \" + url);\n    }\n\n    for (var i = 0; i < css_urls.length; i++) {\n      var url = css_urls[i];\n      const element = document.createElement(\"link\");\n      element.onload = on_load;\n      element.onerror = on_error;\n      element.rel = \"stylesheet\";\n      element.type = \"text/css\";\n      element.href = url;\n      console.debug(\"Bokeh: injecting link tag for BokehJS stylesheet: \", url);\n      document.body.appendChild(element);\n    }\n\n    const hashes = {\"https://cdn.bokeh.org/bokeh/release/bokeh-2.0.2.min.js\": \"ufR9RFnRs6lniiaFvtJziE0YeidtAgBRH6ux2oUItHw5WTvE1zuk9uzhUU/FJXDp\", \"https://cdn.bokeh.org/bokeh/release/bokeh-widgets-2.0.2.min.js\": \"8QM/PGWBT+IssZuRcDcjzwIh1mkOmJSoNMmyYDZbCfXJg3Ap1lEvdVgFuSAwhb/J\", \"https://cdn.bokeh.org/bokeh/release/bokeh-tables-2.0.2.min.js\": \"Jm8cH3Rg0P6UeZhVY5cLy1WzKajUT9KImCY+76hEqrcJt59/d8GPvFHjCkYgnSIn\", \"https://cdn.bokeh.org/bokeh/release/bokeh-gl-2.0.2.min.js\": \"Ozhzj+SI7ywm74aOI/UajcWz+C0NjsPunEVyVIrxzYkB+jA+2tUw8x5xJCbVtK5I\"};\n\n    for (var i = 0; i < js_urls.length; i++) {\n      var url = js_urls[i];\n      var element = document.createElement('script');\n      element.onload = on_load;\n      element.onerror = on_error;\n      element.async = false;\n      element.src = url;\n      if (url in hashes) {\n        element.crossOrigin = \"anonymous\";\n        element.integrity = \"sha384-\" + hashes[url];\n      }\n      console.debug(\"Bokeh: injecting script tag for BokehJS library: \", url);\n      document.head.appendChild(element);\n    }\n  };\n\n  function inject_raw_css(css) {\n    const element = document.createElement(\"style\");\n    element.appendChild(document.createTextNode(css));\n    document.body.appendChild(element);\n  }\n\n  \n  var js_urls = [\"https://cdn.bokeh.org/bokeh/release/bokeh-2.0.2.min.js\", \"https://cdn.bokeh.org/bokeh/release/bokeh-widgets-2.0.2.min.js\", \"https://cdn.bokeh.org/bokeh/release/bokeh-tables-2.0.2.min.js\", \"https://cdn.bokeh.org/bokeh/release/bokeh-gl-2.0.2.min.js\"];\n  var css_urls = [];\n  \n\n  var inline_js = [\n    function(Bokeh) {\n      Bokeh.set_log_level(\"info\");\n    },\n    function(Bokeh) {\n    \n    \n    }\n  ];\n\n  function run_inline_js() {\n    \n    if (root.Bokeh !== undefined || force === true) {\n      \n    for (var i = 0; i < inline_js.length; i++) {\n      inline_js[i].call(root, root.Bokeh);\n    }\n    if (force === true) {\n        display_loaded();\n      }} else if (Date.now() < root._bokeh_timeout) {\n      setTimeout(run_inline_js, 100);\n    } else if (!root._bokeh_failed_load) {\n      console.log(\"Bokeh: BokehJS failed to load within specified timeout.\");\n      root._bokeh_failed_load = true;\n    } else if (force !== true) {\n      var cell = $(document.getElementById(\"1001\")).parents('.cell').data().cell;\n      cell.output_area.append_execute_result(NB_LOAD_WARNING)\n    }\n\n  }\n\n  if (root._bokeh_is_loading === 0) {\n    console.debug(\"Bokeh: BokehJS loaded, going straight to plotting\");\n    run_inline_js();\n  } else {\n    load_libs(css_urls, js_urls, function() {\n      console.debug(\"Bokeh: BokehJS plotting callback run at\", now());\n      run_inline_js();\n    });\n  }\n}(window));"
     },
     "metadata": {},
     "output_type": "display_data"
    }
   ],
   "source": [
    "from bokeh.io import output_notebook, show\n",
    "from bokeh.plotting import figure\n",
    "output_notebook()"
   ]
  },
  {
   "cell_type": "markdown",
   "metadata": {},
   "source": [
    "Now that we know from the previous chapter how multiple plots can be placed together in a layout, we can start to look at how different plots can be linked togeher, or how plots can be linked to widgets. "
   ]
  },
  {
   "cell_type": "markdown",
   "metadata": {},
   "source": [
    "# Linked Interactions\n",
    "\n",
    "It is possible to link various interactions between different Bokeh plots. For instance, the ranges of two (or more) plots can be linked, so that when one of the plots is panned (or zoomed, or otherwise has its range changed) the other plots will update in unison. It is also possible to link selections between two plots, so that when items are selected on one plot, the corresponding items on the second plot also become selected. "
   ]
  },
  {
   "cell_type": "markdown",
   "metadata": {},
   "source": [
    "## Linked panning\n",
    "\n",
    "Linked panning (when multiple plots have ranges that stay in sync) is simple to spell with Bokeh. You simply share the appropriate range objects between two (or more) plots. The example below shows how to accomplish this by linking the ranges of three plots in various ways:"
   ]
  },
  {
   "cell_type": "code",
   "execution_count": 2,
   "metadata": {},
   "outputs": [
    {
     "data": {
      "text/html": [
       "\n",
       "\n",
       "\n",
       "\n",
       "\n",
       "\n",
       "  <div class=\"bk-root\" id=\"3372f0a7-c0a0-44cb-8871-2da0ffee6454\" data-root-id=\"1110\"></div>\n"
      ]
     },
     "metadata": {},
     "output_type": "display_data"
    },
    {
     "data": {
      "application/javascript": [
       "(function(root) {\n",
       "  function embed_document(root) {\n",
       "    \n",
       "  var docs_json = {\"cbf3ad78-fe0b-45cc-803e-d415702e35be\":{\"roots\":{\"references\":[{\"attributes\":{\"children\":[{\"id\":\"1109\"},{\"id\":\"1107\"}]},\"id\":\"1110\",\"type\":\"Column\"},{\"attributes\":{\"data_source\":{\"id\":\"1049\"},\"glyph\":{\"id\":\"1050\"},\"hover_glyph\":null,\"muted_glyph\":null,\"nonselection_glyph\":{\"id\":\"1051\"},\"selection_glyph\":null,\"view\":{\"id\":\"1053\"}},\"id\":\"1052\",\"type\":\"GlyphRenderer\"},{\"attributes\":{\"fill_alpha\":{\"value\":0.1},\"fill_color\":{\"value\":\"navy\"},\"line_alpha\":{\"value\":0.1},\"line_color\":{\"value\":\"navy\"},\"size\":{\"units\":\"screen\",\"value\":10},\"x\":{\"field\":\"x\"},\"y\":{\"field\":\"y\"}},\"id\":\"1026\",\"type\":\"Circle\"},{\"attributes\":{\"fill_alpha\":{\"value\":0.1},\"fill_color\":{\"value\":\"olive\"},\"line_alpha\":{\"value\":0.1},\"line_color\":{\"value\":\"olive\"},\"size\":{\"units\":\"screen\",\"value\":10},\"x\":{\"field\":\"x\"},\"y\":{\"field\":\"y\"}},\"id\":\"1077\",\"type\":\"Square\"},{\"attributes\":{\"toolbar\":{\"id\":\"1108\"},\"toolbar_location\":\"above\"},\"id\":\"1109\",\"type\":\"ToolbarBox\"},{\"attributes\":{\"fill_color\":{\"value\":\"firebrick\"},\"line_color\":{\"value\":\"firebrick\"},\"size\":{\"units\":\"screen\",\"value\":10},\"x\":{\"field\":\"x\"},\"y\":{\"field\":\"y\"}},\"id\":\"1050\",\"type\":\"Triangle\"},{\"attributes\":{\"data_source\":{\"id\":\"1024\"},\"glyph\":{\"id\":\"1025\"},\"hover_glyph\":null,\"muted_glyph\":null,\"nonselection_glyph\":{\"id\":\"1026\"},\"selection_glyph\":null,\"view\":{\"id\":\"1028\"}},\"id\":\"1027\",\"type\":\"GlyphRenderer\"},{\"attributes\":{\"data_source\":{\"id\":\"1075\"},\"glyph\":{\"id\":\"1076\"},\"hover_glyph\":null,\"muted_glyph\":null,\"nonselection_glyph\":{\"id\":\"1077\"},\"selection_glyph\":null,\"view\":{\"id\":\"1079\"}},\"id\":\"1078\",\"type\":\"GlyphRenderer\"},{\"attributes\":{\"data\":{\"x\":[0,1,2,3,4,5,6,7,8,9,10],\"y\":[5,4,3,2,1,0,1,2,3,4,5]},\"selected\":{\"id\":\"1105\"},\"selection_policy\":{\"id\":\"1104\"}},\"id\":\"1075\",\"type\":\"ColumnDataSource\"},{\"attributes\":{\"source\":{\"id\":\"1024\"}},\"id\":\"1028\",\"type\":\"CDSView\"},{\"attributes\":{\"source\":{\"id\":\"1075\"}},\"id\":\"1079\",\"type\":\"CDSView\"},{\"attributes\":{},\"id\":\"1005\",\"type\":\"DataRange1d\"},{\"attributes\":{},\"id\":\"1056\",\"type\":\"DataRange1d\"},{\"attributes\":{\"data\":{\"x\":[0,1,2,3,4,5,6,7,8,9,10],\"y\":[10,9,8,7,6,5,4,3,2,1,0]},\"selected\":{\"id\":\"1096\"},\"selection_policy\":{\"id\":\"1095\"}},\"id\":\"1049\",\"type\":\"ColumnDataSource\"},{\"attributes\":{},\"id\":\"1007\",\"type\":\"LinearScale\"},{\"attributes\":{\"fill_alpha\":{\"value\":0.1},\"fill_color\":{\"value\":\"firebrick\"},\"line_alpha\":{\"value\":0.1},\"line_color\":{\"value\":\"firebrick\"},\"size\":{\"units\":\"screen\",\"value\":10},\"x\":{\"field\":\"x\"},\"y\":{\"field\":\"y\"}},\"id\":\"1051\",\"type\":\"Triangle\"},{\"attributes\":{},\"id\":\"1058\",\"type\":\"LinearScale\"},{\"attributes\":{},\"id\":\"1032\",\"type\":\"LinearScale\"},{\"attributes\":{},\"id\":\"1009\",\"type\":\"LinearScale\"},{\"attributes\":{},\"id\":\"1083\",\"type\":\"BasicTickFormatter\"},{\"attributes\":{},\"id\":\"1060\",\"type\":\"LinearScale\"},{\"attributes\":{},\"id\":\"1034\",\"type\":\"LinearScale\"},{\"attributes\":{\"formatter\":{\"id\":\"1085\"},\"ticker\":{\"id\":\"1012\"}},\"id\":\"1011\",\"type\":\"LinearAxis\"},{\"attributes\":{},\"id\":\"1020\",\"type\":\"WheelZoomTool\"},{\"attributes\":{\"formatter\":{\"id\":\"1103\"},\"ticker\":{\"id\":\"1063\"}},\"id\":\"1062\",\"type\":\"LinearAxis\"},{\"attributes\":{},\"id\":\"1085\",\"type\":\"BasicTickFormatter\"},{\"attributes\":{\"formatter\":{\"id\":\"1094\"},\"ticker\":{\"id\":\"1037\"}},\"id\":\"1036\",\"type\":\"LinearAxis\"},{\"attributes\":{},\"id\":\"1012\",\"type\":\"BasicTicker\"},{\"attributes\":{},\"id\":\"1086\",\"type\":\"UnionRenderers\"},{\"attributes\":{},\"id\":\"1063\",\"type\":\"BasicTicker\"},{\"attributes\":{},\"id\":\"1037\",\"type\":\"BasicTicker\"},{\"attributes\":{\"axis\":{\"id\":\"1011\"},\"ticker\":null},\"id\":\"1014\",\"type\":\"Grid\"},{\"attributes\":{},\"id\":\"1087\",\"type\":\"Selection\"},{\"attributes\":{\"axis\":{\"id\":\"1062\"},\"ticker\":null},\"id\":\"1065\",\"type\":\"Grid\"},{\"attributes\":{\"axis\":{\"id\":\"1036\"},\"ticker\":null},\"id\":\"1039\",\"type\":\"Grid\"},{\"attributes\":{\"formatter\":{\"id\":\"1083\"},\"ticker\":{\"id\":\"1016\"}},\"id\":\"1015\",\"type\":\"LinearAxis\"},{\"attributes\":{\"text\":\"\"},\"id\":\"1090\",\"type\":\"Title\"},{\"attributes\":{\"formatter\":{\"id\":\"1101\"},\"ticker\":{\"id\":\"1067\"}},\"id\":\"1066\",\"type\":\"LinearAxis\"},{\"attributes\":{\"formatter\":{\"id\":\"1092\"},\"ticker\":{\"id\":\"1041\"}},\"id\":\"1040\",\"type\":\"LinearAxis\"},{\"attributes\":{},\"id\":\"1016\",\"type\":\"BasicTicker\"},{\"attributes\":{},\"id\":\"1092\",\"type\":\"BasicTickFormatter\"},{\"attributes\":{},\"id\":\"1067\",\"type\":\"BasicTicker\"},{\"attributes\":{},\"id\":\"1041\",\"type\":\"BasicTicker\"},{\"attributes\":{\"axis\":{\"id\":\"1015\"},\"dimension\":1,\"ticker\":null},\"id\":\"1018\",\"type\":\"Grid\"},{\"attributes\":{\"below\":[{\"id\":\"1011\"}],\"center\":[{\"id\":\"1014\"},{\"id\":\"1018\"}],\"left\":[{\"id\":\"1015\"}],\"plot_height\":250,\"plot_width\":250,\"renderers\":[{\"id\":\"1027\"}],\"title\":{\"id\":\"1081\"},\"toolbar\":{\"id\":\"1021\"},\"toolbar_location\":null,\"x_range\":{\"id\":\"1003\"},\"x_scale\":{\"id\":\"1007\"},\"y_range\":{\"id\":\"1005\"},\"y_scale\":{\"id\":\"1009\"}},\"id\":\"1002\",\"subtype\":\"Figure\",\"type\":\"Plot\"},{\"attributes\":{\"axis\":{\"id\":\"1066\"},\"dimension\":1,\"ticker\":null},\"id\":\"1069\",\"type\":\"Grid\"},{\"attributes\":{},\"id\":\"1094\",\"type\":\"BasicTickFormatter\"},{\"attributes\":{\"axis\":{\"id\":\"1040\"},\"dimension\":1,\"ticker\":null},\"id\":\"1043\",\"type\":\"Grid\"},{\"attributes\":{\"below\":[{\"id\":\"1036\"}],\"center\":[{\"id\":\"1039\"},{\"id\":\"1043\"}],\"left\":[{\"id\":\"1040\"}],\"plot_height\":250,\"plot_width\":250,\"renderers\":[{\"id\":\"1052\"}],\"title\":{\"id\":\"1090\"},\"toolbar\":{\"id\":\"1046\"},\"toolbar_location\":null,\"x_range\":{\"id\":\"1003\"},\"x_scale\":{\"id\":\"1032\"},\"y_range\":{\"id\":\"1005\"},\"y_scale\":{\"id\":\"1034\"}},\"id\":\"1029\",\"subtype\":\"Figure\",\"type\":\"Plot\"},{\"attributes\":{},\"id\":\"1095\",\"type\":\"UnionRenderers\"},{\"attributes\":{\"children\":[[{\"id\":\"1002\"},0,0],[{\"id\":\"1029\"},0,1],[{\"id\":\"1054\"},0,2]]},\"id\":\"1107\",\"type\":\"GridBox\"},{\"attributes\":{\"active_drag\":\"auto\",\"active_inspect\":\"auto\",\"active_multi\":null,\"active_scroll\":\"auto\",\"active_tap\":\"auto\",\"tools\":[{\"id\":\"1044\"},{\"id\":\"1045\"}]},\"id\":\"1046\",\"type\":\"Toolbar\"},{\"attributes\":{},\"id\":\"1019\",\"type\":\"PanTool\"},{\"attributes\":{\"data\":{\"x\":[0,1,2,3,4,5,6,7,8,9,10],\"y\":[0,1,2,3,4,5,6,7,8,9,10]},\"selected\":{\"id\":\"1087\"},\"selection_policy\":{\"id\":\"1086\"}},\"id\":\"1024\",\"type\":\"ColumnDataSource\"},{\"attributes\":{},\"id\":\"1070\",\"type\":\"PanTool\"},{\"attributes\":{},\"id\":\"1096\",\"type\":\"Selection\"},{\"attributes\":{},\"id\":\"1044\",\"type\":\"PanTool\"},{\"attributes\":{\"source\":{\"id\":\"1049\"}},\"id\":\"1053\",\"type\":\"CDSView\"},{\"attributes\":{},\"id\":\"1101\",\"type\":\"BasicTickFormatter\"},{\"attributes\":{\"below\":[{\"id\":\"1062\"}],\"center\":[{\"id\":\"1065\"},{\"id\":\"1069\"}],\"left\":[{\"id\":\"1066\"}],\"plot_height\":250,\"plot_width\":250,\"renderers\":[{\"id\":\"1078\"}],\"title\":{\"id\":\"1099\"},\"toolbar\":{\"id\":\"1072\"},\"toolbar_location\":null,\"x_range\":{\"id\":\"1003\"},\"x_scale\":{\"id\":\"1058\"},\"y_range\":{\"id\":\"1056\"},\"y_scale\":{\"id\":\"1060\"}},\"id\":\"1054\",\"subtype\":\"Figure\",\"type\":\"Plot\"},{\"attributes\":{},\"id\":\"1071\",\"type\":\"WheelZoomTool\"},{\"attributes\":{},\"id\":\"1045\",\"type\":\"WheelZoomTool\"},{\"attributes\":{\"active_drag\":\"auto\",\"active_inspect\":\"auto\",\"active_multi\":null,\"active_scroll\":\"auto\",\"active_tap\":\"auto\",\"tools\":[{\"id\":\"1019\"},{\"id\":\"1020\"}]},\"id\":\"1021\",\"type\":\"Toolbar\"},{\"attributes\":{},\"id\":\"1103\",\"type\":\"BasicTickFormatter\"},{\"attributes\":{\"text\":\"\"},\"id\":\"1099\",\"type\":\"Title\"},{\"attributes\":{},\"id\":\"1003\",\"type\":\"DataRange1d\"},{\"attributes\":{\"active_drag\":\"auto\",\"active_inspect\":\"auto\",\"active_multi\":null,\"active_scroll\":\"auto\",\"active_tap\":\"auto\",\"tools\":[{\"id\":\"1070\"},{\"id\":\"1071\"}]},\"id\":\"1072\",\"type\":\"Toolbar\"},{\"attributes\":{},\"id\":\"1104\",\"type\":\"UnionRenderers\"},{\"attributes\":{\"fill_color\":{\"value\":\"olive\"},\"line_color\":{\"value\":\"olive\"},\"size\":{\"units\":\"screen\",\"value\":10},\"x\":{\"field\":\"x\"},\"y\":{\"field\":\"y\"}},\"id\":\"1076\",\"type\":\"Square\"},{\"attributes\":{},\"id\":\"1105\",\"type\":\"Selection\"},{\"attributes\":{\"fill_color\":{\"value\":\"navy\"},\"line_color\":{\"value\":\"navy\"},\"size\":{\"units\":\"screen\",\"value\":10},\"x\":{\"field\":\"x\"},\"y\":{\"field\":\"y\"}},\"id\":\"1025\",\"type\":\"Circle\"},{\"attributes\":{\"text\":\"\"},\"id\":\"1081\",\"type\":\"Title\"},{\"attributes\":{\"toolbars\":[{\"id\":\"1021\"},{\"id\":\"1046\"},{\"id\":\"1072\"}],\"tools\":[{\"id\":\"1019\"},{\"id\":\"1020\"},{\"id\":\"1044\"},{\"id\":\"1045\"},{\"id\":\"1070\"},{\"id\":\"1071\"}]},\"id\":\"1108\",\"type\":\"ProxyToolbar\"}],\"root_ids\":[\"1110\"]},\"title\":\"Bokeh Application\",\"version\":\"2.0.2\"}};\n",
       "  var render_items = [{\"docid\":\"cbf3ad78-fe0b-45cc-803e-d415702e35be\",\"root_ids\":[\"1110\"],\"roots\":{\"1110\":\"3372f0a7-c0a0-44cb-8871-2da0ffee6454\"}}];\n",
       "  root.Bokeh.embed.embed_items_notebook(docs_json, render_items);\n",
       "\n",
       "  }\n",
       "  if (root.Bokeh !== undefined) {\n",
       "    embed_document(root);\n",
       "  } else {\n",
       "    var attempts = 0;\n",
       "    var timer = setInterval(function(root) {\n",
       "      if (root.Bokeh !== undefined) {\n",
       "        clearInterval(timer);\n",
       "        embed_document(root);\n",
       "      } else {\n",
       "        attempts++;\n",
       "        if (attempts > 100) {\n",
       "          clearInterval(timer);\n",
       "          console.log(\"Bokeh: ERROR: Unable to run BokehJS code because BokehJS library is missing\");\n",
       "        }\n",
       "      }\n",
       "    }, 10, root)\n",
       "  }\n",
       "})(window);"
      ],
      "application/vnd.bokehjs_exec.v0+json": ""
     },
     "metadata": {
      "application/vnd.bokehjs_exec.v0+json": {
       "id": "1110"
      }
     },
     "output_type": "display_data"
    }
   ],
   "source": [
    "from bokeh.layouts import gridplot\n",
    "\n",
    "x = list(range(11))\n",
    "y0, y1, y2 = x, [10-i for i in x], [abs(i-5) for i in x]\n",
    "\n",
    "plot_options = dict(width=250, plot_height=250, tools='pan,wheel_zoom')\n",
    "\n",
    "# create a new plot\n",
    "s1 = figure(**plot_options)\n",
    "s1.circle(x, y0, size=10, color=\"navy\")\n",
    "\n",
    "# create a new plot and share both ranges\n",
    "s2 = figure(x_range=s1.x_range, y_range=s1.y_range, **plot_options)\n",
    "s2.triangle(x, y1, size=10, color=\"firebrick\")\n",
    "\n",
    "# create a new plot and share only one range\n",
    "s3 = figure(x_range=s1.x_range, **plot_options)\n",
    "s3.square(x, y2, size=10, color=\"olive\")\n",
    "\n",
    "p = gridplot([[s1, s2, s3]])\n",
    "\n",
    "# show the results\n",
    "show(p)"
   ]
  },
  {
   "cell_type": "code",
   "execution_count": 3,
   "metadata": {},
   "outputs": [],
   "source": [
    "# EXERCISE: create two plots in a gridplot, and link their ranges\n"
   ]
  },
  {
   "cell_type": "markdown",
   "metadata": {},
   "source": [
    "## Linked brushing\n",
    "\n",
    "Linking selections is accomplished in a similar way, by sharing data sources between plots. Note that normally with ``bokeh.plotting`` and ``bokeh.charts`` creating a default data source for simple plots is handled automatically. However to share a data source, we must create them by hand and pass them explicitly. This is illustrated in the example below:"
   ]
  },
  {
   "cell_type": "code",
   "execution_count": 4,
   "metadata": {},
   "outputs": [
    {
     "data": {
      "text/html": [
       "\n",
       "\n",
       "\n",
       "\n",
       "\n",
       "\n",
       "  <div class=\"bk-root\" id=\"3d067468-b47f-4e8c-8711-84b68407880f\" data-root-id=\"1367\"></div>\n"
      ]
     },
     "metadata": {},
     "output_type": "display_data"
    },
    {
     "data": {
      "application/javascript": [
       "(function(root) {\n",
       "  function embed_document(root) {\n",
       "    \n",
       "  var docs_json = {\"d3222544-9378-4876-a49c-e3cc04be8d44\":{\"roots\":{\"references\":[{\"attributes\":{\"children\":[{\"id\":\"1366\"},{\"id\":\"1364\"}]},\"id\":\"1367\",\"type\":\"Column\"},{\"attributes\":{},\"id\":\"1314\",\"type\":\"DataRange1d\"},{\"attributes\":{},\"id\":\"1290\",\"type\":\"BasicTicker\"},{\"attributes\":{},\"id\":\"1312\",\"type\":\"DataRange1d\"},{\"attributes\":{},\"id\":\"1318\",\"type\":\"LinearScale\"},{\"attributes\":{\"active_drag\":\"auto\",\"active_inspect\":\"auto\",\"active_multi\":null,\"active_scroll\":\"auto\",\"active_tap\":\"auto\",\"tools\":[{\"id\":\"1297\"},{\"id\":\"1298\"},{\"id\":\"1299\"}]},\"id\":\"1302\",\"type\":\"Toolbar\"},{\"attributes\":{},\"id\":\"1294\",\"type\":\"BasicTicker\"},{\"attributes\":{},\"id\":\"1345\",\"type\":\"BasicTickFormatter\"},{\"attributes\":{\"overlay\":{\"id\":\"1301\"}},\"id\":\"1298\",\"type\":\"LassoSelectTool\"},{\"attributes\":{\"axis\":{\"id\":\"1289\"},\"ticker\":null},\"id\":\"1292\",\"type\":\"Grid\"},{\"attributes\":{\"fill_alpha\":{\"value\":0.1},\"fill_color\":{\"value\":\"#1f77b4\"},\"line_alpha\":{\"value\":0.1},\"line_color\":{\"value\":\"#1f77b4\"},\"x\":{\"field\":\"x\"},\"y\":{\"field\":\"y0\"}},\"id\":\"1308\",\"type\":\"Circle\"},{\"attributes\":{\"children\":[[{\"id\":\"1280\"},0,0],[{\"id\":\"1311\"},0,1]]},\"id\":\"1364\",\"type\":\"GridBox\"},{\"attributes\":{\"formatter\":{\"id\":\"1345\"},\"ticker\":{\"id\":\"1294\"}},\"id\":\"1293\",\"type\":\"LinearAxis\"},{\"attributes\":{},\"id\":\"1299\",\"type\":\"HelpTool\"},{\"attributes\":{\"axis\":{\"id\":\"1293\"},\"dimension\":1,\"ticker\":null},\"id\":\"1296\",\"type\":\"Grid\"},{\"attributes\":{\"fill_color\":{\"value\":\"#1f77b4\"},\"line_color\":{\"value\":\"#1f77b4\"},\"x\":{\"field\":\"x\"},\"y\":{\"field\":\"y0\"}},\"id\":\"1307\",\"type\":\"Circle\"},{\"attributes\":{},\"id\":\"1347\",\"type\":\"BasicTickFormatter\"},{\"attributes\":{},\"id\":\"1348\",\"type\":\"UnionRenderers\"},{\"attributes\":{\"formatter\":{\"id\":\"1356\"},\"ticker\":{\"id\":\"1325\"}},\"id\":\"1324\",\"type\":\"LinearAxis\"},{\"attributes\":{\"overlay\":{\"id\":\"1300\"}},\"id\":\"1297\",\"type\":\"BoxSelectTool\"},{\"attributes\":{},\"id\":\"1349\",\"type\":\"Selection\"},{\"attributes\":{\"text\":\"\"},\"id\":\"1354\",\"type\":\"Title\"},{\"attributes\":{},\"id\":\"1325\",\"type\":\"BasicTicker\"},{\"attributes\":{\"fill_alpha\":{\"value\":0.1},\"fill_color\":{\"value\":\"#1f77b4\"},\"line_alpha\":{\"value\":0.1},\"line_color\":{\"value\":\"#1f77b4\"},\"x\":{\"field\":\"x\"},\"y\":{\"field\":\"y1\"}},\"id\":\"1339\",\"type\":\"Circle\"},{\"attributes\":{},\"id\":\"1356\",\"type\":\"BasicTickFormatter\"},{\"attributes\":{\"axis\":{\"id\":\"1324\"},\"dimension\":1,\"ticker\":null},\"id\":\"1327\",\"type\":\"Grid\"},{\"attributes\":{},\"id\":\"1358\",\"type\":\"BasicTickFormatter\"},{\"attributes\":{\"text\":\"\"},\"id\":\"1343\",\"type\":\"Title\"},{\"attributes\":{\"overlay\":{\"id\":\"1332\"}},\"id\":\"1329\",\"type\":\"LassoSelectTool\"},{\"attributes\":{\"data_source\":{\"id\":\"1279\"},\"glyph\":{\"id\":\"1307\"},\"hover_glyph\":null,\"muted_glyph\":null,\"nonselection_glyph\":{\"id\":\"1308\"},\"selection_glyph\":null,\"view\":{\"id\":\"1310\"}},\"id\":\"1309\",\"type\":\"GlyphRenderer\"},{\"attributes\":{\"overlay\":{\"id\":\"1331\"}},\"id\":\"1328\",\"type\":\"BoxSelectTool\"},{\"attributes\":{\"data\":{\"x\":[-20,-19,-18,-17,-16,-15,-14,-13,-12,-11,-10,-9,-8,-7,-6,-5,-4,-3,-2,-1,0,1,2,3,4,5,6,7,8,9,10,11,12,13,14,15,16,17,18,19,20],\"y0\":[20,19,18,17,16,15,14,13,12,11,10,9,8,7,6,5,4,3,2,1,0,1,2,3,4,5,6,7,8,9,10,11,12,13,14,15,16,17,18,19,20],\"y1\":[400,361,324,289,256,225,196,169,144,121,100,81,64,49,36,25,16,9,4,1,0,1,4,9,16,25,36,49,64,81,100,121,144,169,196,225,256,289,324,361,400]},\"selected\":{\"id\":\"1349\"},\"selection_policy\":{\"id\":\"1348\"}},\"id\":\"1279\",\"type\":\"ColumnDataSource\"},{\"attributes\":{\"formatter\":{\"id\":\"1358\"},\"ticker\":{\"id\":\"1321\"}},\"id\":\"1320\",\"type\":\"LinearAxis\"},{\"attributes\":{},\"id\":\"1330\",\"type\":\"HelpTool\"},{\"attributes\":{},\"id\":\"1321\",\"type\":\"BasicTicker\"},{\"attributes\":{\"bottom_units\":\"screen\",\"fill_alpha\":0.5,\"fill_color\":\"lightgrey\",\"left_units\":\"screen\",\"level\":\"overlay\",\"line_alpha\":1.0,\"line_color\":\"black\",\"line_dash\":[4,4],\"line_width\":2,\"render_mode\":\"css\",\"right_units\":\"screen\",\"top_units\":\"screen\"},\"id\":\"1331\",\"type\":\"BoxAnnotation\"},{\"attributes\":{\"below\":[{\"id\":\"1289\"}],\"center\":[{\"id\":\"1292\"},{\"id\":\"1296\"}],\"left\":[{\"id\":\"1293\"}],\"plot_height\":300,\"plot_width\":300,\"renderers\":[{\"id\":\"1309\"}],\"title\":{\"id\":\"1343\"},\"toolbar\":{\"id\":\"1302\"},\"toolbar_location\":null,\"x_range\":{\"id\":\"1281\"},\"x_scale\":{\"id\":\"1285\"},\"y_range\":{\"id\":\"1283\"},\"y_scale\":{\"id\":\"1287\"}},\"id\":\"1280\",\"subtype\":\"Figure\",\"type\":\"Plot\"},{\"attributes\":{\"toolbar\":{\"id\":\"1365\"},\"toolbar_location\":\"above\"},\"id\":\"1366\",\"type\":\"ToolbarBox\"},{\"attributes\":{\"active_drag\":\"auto\",\"active_inspect\":\"auto\",\"active_multi\":null,\"active_scroll\":\"auto\",\"active_tap\":\"auto\",\"tools\":[{\"id\":\"1328\"},{\"id\":\"1329\"},{\"id\":\"1330\"}]},\"id\":\"1333\",\"type\":\"Toolbar\"},{\"attributes\":{},\"id\":\"1281\",\"type\":\"DataRange1d\"},{\"attributes\":{},\"id\":\"1316\",\"type\":\"LinearScale\"},{\"attributes\":{\"fill_color\":{\"value\":\"#1f77b4\"},\"line_color\":{\"value\":\"#1f77b4\"},\"x\":{\"field\":\"x\"},\"y\":{\"field\":\"y1\"}},\"id\":\"1338\",\"type\":\"Circle\"},{\"attributes\":{\"below\":[{\"id\":\"1320\"}],\"center\":[{\"id\":\"1323\"},{\"id\":\"1327\"}],\"left\":[{\"id\":\"1324\"}],\"plot_height\":300,\"plot_width\":300,\"renderers\":[{\"id\":\"1340\"}],\"title\":{\"id\":\"1354\"},\"toolbar\":{\"id\":\"1333\"},\"toolbar_location\":null,\"x_range\":{\"id\":\"1312\"},\"x_scale\":{\"id\":\"1316\"},\"y_range\":{\"id\":\"1314\"},\"y_scale\":{\"id\":\"1318\"}},\"id\":\"1311\",\"subtype\":\"Figure\",\"type\":\"Plot\"},{\"attributes\":{\"fill_alpha\":0.5,\"fill_color\":\"lightgrey\",\"level\":\"overlay\",\"line_alpha\":1.0,\"line_color\":\"black\",\"line_dash\":[4,4],\"line_width\":2,\"xs_units\":\"screen\",\"ys_units\":\"screen\"},\"id\":\"1301\",\"type\":\"PolyAnnotation\"},{\"attributes\":{\"data_source\":{\"id\":\"1279\"},\"glyph\":{\"id\":\"1338\"},\"hover_glyph\":null,\"muted_glyph\":null,\"nonselection_glyph\":{\"id\":\"1339\"},\"selection_glyph\":null,\"view\":{\"id\":\"1341\"}},\"id\":\"1340\",\"type\":\"GlyphRenderer\"},{\"attributes\":{\"fill_alpha\":0.5,\"fill_color\":\"lightgrey\",\"level\":\"overlay\",\"line_alpha\":1.0,\"line_color\":\"black\",\"line_dash\":[4,4],\"line_width\":2,\"xs_units\":\"screen\",\"ys_units\":\"screen\"},\"id\":\"1332\",\"type\":\"PolyAnnotation\"},{\"attributes\":{\"toolbars\":[{\"id\":\"1302\"},{\"id\":\"1333\"}],\"tools\":[{\"id\":\"1297\"},{\"id\":\"1298\"},{\"id\":\"1299\"},{\"id\":\"1328\"},{\"id\":\"1329\"},{\"id\":\"1330\"}]},\"id\":\"1365\",\"type\":\"ProxyToolbar\"},{\"attributes\":{},\"id\":\"1283\",\"type\":\"DataRange1d\"},{\"attributes\":{\"bottom_units\":\"screen\",\"fill_alpha\":0.5,\"fill_color\":\"lightgrey\",\"left_units\":\"screen\",\"level\":\"overlay\",\"line_alpha\":1.0,\"line_color\":\"black\",\"line_dash\":[4,4],\"line_width\":2,\"render_mode\":\"css\",\"right_units\":\"screen\",\"top_units\":\"screen\"},\"id\":\"1300\",\"type\":\"BoxAnnotation\"},{\"attributes\":{\"formatter\":{\"id\":\"1347\"},\"ticker\":{\"id\":\"1290\"}},\"id\":\"1289\",\"type\":\"LinearAxis\"},{\"attributes\":{},\"id\":\"1285\",\"type\":\"LinearScale\"},{\"attributes\":{\"source\":{\"id\":\"1279\"}},\"id\":\"1341\",\"type\":\"CDSView\"},{\"attributes\":{\"source\":{\"id\":\"1279\"}},\"id\":\"1310\",\"type\":\"CDSView\"},{\"attributes\":{},\"id\":\"1287\",\"type\":\"LinearScale\"},{\"attributes\":{\"axis\":{\"id\":\"1320\"},\"ticker\":null},\"id\":\"1323\",\"type\":\"Grid\"}],\"root_ids\":[\"1367\"]},\"title\":\"Bokeh Application\",\"version\":\"2.0.2\"}};\n",
       "  var render_items = [{\"docid\":\"d3222544-9378-4876-a49c-e3cc04be8d44\",\"root_ids\":[\"1367\"],\"roots\":{\"1367\":\"3d067468-b47f-4e8c-8711-84b68407880f\"}}];\n",
       "  root.Bokeh.embed.embed_items_notebook(docs_json, render_items);\n",
       "\n",
       "  }\n",
       "  if (root.Bokeh !== undefined) {\n",
       "    embed_document(root);\n",
       "  } else {\n",
       "    var attempts = 0;\n",
       "    var timer = setInterval(function(root) {\n",
       "      if (root.Bokeh !== undefined) {\n",
       "        clearInterval(timer);\n",
       "        embed_document(root);\n",
       "      } else {\n",
       "        attempts++;\n",
       "        if (attempts > 100) {\n",
       "          clearInterval(timer);\n",
       "          console.log(\"Bokeh: ERROR: Unable to run BokehJS code because BokehJS library is missing\");\n",
       "        }\n",
       "      }\n",
       "    }, 10, root)\n",
       "  }\n",
       "})(window);"
      ],
      "application/vnd.bokehjs_exec.v0+json": ""
     },
     "metadata": {
      "application/vnd.bokehjs_exec.v0+json": {
       "id": "1367"
      }
     },
     "output_type": "display_data"
    }
   ],
   "source": [
    "from bokeh.models import ColumnDataSource\n",
    "\n",
    "x = list(range(-20, 21))\n",
    "y0, y1 = [abs(xx) for xx in x], [xx**2 for xx in x]\n",
    "\n",
    "# create a column data source for the plots to share\n",
    "source = ColumnDataSource(data=dict(x=x, y0=y0, y1=y1))\n",
    "\n",
    "TOOLS = \"box_select,lasso_select,help\"\n",
    "\n",
    "# create a new plot and add a renderer\n",
    "left = figure(tools=TOOLS, width=300, height=300)\n",
    "left.circle('x', 'y0', source=source)\n",
    "\n",
    "# create another new plot and add a renderer\n",
    "right = figure(tools=TOOLS, width=300, height=300)\n",
    "right.circle('x', 'y1', source=source)\n",
    "\n",
    "p = gridplot([[left, right]])\n",
    "\n",
    "show(p)"
   ]
  },
  {
   "cell_type": "code",
   "execution_count": 5,
   "metadata": {},
   "outputs": [],
   "source": [
    "# EXERCISE: create two plots in a gridplot, and link their data sources\n",
    "\n"
   ]
  },
  {
   "cell_type": "markdown",
   "metadata": {},
   "source": [
    "# Hover Tools\n",
    "\n",
    "Bokeh has a Hover Tool that allows additional information to be displayed in a popup whenever the user hovers over a specific glyph. Basic hover tool configuration amounts to providing a list of ``(name, format)`` tuples. The full details can be found in the User's Guide [here](https://bokeh.pydata.org/en/latest/docs/user_guide/tools.html#hovertool).\n",
    "\n",
    "The example below shows some basic usage of the Hover tool with a circle glyph, using hover information defined in utils.py:"
   ]
  },
  {
   "cell_type": "code",
   "execution_count": 6,
   "metadata": {},
   "outputs": [
    {
     "data": {
      "text/html": [
       "\n",
       "\n",
       "\n",
       "\n",
       "\n",
       "\n",
       "  <div class=\"bk-root\" id=\"c34c0d3e-bc11-4689-b687-c37f41097b95\" data-root-id=\"1522\"></div>\n"
      ]
     },
     "metadata": {},
     "output_type": "display_data"
    },
    {
     "data": {
      "application/javascript": [
       "(function(root) {\n",
       "  function embed_document(root) {\n",
       "    \n",
       "  var docs_json = {\"1f3bfde9-68f0-4d6b-9fd7-72719e01a51e\":{\"roots\":{\"references\":[{\"attributes\":{\"below\":[{\"id\":\"1533\"}],\"center\":[{\"id\":\"1536\"},{\"id\":\"1540\"}],\"left\":[{\"id\":\"1537\"}],\"plot_height\":300,\"plot_width\":300,\"renderers\":[{\"id\":\"1546\"}],\"title\":{\"id\":\"1523\"},\"toolbar\":{\"id\":\"1541\"},\"x_range\":{\"id\":\"1525\"},\"x_scale\":{\"id\":\"1529\"},\"y_range\":{\"id\":\"1527\"},\"y_scale\":{\"id\":\"1531\"}},\"id\":\"1522\",\"subtype\":\"Figure\",\"type\":\"Plot\"},{\"attributes\":{\"formatter\":{\"id\":\"1592\"},\"ticker\":{\"id\":\"1538\"}},\"id\":\"1537\",\"type\":\"LinearAxis\"},{\"attributes\":{},\"id\":\"1534\",\"type\":\"BasicTicker\"},{\"attributes\":{\"formatter\":{\"id\":\"1594\"},\"ticker\":{\"id\":\"1534\"}},\"id\":\"1533\",\"type\":\"LinearAxis\"},{\"attributes\":{\"fill_color\":{\"value\":\"#1f77b4\"},\"line_color\":{\"value\":\"#1f77b4\"},\"size\":{\"units\":\"screen\",\"value\":20},\"x\":{\"field\":\"x\"},\"y\":{\"field\":\"y\"}},\"id\":\"1544\",\"type\":\"Circle\"},{\"attributes\":{},\"id\":\"1538\",\"type\":\"BasicTicker\"},{\"attributes\":{\"axis\":{\"id\":\"1537\"},\"dimension\":1,\"ticker\":null},\"id\":\"1540\",\"type\":\"Grid\"},{\"attributes\":{},\"id\":\"1595\",\"type\":\"UnionRenderers\"},{\"attributes\":{\"active_drag\":\"auto\",\"active_inspect\":\"auto\",\"active_multi\":null,\"active_scroll\":\"auto\",\"active_tap\":\"auto\",\"tools\":[{\"id\":\"1521\"}]},\"id\":\"1541\",\"type\":\"Toolbar\"},{\"attributes\":{},\"id\":\"1531\",\"type\":\"LinearScale\"},{\"attributes\":{},\"id\":\"1594\",\"type\":\"BasicTickFormatter\"},{\"attributes\":{\"data_source\":{\"id\":\"1520\"},\"glyph\":{\"id\":\"1544\"},\"hover_glyph\":null,\"muted_glyph\":null,\"nonselection_glyph\":{\"id\":\"1545\"},\"selection_glyph\":null,\"view\":{\"id\":\"1547\"}},\"id\":\"1546\",\"type\":\"GlyphRenderer\"},{\"attributes\":{\"callback\":null,\"tooltips\":[[\"index\",\"$index\"],[\"(x,y)\",\"($x, $y)\"],[\"desc\",\"@desc\"]]},\"id\":\"1521\",\"type\":\"HoverTool\"},{\"attributes\":{\"data\":{\"desc\":[\"A\",\"b\",\"C\",\"d\",\"E\"],\"x\":[1,2,3,4,5],\"y\":[2,5,8,2,7]},\"selected\":{\"id\":\"1596\"},\"selection_policy\":{\"id\":\"1595\"}},\"id\":\"1520\",\"type\":\"ColumnDataSource\"},{\"attributes\":{},\"id\":\"1596\",\"type\":\"Selection\"},{\"attributes\":{\"fill_alpha\":{\"value\":0.1},\"fill_color\":{\"value\":\"#1f77b4\"},\"line_alpha\":{\"value\":0.1},\"line_color\":{\"value\":\"#1f77b4\"},\"size\":{\"units\":\"screen\",\"value\":20},\"x\":{\"field\":\"x\"},\"y\":{\"field\":\"y\"}},\"id\":\"1545\",\"type\":\"Circle\"},{\"attributes\":{\"text\":\"Mouse over the dots\"},\"id\":\"1523\",\"type\":\"Title\"},{\"attributes\":{},\"id\":\"1529\",\"type\":\"LinearScale\"},{\"attributes\":{\"source\":{\"id\":\"1520\"}},\"id\":\"1547\",\"type\":\"CDSView\"},{\"attributes\":{},\"id\":\"1592\",\"type\":\"BasicTickFormatter\"},{\"attributes\":{},\"id\":\"1527\",\"type\":\"DataRange1d\"},{\"attributes\":{},\"id\":\"1525\",\"type\":\"DataRange1d\"},{\"attributes\":{\"axis\":{\"id\":\"1533\"},\"ticker\":null},\"id\":\"1536\",\"type\":\"Grid\"}],\"root_ids\":[\"1522\"]},\"title\":\"Bokeh Application\",\"version\":\"2.0.2\"}};\n",
       "  var render_items = [{\"docid\":\"1f3bfde9-68f0-4d6b-9fd7-72719e01a51e\",\"root_ids\":[\"1522\"],\"roots\":{\"1522\":\"c34c0d3e-bc11-4689-b687-c37f41097b95\"}}];\n",
       "  root.Bokeh.embed.embed_items_notebook(docs_json, render_items);\n",
       "\n",
       "  }\n",
       "  if (root.Bokeh !== undefined) {\n",
       "    embed_document(root);\n",
       "  } else {\n",
       "    var attempts = 0;\n",
       "    var timer = setInterval(function(root) {\n",
       "      if (root.Bokeh !== undefined) {\n",
       "        clearInterval(timer);\n",
       "        embed_document(root);\n",
       "      } else {\n",
       "        attempts++;\n",
       "        if (attempts > 100) {\n",
       "          clearInterval(timer);\n",
       "          console.log(\"Bokeh: ERROR: Unable to run BokehJS code because BokehJS library is missing\");\n",
       "        }\n",
       "      }\n",
       "    }, 10, root)\n",
       "  }\n",
       "})(window);"
      ],
      "application/vnd.bokehjs_exec.v0+json": ""
     },
     "metadata": {
      "application/vnd.bokehjs_exec.v0+json": {
       "id": "1522"
      }
     },
     "output_type": "display_data"
    }
   ],
   "source": [
    "from bokeh.models import HoverTool\n",
    "\n",
    "source = ColumnDataSource(\n",
    "        data=dict(\n",
    "            x=[1, 2, 3, 4, 5],\n",
    "            y=[2, 5, 8, 2, 7],\n",
    "            desc=['A', 'b', 'C', 'd', 'E'],\n",
    "        )\n",
    "    )\n",
    "\n",
    "hover = HoverTool(\n",
    "        tooltips=[\n",
    "            (\"index\", \"$index\"),\n",
    "            (\"(x,y)\", \"($x, $y)\"),\n",
    "            (\"desc\", \"@desc\"),\n",
    "        ]\n",
    "    )\n",
    "\n",
    "p = figure(plot_width=300, plot_height=300, tools=[hover], title=\"Mouse over the dots\")\n",
    "\n",
    "p.circle('x', 'y', size=20, source=source)\n",
    "\n",
    "show(p)"
   ]
  },
  {
   "cell_type": "markdown",
   "metadata": {},
   "source": [
    "# Widgets"
   ]
  },
  {
   "cell_type": "markdown",
   "metadata": {},
   "source": [
    "Bokeh supports direct integration with a small basic widget set. These can be used in conjunction with a Bokeh Server, or with ``CustomJS`` models to add more interactive capability to your documents. You can see a complete list, with example code in the [Adding Widgets](https://bokeh.pydata.org/en/latest/docs/user_guide/interaction.html#adding-widgets) section of the User's Guide. \n",
    "\n",
    "\n",
    "\n",
    "*NOTE: In this Tutorial chapter, we will focus on using widgets with JavaScript callbacks. The Tutorial chapter on Bokeh server applications covers using Bokeh widgets with real Python callbacks*\n",
    "\n",
    "\n",
    "\n",
    "\n",
    "To use the widgets, include them in a layout like you would a plot object:"
   ]
  },
  {
   "cell_type": "code",
   "execution_count": 7,
   "metadata": {},
   "outputs": [
    {
     "data": {
      "text/html": [
       "\n",
       "\n",
       "\n",
       "\n",
       "\n",
       "\n",
       "  <div class=\"bk-root\" id=\"45a8a0c6-f1c7-4d03-97e2-2dc43325e9ed\" data-root-id=\"1639\"></div>\n"
      ]
     },
     "metadata": {},
     "output_type": "display_data"
    },
    {
     "data": {
      "application/javascript": [
       "(function(root) {\n",
       "  function embed_document(root) {\n",
       "    \n",
       "  var docs_json = {\"61b2a1f9-752d-4884-8f16-530843900c61\":{\"roots\":{\"references\":[{\"attributes\":{\"end\":10,\"format\":\"0[.]00\",\"start\":0,\"step\":0.1,\"title\":\"foo\",\"value\":1},\"id\":\"1639\",\"type\":\"Slider\"}],\"root_ids\":[\"1639\"]},\"title\":\"Bokeh Application\",\"version\":\"2.0.2\"}};\n",
       "  var render_items = [{\"docid\":\"61b2a1f9-752d-4884-8f16-530843900c61\",\"root_ids\":[\"1639\"],\"roots\":{\"1639\":\"45a8a0c6-f1c7-4d03-97e2-2dc43325e9ed\"}}];\n",
       "  root.Bokeh.embed.embed_items_notebook(docs_json, render_items);\n",
       "\n",
       "  }\n",
       "  if (root.Bokeh !== undefined) {\n",
       "    embed_document(root);\n",
       "  } else {\n",
       "    var attempts = 0;\n",
       "    var timer = setInterval(function(root) {\n",
       "      if (root.Bokeh !== undefined) {\n",
       "        clearInterval(timer);\n",
       "        embed_document(root);\n",
       "      } else {\n",
       "        attempts++;\n",
       "        if (attempts > 100) {\n",
       "          clearInterval(timer);\n",
       "          console.log(\"Bokeh: ERROR: Unable to run BokehJS code because BokehJS library is missing\");\n",
       "        }\n",
       "      }\n",
       "    }, 10, root)\n",
       "  }\n",
       "})(window);"
      ],
      "application/vnd.bokehjs_exec.v0+json": ""
     },
     "metadata": {
      "application/vnd.bokehjs_exec.v0+json": {
       "id": "1639"
      }
     },
     "output_type": "display_data"
    }
   ],
   "source": [
    "from bokeh.models.widgets import Slider\n",
    "\n",
    "\n",
    "slider = Slider(start=0, end=10, value=1, step=.1, title=\"foo\")\n",
    "\n",
    "show(slider)"
   ]
  },
  {
   "cell_type": "code",
   "execution_count": 8,
   "metadata": {},
   "outputs": [],
   "source": [
    "# EXERCISE: create and show a Select widget \n"
   ]
  },
  {
   "cell_type": "markdown",
   "metadata": {},
   "source": [
    "# CustomJS Callbacks\n",
    "\n",
    "In order for a widget to be useful, it needs to be able to perform some action. Using the Bokeh server, it is possible to have widgets trigger real Python code. That possibility will be explored in the Bokeh server chapter of the turorial. Here, we look at how widgets can be configured with `CustomJS` callbacks that execute snippets of JavaScript code. "
   ]
  },
  {
   "cell_type": "code",
   "execution_count": 9,
   "metadata": {},
   "outputs": [
    {
     "data": {
      "text/html": [
       "\n",
       "\n",
       "\n",
       "\n",
       "\n",
       "\n",
       "  <div class=\"bk-root\" id=\"a63188b6-3312-4a05-a52d-08fe64535a10\" data-root-id=\"1691\"></div>\n"
      ]
     },
     "metadata": {},
     "output_type": "display_data"
    },
    {
     "data": {
      "application/javascript": [
       "(function(root) {\n",
       "  function embed_document(root) {\n",
       "    \n",
       "  var docs_json = {\"e7377856-e43b-4ea9-b0f1-693c3eeb844e\":{\"roots\":{\"references\":[{\"attributes\":{\"below\":[{\"id\":\"1700\"}],\"center\":[{\"id\":\"1703\"},{\"id\":\"1707\"}],\"left\":[{\"id\":\"1704\"}],\"plot_height\":300,\"renderers\":[{\"id\":\"1713\"}],\"title\":{\"id\":\"1765\"},\"toolbar\":{\"id\":\"1708\"},\"x_range\":{\"id\":\"1692\"},\"x_scale\":{\"id\":\"1696\"},\"y_range\":{\"id\":\"1694\"},\"y_scale\":{\"id\":\"1698\"}},\"id\":\"1691\",\"subtype\":\"Figure\",\"type\":\"Plot\"},{\"attributes\":{\"formatter\":{\"id\":\"1767\"},\"ticker\":{\"id\":\"1705\"}},\"id\":\"1704\",\"type\":\"LinearAxis\"},{\"attributes\":{\"formatter\":{\"id\":\"1769\"},\"ticker\":{\"id\":\"1701\"}},\"id\":\"1700\",\"type\":\"LinearAxis\"},{\"attributes\":{},\"id\":\"1705\",\"type\":\"BasicTicker\"},{\"attributes\":{\"axis\":{\"id\":\"1704\"},\"dimension\":1,\"ticker\":null},\"id\":\"1707\",\"type\":\"Grid\"},{\"attributes\":{},\"id\":\"1767\",\"type\":\"BasicTickFormatter\"},{\"attributes\":{\"active_drag\":\"auto\",\"active_inspect\":\"auto\",\"active_multi\":null,\"active_scroll\":\"auto\",\"active_tap\":\"auto\",\"tools\":[{\"id\":\"1690\"}]},\"id\":\"1708\",\"type\":\"Toolbar\"},{\"attributes\":{\"text\":\"\"},\"id\":\"1765\",\"type\":\"Title\"},{\"attributes\":{\"fill_alpha\":{\"value\":0.1},\"fill_color\":{\"value\":\"#1f77b4\"},\"line_alpha\":{\"value\":0.1},\"line_color\":{\"value\":\"#1f77b4\"},\"size\":{\"units\":\"screen\",\"value\":20},\"x\":{\"field\":\"x\"},\"y\":{\"field\":\"y\"}},\"id\":\"1712\",\"type\":\"Circle\"},{\"attributes\":{},\"id\":\"1694\",\"type\":\"DataRange1d\"},{\"attributes\":{},\"id\":\"1692\",\"type\":\"DataRange1d\"},{\"attributes\":{},\"id\":\"1696\",\"type\":\"LinearScale\"},{\"attributes\":{\"source\":{\"id\":\"1710\"}},\"id\":\"1714\",\"type\":\"CDSView\"},{\"attributes\":{\"data_source\":{\"id\":\"1710\"},\"glyph\":{\"id\":\"1711\"},\"hover_glyph\":null,\"muted_glyph\":null,\"nonselection_glyph\":{\"id\":\"1712\"},\"selection_glyph\":null,\"view\":{\"id\":\"1714\"}},\"id\":\"1713\",\"type\":\"GlyphRenderer\"},{\"attributes\":{},\"id\":\"1698\",\"type\":\"LinearScale\"},{\"attributes\":{\"callback\":{\"id\":\"1689\"}},\"id\":\"1690\",\"type\":\"TapTool\"},{\"attributes\":{\"fill_color\":{\"value\":\"#1f77b4\"},\"line_color\":{\"value\":\"#1f77b4\"},\"size\":{\"units\":\"screen\",\"value\":20},\"x\":{\"field\":\"x\"},\"y\":{\"field\":\"y\"}},\"id\":\"1711\",\"type\":\"Circle\"},{\"attributes\":{},\"id\":\"1769\",\"type\":\"BasicTickFormatter\"},{\"attributes\":{\"axis\":{\"id\":\"1700\"},\"ticker\":null},\"id\":\"1703\",\"type\":\"Grid\"},{\"attributes\":{},\"id\":\"1770\",\"type\":\"UnionRenderers\"},{\"attributes\":{\"data\":{\"x\":[1,2,3,4,5],\"y\":[2,5,8,2,7]},\"selected\":{\"id\":\"1771\"},\"selection_policy\":{\"id\":\"1770\"}},\"id\":\"1710\",\"type\":\"ColumnDataSource\"},{\"attributes\":{\"code\":\"alert('you tapped a circle!')\"},\"id\":\"1689\",\"type\":\"CustomJS\"},{\"attributes\":{},\"id\":\"1701\",\"type\":\"BasicTicker\"},{\"attributes\":{},\"id\":\"1771\",\"type\":\"Selection\"}],\"root_ids\":[\"1691\"]},\"title\":\"Bokeh Application\",\"version\":\"2.0.2\"}};\n",
       "  var render_items = [{\"docid\":\"e7377856-e43b-4ea9-b0f1-693c3eeb844e\",\"root_ids\":[\"1691\"],\"roots\":{\"1691\":\"a63188b6-3312-4a05-a52d-08fe64535a10\"}}];\n",
       "  root.Bokeh.embed.embed_items_notebook(docs_json, render_items);\n",
       "\n",
       "  }\n",
       "  if (root.Bokeh !== undefined) {\n",
       "    embed_document(root);\n",
       "  } else {\n",
       "    var attempts = 0;\n",
       "    var timer = setInterval(function(root) {\n",
       "      if (root.Bokeh !== undefined) {\n",
       "        clearInterval(timer);\n",
       "        embed_document(root);\n",
       "      } else {\n",
       "        attempts++;\n",
       "        if (attempts > 100) {\n",
       "          clearInterval(timer);\n",
       "          console.log(\"Bokeh: ERROR: Unable to run BokehJS code because BokehJS library is missing\");\n",
       "        }\n",
       "      }\n",
       "    }, 10, root)\n",
       "  }\n",
       "})(window);"
      ],
      "application/vnd.bokehjs_exec.v0+json": ""
     },
     "metadata": {
      "application/vnd.bokehjs_exec.v0+json": {
       "id": "1691"
      }
     },
     "output_type": "display_data"
    }
   ],
   "source": [
    "from bokeh.models import TapTool, CustomJS, ColumnDataSource\n",
    "\n",
    "callback = CustomJS(code=\"alert('you tapped a circle!')\")\n",
    "tap = TapTool(callback=callback)\n",
    "\n",
    "p = figure(plot_width=600, plot_height=300, tools=[tap])\n",
    "\n",
    "p.circle(x=[1, 2, 3, 4, 5], y=[2, 5, 8, 2, 7], size=20)\n",
    "\n",
    "show(p)"
   ]
  },
  {
   "cell_type": "markdown",
   "metadata": {},
   "source": [
    "## CustomJS for Property changes\n",
    "\n",
    "Bokeh objects that have values associated can have small JavaScript actions attached to them using the `js_on_change` method. These actions (also referred to as \"callbacks\") are executed whenever the widget's value is changed. In order to make it easier to refer to specific Bokeh models (e.g., a data source, or a glyhph) from JavaScript, the ``CustomJS`` obejct also accepts a dictionary of \"args\" that map names to Python Bokeh models. The corresponding JavaScript models are made available automaticaly to the ``CustomJS`` code:\n",
    "\n",
    "```python\n",
    "CustomJS(args=dict(source=source, slider=slider), code=\"\"\"\n",
    "    // easily refer to BokehJS source and slider objects in this JS code\n",
    "    var data = source.data;\n",
    "    var f = slider.value;\n",
    "\"\"\")\n",
    "```"
   ]
  },
  {
   "cell_type": "markdown",
   "metadata": {},
   "source": [
    "### Slider widget example\n",
    "\n",
    "The example below shows an action attached to a slider that updates a data source whenever the slider is moved.  "
   ]
  },
  {
   "cell_type": "code",
   "execution_count": 10,
   "metadata": {},
   "outputs": [
    {
     "data": {
      "text/html": [
       "\n",
       "\n",
       "\n",
       "\n",
       "\n",
       "\n",
       "  <div class=\"bk-root\" id=\"e7d80023-1a1a-405e-9f14-439b641f5a1a\" data-root-id=\"1859\"></div>\n"
      ]
     },
     "metadata": {},
     "output_type": "display_data"
    },
    {
     "data": {
      "application/javascript": [
       "(function(root) {\n",
       "  function embed_document(root) {\n",
       "    \n",
       "  var docs_json = {\"cf69b907-7ac7-4bf9-8f94-dc57cb6512f4\":{\"roots\":{\"references\":[{\"attributes\":{\"children\":[{\"id\":\"1857\"},{\"id\":\"1821\"}]},\"id\":\"1859\",\"type\":\"Column\"},{\"attributes\":{},\"id\":\"1828\",\"type\":\"LinearScale\"},{\"attributes\":{},\"id\":\"1922\",\"type\":\"BasicTickFormatter\"},{\"attributes\":{\"formatter\":{\"id\":\"1920\"},\"ticker\":{\"id\":\"1835\"}},\"id\":\"1834\",\"type\":\"LinearAxis\"},{\"attributes\":{\"data\":{\"x\":[0.0,0.005,0.01,0.015,0.02,0.025,0.03,0.035,0.04,0.045,0.05,0.055,0.06,0.065,0.07,0.075,0.08,0.085,0.09,0.095,0.1,0.105,0.11,0.115,0.12,0.125,0.13,0.135,0.14,0.145,0.15,0.155,0.16,0.165,0.17,0.17500000000000002,0.18,0.185,0.19,0.195,0.2,0.20500000000000002,0.21,0.215,0.22,0.225,0.23,0.23500000000000001,0.24,0.245,0.25,0.255,0.26,0.265,0.27,0.275,0.28,0.28500000000000003,0.29,0.295,0.3,0.305,0.31,0.315,0.32,0.325,0.33,0.335,0.34,0.34500000000000003,0.35000000000000003,0.355,0.36,0.365,0.37,0.375,0.38,0.385,0.39,0.395,0.4,0.405,0.41000000000000003,0.41500000000000004,0.42,0.425,0.43,0.435,0.44,0.445,0.45,0.455,0.46,0.465,0.47000000000000003,0.47500000000000003,0.48,0.485,0.49,0.495,0.5,0.505,0.51,0.515,0.52,0.525,0.53,0.535,0.54,0.545,0.55,0.555,0.56,0.5650000000000001,0.5700000000000001,0.5750000000000001,0.58,0.585,0.59,0.595,0.6,0.605,0.61,0.615,0.62,0.625,0.63,0.635,0.64,0.645,0.65,0.655,0.66,0.665,0.67,0.675,0.68,0.685,0.6900000000000001,0.6950000000000001,0.7000000000000001,0.705,0.71,0.715,0.72,0.725,0.73,0.735,0.74,0.745,0.75,0.755,0.76,0.765,0.77,0.775,0.78,0.785,0.79,0.795,0.8,0.805,0.81,0.8150000000000001,0.8200000000000001,0.8250000000000001,0.8300000000000001,0.835,0.84,0.845,0.85,0.855,0.86,0.865,0.87,0.875,0.88,0.885,0.89,0.895,0.9,0.905,0.91,0.915,0.92,0.925,0.93,0.935,0.9400000000000001,0.9450000000000001,0.9500000000000001,0.9550000000000001,0.96,0.965,0.97,0.975,0.98,0.985,0.99,0.995,1.0],\"y\":[0.0,0.005,0.01,0.015,0.02,0.025,0.03,0.035,0.04,0.045,0.05,0.055,0.06,0.065,0.07,0.075,0.08,0.085,0.09,0.095,0.1,0.105,0.11,0.115,0.12,0.125,0.13,0.135,0.14,0.145,0.15,0.155,0.16,0.165,0.17,0.17500000000000002,0.18,0.185,0.19,0.195,0.2,0.20500000000000002,0.21,0.215,0.22,0.225,0.23,0.23500000000000001,0.24,0.245,0.25,0.255,0.26,0.265,0.27,0.275,0.28,0.28500000000000003,0.29,0.295,0.3,0.305,0.31,0.315,0.32,0.325,0.33,0.335,0.34,0.34500000000000003,0.35000000000000003,0.355,0.36,0.365,0.37,0.375,0.38,0.385,0.39,0.395,0.4,0.405,0.41000000000000003,0.41500000000000004,0.42,0.425,0.43,0.435,0.44,0.445,0.45,0.455,0.46,0.465,0.47000000000000003,0.47500000000000003,0.48,0.485,0.49,0.495,0.5,0.505,0.51,0.515,0.52,0.525,0.53,0.535,0.54,0.545,0.55,0.555,0.56,0.5650000000000001,0.5700000000000001,0.5750000000000001,0.58,0.585,0.59,0.595,0.6,0.605,0.61,0.615,0.62,0.625,0.63,0.635,0.64,0.645,0.65,0.655,0.66,0.665,0.67,0.675,0.68,0.685,0.6900000000000001,0.6950000000000001,0.7000000000000001,0.705,0.71,0.715,0.72,0.725,0.73,0.735,0.74,0.745,0.75,0.755,0.76,0.765,0.77,0.775,0.78,0.785,0.79,0.795,0.8,0.805,0.81,0.8150000000000001,0.8200000000000001,0.8250000000000001,0.8300000000000001,0.835,0.84,0.845,0.85,0.855,0.86,0.865,0.87,0.875,0.88,0.885,0.89,0.895,0.9,0.905,0.91,0.915,0.92,0.925,0.93,0.935,0.9400000000000001,0.9450000000000001,0.9500000000000001,0.9550000000000001,0.96,0.965,0.97,0.975,0.98,0.985,0.99,0.995,1.0]},\"selected\":{\"id\":\"1924\"},\"selection_policy\":{\"id\":\"1923\"}},\"id\":\"1820\",\"type\":\"ColumnDataSource\"},{\"attributes\":{\"line_alpha\":0.1,\"line_color\":\"#1f77b4\",\"line_width\":3,\"x\":{\"field\":\"x\"},\"y\":{\"field\":\"y\"}},\"id\":\"1854\",\"type\":\"Line\"},{\"attributes\":{},\"id\":\"1835\",\"type\":\"BasicTicker\"},{\"attributes\":{},\"id\":\"1923\",\"type\":\"UnionRenderers\"},{\"attributes\":{},\"id\":\"1924\",\"type\":\"Selection\"},{\"attributes\":{\"axis\":{\"id\":\"1834\"},\"dimension\":1,\"ticker\":null},\"id\":\"1837\",\"type\":\"Grid\"},{\"attributes\":{\"axis\":{\"id\":\"1830\"},\"ticker\":null},\"id\":\"1833\",\"type\":\"Grid\"},{\"attributes\":{\"end\":6,\"format\":\"0[.]00\",\"js_property_callbacks\":{\"change:value\":[{\"id\":\"1858\"}]},\"start\":0.1,\"step\":0.1,\"title\":\"power\",\"value\":1},\"id\":\"1857\",\"type\":\"Slider\"},{\"attributes\":{\"formatter\":{\"id\":\"1922\"},\"ticker\":{\"id\":\"1831\"}},\"id\":\"1830\",\"type\":\"LinearAxis\"},{\"attributes\":{\"source\":{\"id\":\"1820\"}},\"id\":\"1856\",\"type\":\"CDSView\"},{\"attributes\":{\"below\":[{\"id\":\"1830\"}],\"center\":[{\"id\":\"1833\"},{\"id\":\"1837\"}],\"left\":[{\"id\":\"1834\"}],\"plot_height\":400,\"plot_width\":400,\"renderers\":[{\"id\":\"1855\"}],\"title\":{\"id\":\"1918\"},\"toolbar\":{\"id\":\"1845\"},\"x_range\":{\"id\":\"1822\"},\"x_scale\":{\"id\":\"1826\"},\"y_range\":{\"id\":\"1824\"},\"y_scale\":{\"id\":\"1828\"}},\"id\":\"1821\",\"subtype\":\"Figure\",\"type\":\"Plot\"},{\"attributes\":{\"args\":{\"slider\":{\"id\":\"1857\"},\"source\":{\"id\":\"1820\"}},\"code\":\"\\n    var data = source.data;\\n    var f = slider.value;\\n    var x = data['x']\\n    var y = data['y']\\n    for (var i = 0; i < x.length; i++) {\\n        y[i] = Math.pow(x[i], f)\\n    }\\n    \\n    // necessary becasue we mutated source.data in-place\\n    source.change.emit();\\n\"},\"id\":\"1858\",\"type\":\"CustomJS\"},{\"attributes\":{},\"id\":\"1824\",\"type\":\"DataRange1d\"},{\"attributes\":{},\"id\":\"1838\",\"type\":\"PanTool\"},{\"attributes\":{},\"id\":\"1839\",\"type\":\"WheelZoomTool\"},{\"attributes\":{\"overlay\":{\"id\":\"1844\"}},\"id\":\"1840\",\"type\":\"BoxZoomTool\"},{\"attributes\":{},\"id\":\"1826\",\"type\":\"LinearScale\"},{\"attributes\":{},\"id\":\"1841\",\"type\":\"SaveTool\"},{\"attributes\":{},\"id\":\"1842\",\"type\":\"ResetTool\"},{\"attributes\":{},\"id\":\"1843\",\"type\":\"HelpTool\"},{\"attributes\":{},\"id\":\"1831\",\"type\":\"BasicTicker\"},{\"attributes\":{\"line_alpha\":0.6,\"line_color\":\"#1f77b4\",\"line_width\":3,\"x\":{\"field\":\"x\"},\"y\":{\"field\":\"y\"}},\"id\":\"1853\",\"type\":\"Line\"},{\"attributes\":{},\"id\":\"1822\",\"type\":\"DataRange1d\"},{\"attributes\":{\"active_drag\":\"auto\",\"active_inspect\":\"auto\",\"active_multi\":null,\"active_scroll\":\"auto\",\"active_tap\":\"auto\",\"tools\":[{\"id\":\"1838\"},{\"id\":\"1839\"},{\"id\":\"1840\"},{\"id\":\"1841\"},{\"id\":\"1842\"},{\"id\":\"1843\"}]},\"id\":\"1845\",\"type\":\"Toolbar\"},{\"attributes\":{\"bottom_units\":\"screen\",\"fill_alpha\":0.5,\"fill_color\":\"lightgrey\",\"left_units\":\"screen\",\"level\":\"overlay\",\"line_alpha\":1.0,\"line_color\":\"black\",\"line_dash\":[4,4],\"line_width\":2,\"render_mode\":\"css\",\"right_units\":\"screen\",\"top_units\":\"screen\"},\"id\":\"1844\",\"type\":\"BoxAnnotation\"},{\"attributes\":{\"data_source\":{\"id\":\"1820\"},\"glyph\":{\"id\":\"1853\"},\"hover_glyph\":null,\"muted_glyph\":null,\"nonselection_glyph\":{\"id\":\"1854\"},\"selection_glyph\":null,\"view\":{\"id\":\"1856\"}},\"id\":\"1855\",\"type\":\"GlyphRenderer\"},{\"attributes\":{\"text\":\"\"},\"id\":\"1918\",\"type\":\"Title\"},{\"attributes\":{},\"id\":\"1920\",\"type\":\"BasicTickFormatter\"}],\"root_ids\":[\"1859\"]},\"title\":\"Bokeh Application\",\"version\":\"2.0.2\"}};\n",
       "  var render_items = [{\"docid\":\"cf69b907-7ac7-4bf9-8f94-dc57cb6512f4\",\"root_ids\":[\"1859\"],\"roots\":{\"1859\":\"e7d80023-1a1a-405e-9f14-439b641f5a1a\"}}];\n",
       "  root.Bokeh.embed.embed_items_notebook(docs_json, render_items);\n",
       "\n",
       "  }\n",
       "  if (root.Bokeh !== undefined) {\n",
       "    embed_document(root);\n",
       "  } else {\n",
       "    var attempts = 0;\n",
       "    var timer = setInterval(function(root) {\n",
       "      if (root.Bokeh !== undefined) {\n",
       "        clearInterval(timer);\n",
       "        embed_document(root);\n",
       "      } else {\n",
       "        attempts++;\n",
       "        if (attempts > 100) {\n",
       "          clearInterval(timer);\n",
       "          console.log(\"Bokeh: ERROR: Unable to run BokehJS code because BokehJS library is missing\");\n",
       "        }\n",
       "      }\n",
       "    }, 10, root)\n",
       "  }\n",
       "})(window);"
      ],
      "application/vnd.bokehjs_exec.v0+json": ""
     },
     "metadata": {
      "application/vnd.bokehjs_exec.v0+json": {
       "id": "1859"
      }
     },
     "output_type": "display_data"
    }
   ],
   "source": [
    "from bokeh.layouts import column\n",
    "from bokeh.models import CustomJS, ColumnDataSource, Slider\n",
    "\n",
    "x = [x*0.005 for x in range(0, 201)]\n",
    "\n",
    "source = ColumnDataSource(data=dict(x=x, y=x))\n",
    "\n",
    "plot = figure(plot_width=400, plot_height=400)\n",
    "plot.line('x', 'y', source=source, line_width=3, line_alpha=0.6)\n",
    "\n",
    "slider = Slider(start=0.1, end=6, value=1, step=.1, title=\"power\")\n",
    "\n",
    "update_curve = CustomJS(args=dict(source=source, slider=slider), code=\"\"\"\n",
    "    var data = source.data;\n",
    "    var f = slider.value;\n",
    "    var x = data['x']\n",
    "    var y = data['y']\n",
    "    for (var i = 0; i < x.length; i++) {\n",
    "        y[i] = Math.pow(x[i], f)\n",
    "    }\n",
    "    \n",
    "    // necessary becasue we mutated source.data in-place\n",
    "    source.change.emit();\n",
    "\"\"\")\n",
    "slider.js_on_change('value', update_curve)\n",
    "\n",
    "\n",
    "show(column(slider, plot))"
   ]
  },
  {
   "cell_type": "code",
   "execution_count": 11,
   "metadata": {},
   "outputs": [],
   "source": [
    "# Exercise: Create a plot that updates based on a Select widget\n",
    "\n"
   ]
  },
  {
   "cell_type": "markdown",
   "metadata": {},
   "source": [
    "### Data selection example\n",
    "\n",
    "It's also possible to make JavaScript actions that execute whenever a user selection (e.g., box, point, lasso) changes. This is done by attaching the same kind of CustomJS object to whatever data source the selection is made on.\n",
    "\n",
    "The example below is a bit more sophisticated, and demonstrates updating one glyph's data source in response to another glyph's selection: "
   ]
  },
  {
   "cell_type": "code",
   "execution_count": 12,
   "metadata": {},
   "outputs": [
    {
     "data": {
      "text/html": [
       "\n",
       "\n",
       "\n",
       "\n",
       "\n",
       "\n",
       "  <div class=\"bk-root\" id=\"3fa9eed4-61dd-427b-9c0a-154d66c7191b\" data-root-id=\"1981\"></div>\n"
      ]
     },
     "metadata": {},
     "output_type": "display_data"
    },
    {
     "data": {
      "application/javascript": [
       "(function(root) {\n",
       "  function embed_document(root) {\n",
       "    \n",
       "  var docs_json = {\"60c61490-5b93-4f34-a7fc-079fa1fad2f5\":{\"roots\":{\"references\":[{\"attributes\":{\"below\":[{\"id\":\"1992\"}],\"center\":[{\"id\":\"1995\"},{\"id\":\"1999\"}],\"left\":[{\"id\":\"1996\"}],\"plot_height\":400,\"plot_width\":400,\"renderers\":[{\"id\":\"2008\"},{\"id\":\"2014\"}],\"title\":{\"id\":\"1982\"},\"toolbar\":{\"id\":\"2002\"},\"x_range\":{\"id\":\"1984\"},\"x_scale\":{\"id\":\"1988\"},\"y_range\":{\"id\":\"1986\"},\"y_scale\":{\"id\":\"1990\"}},\"id\":\"1981\",\"subtype\":\"Figure\",\"type\":\"Plot\"},{\"attributes\":{\"source\":{\"id\":\"2010\"}},\"id\":\"2015\",\"type\":\"CDSView\"},{\"attributes\":{\"text\":\"Select Here\"},\"id\":\"1982\",\"type\":\"Title\"},{\"attributes\":{\"js_property_callbacks\":{\"change:indices\":[{\"id\":\"2016\"}]}},\"id\":\"2017\",\"type\":\"Selection\"},{\"attributes\":{},\"id\":\"1984\",\"type\":\"DataRange1d\"},{\"attributes\":{},\"id\":\"1986\",\"type\":\"DataRange1d\"},{\"attributes\":{},\"id\":\"1997\",\"type\":\"BasicTicker\"},{\"attributes\":{},\"id\":\"1988\",\"type\":\"LinearScale\"},{\"attributes\":{},\"id\":\"1990\",\"type\":\"LinearScale\"},{\"attributes\":{},\"id\":\"2089\",\"type\":\"UnionRenderers\"},{\"attributes\":{},\"id\":\"2091\",\"type\":\"UnionRenderers\"},{\"attributes\":{\"active_drag\":\"auto\",\"active_inspect\":\"auto\",\"active_multi\":null,\"active_scroll\":\"auto\",\"active_tap\":\"auto\",\"tools\":[{\"id\":\"2000\"}]},\"id\":\"2002\",\"type\":\"Toolbar\"},{\"attributes\":{},\"id\":\"2092\",\"type\":\"Selection\"},{\"attributes\":{\"fill_alpha\":{\"value\":0.4},\"fill_color\":{\"field\":\"color\"},\"line_alpha\":{\"value\":0.4},\"line_color\":{\"field\":\"color\"},\"size\":{\"units\":\"screen\",\"value\":8},\"x\":{\"field\":\"x\"},\"y\":{\"field\":\"y\"}},\"id\":\"2005\",\"type\":\"Circle\"},{\"attributes\":{\"fill_alpha\":0.5,\"fill_color\":\"lightgrey\",\"level\":\"overlay\",\"line_alpha\":1.0,\"line_color\":\"black\",\"line_dash\":[4,4],\"line_width\":2,\"xs_units\":\"screen\",\"ys_units\":\"screen\"},\"id\":\"2001\",\"type\":\"PolyAnnotation\"},{\"attributes\":{\"axis\":{\"id\":\"1996\"},\"dimension\":1,\"ticker\":null},\"id\":\"1999\",\"type\":\"Grid\"},{\"attributes\":{\"formatter\":{\"id\":\"2088\"},\"ticker\":{\"id\":\"1993\"}},\"id\":\"1992\",\"type\":\"LinearAxis\"},{\"attributes\":{\"data_source\":{\"id\":\"1980\"},\"glyph\":{\"id\":\"2005\"},\"hover_glyph\":null,\"muted_glyph\":null,\"nonselection_glyph\":{\"id\":\"2006\"},\"selection_glyph\":{\"id\":\"2007\"},\"view\":{\"id\":\"2009\"}},\"id\":\"2008\",\"type\":\"GlyphRenderer\"},{\"attributes\":{\"fill_alpha\":{\"value\":0.1},\"fill_color\":{\"field\":\"color\"},\"line_alpha\":{\"value\":0.1},\"line_color\":{\"field\":\"color\"},\"size\":{\"units\":\"screen\",\"value\":8},\"x\":{\"field\":\"x\"},\"y\":{\"field\":\"y\"}},\"id\":\"2006\",\"type\":\"Circle\"},{\"attributes\":{\"fill_alpha\":{\"value\":0.4},\"fill_color\":{\"value\":\"firebrick\"},\"line_alpha\":{\"value\":0.4},\"line_color\":{\"value\":\"firebrick\"},\"size\":{\"units\":\"screen\",\"value\":8},\"x\":{\"field\":\"x\"},\"y\":{\"field\":\"y\"}},\"id\":\"2007\",\"type\":\"Circle\"},{\"attributes\":{},\"id\":\"1993\",\"type\":\"BasicTicker\"},{\"attributes\":{\"source\":{\"id\":\"1980\"}},\"id\":\"2009\",\"type\":\"CDSView\"},{\"attributes\":{},\"id\":\"2086\",\"type\":\"BasicTickFormatter\"},{\"attributes\":{\"args\":{\"s1\":{\"id\":\"1980\"},\"s2\":{\"id\":\"2010\"}},\"code\":\"\\n    var inds = s1.selected.indices;\\n    if (inds.length == 0)\\n        return;\\n\\n    var ym = 0\\n    for (var i = 0; i < inds.length; i++) {\\n        ym += s1.data.y[inds[i]]\\n    }\\n    \\n    ym /= inds.length\\n    s2.data.ym = [ym, ym]\\n\\n    // necessary becasue we mutated source.data in-place\\n    s2.change.emit();  \\n\"},\"id\":\"2016\",\"type\":\"CustomJS\"},{\"attributes\":{\"data\":{\"color\":[\"navy\",\"navy\",\"navy\",\"navy\",\"navy\",\"navy\",\"navy\",\"navy\",\"navy\",\"navy\",\"navy\",\"navy\",\"navy\",\"navy\",\"navy\",\"navy\",\"navy\",\"navy\",\"navy\",\"navy\",\"navy\",\"navy\",\"navy\",\"navy\",\"navy\",\"navy\",\"navy\",\"navy\",\"navy\",\"navy\",\"navy\",\"navy\",\"navy\",\"navy\",\"navy\",\"navy\",\"navy\",\"navy\",\"navy\",\"navy\",\"navy\",\"navy\",\"navy\",\"navy\",\"navy\",\"navy\",\"navy\",\"navy\",\"navy\",\"navy\",\"navy\",\"navy\",\"navy\",\"navy\",\"navy\",\"navy\",\"navy\",\"navy\",\"navy\",\"navy\",\"navy\",\"navy\",\"navy\",\"navy\",\"navy\",\"navy\",\"navy\",\"navy\",\"navy\",\"navy\",\"navy\",\"navy\",\"navy\",\"navy\",\"navy\",\"navy\",\"navy\",\"navy\",\"navy\",\"navy\",\"navy\",\"navy\",\"navy\",\"navy\",\"navy\",\"navy\",\"navy\",\"navy\",\"navy\",\"navy\",\"navy\",\"navy\",\"navy\",\"navy\",\"navy\",\"navy\",\"navy\",\"navy\",\"navy\",\"navy\",\"navy\",\"navy\",\"navy\",\"navy\",\"navy\",\"navy\",\"navy\",\"navy\",\"navy\",\"navy\",\"navy\",\"navy\",\"navy\",\"navy\",\"navy\",\"navy\",\"navy\",\"navy\",\"navy\",\"navy\",\"navy\",\"navy\",\"navy\",\"navy\",\"navy\",\"navy\",\"navy\",\"navy\",\"navy\",\"navy\",\"navy\",\"navy\",\"navy\",\"navy\",\"navy\",\"navy\",\"navy\",\"navy\",\"navy\",\"navy\",\"navy\",\"navy\",\"navy\",\"navy\",\"navy\",\"navy\",\"navy\",\"navy\",\"navy\",\"navy\",\"navy\",\"navy\",\"navy\",\"navy\",\"navy\",\"navy\",\"navy\",\"navy\",\"navy\",\"navy\",\"navy\",\"navy\",\"navy\",\"navy\",\"navy\",\"navy\",\"navy\",\"navy\",\"navy\",\"navy\",\"navy\",\"navy\",\"navy\",\"navy\",\"navy\",\"navy\",\"navy\",\"navy\",\"navy\",\"navy\",\"navy\",\"navy\",\"navy\",\"navy\",\"navy\",\"navy\",\"navy\",\"navy\",\"navy\",\"navy\",\"navy\",\"navy\",\"navy\",\"navy\",\"navy\",\"navy\",\"navy\",\"navy\",\"navy\",\"navy\",\"navy\",\"navy\",\"navy\",\"navy\",\"navy\",\"navy\",\"navy\",\"navy\",\"navy\",\"navy\",\"navy\",\"navy\",\"navy\",\"navy\",\"navy\",\"navy\",\"navy\",\"navy\",\"navy\",\"navy\",\"navy\",\"navy\",\"navy\",\"navy\",\"navy\",\"navy\",\"navy\",\"navy\",\"navy\",\"navy\",\"navy\",\"navy\",\"navy\",\"navy\",\"navy\",\"navy\",\"navy\",\"navy\",\"navy\",\"navy\",\"navy\",\"navy\",\"navy\",\"navy\",\"navy\",\"navy\",\"navy\",\"navy\",\"navy\",\"navy\",\"navy\",\"navy\",\"navy\",\"navy\",\"navy\",\"navy\",\"navy\",\"navy\",\"navy\",\"navy\",\"navy\",\"navy\",\"navy\",\"navy\",\"navy\",\"navy\",\"navy\",\"navy\",\"navy\",\"navy\",\"navy\",\"navy\",\"navy\",\"navy\",\"navy\",\"navy\",\"navy\",\"navy\",\"navy\",\"navy\",\"navy\",\"navy\",\"navy\",\"navy\",\"navy\",\"navy\",\"navy\",\"navy\",\"navy\",\"navy\",\"navy\",\"navy\",\"navy\",\"navy\",\"navy\",\"navy\",\"navy\",\"navy\",\"navy\",\"navy\",\"navy\",\"navy\",\"navy\",\"navy\",\"navy\",\"navy\",\"navy\",\"navy\",\"navy\",\"navy\",\"navy\",\"navy\",\"navy\",\"navy\",\"navy\",\"navy\",\"navy\",\"navy\",\"navy\",\"navy\",\"navy\",\"navy\",\"navy\",\"navy\",\"navy\",\"navy\",\"navy\",\"navy\",\"navy\",\"navy\",\"navy\",\"navy\",\"navy\",\"navy\",\"navy\",\"navy\",\"navy\",\"navy\",\"navy\",\"navy\",\"navy\",\"navy\",\"navy\",\"navy\",\"navy\",\"navy\",\"navy\",\"navy\",\"navy\",\"navy\",\"navy\",\"navy\",\"navy\",\"navy\",\"navy\",\"navy\",\"navy\",\"navy\",\"navy\",\"navy\",\"navy\",\"navy\",\"navy\",\"navy\",\"navy\",\"navy\",\"navy\",\"navy\",\"navy\",\"navy\",\"navy\",\"navy\",\"navy\",\"navy\",\"navy\",\"navy\",\"navy\",\"navy\",\"navy\",\"navy\",\"navy\",\"navy\",\"navy\",\"navy\",\"navy\",\"navy\",\"navy\",\"navy\",\"navy\",\"navy\",\"navy\",\"navy\",\"navy\",\"navy\",\"navy\",\"navy\",\"navy\",\"navy\",\"navy\",\"navy\",\"navy\",\"navy\",\"navy\",\"navy\",\"navy\",\"navy\",\"navy\",\"navy\",\"navy\",\"navy\",\"navy\",\"navy\",\"navy\",\"navy\",\"navy\",\"navy\",\"navy\",\"navy\",\"navy\",\"navy\",\"navy\",\"navy\",\"navy\",\"navy\",\"navy\",\"navy\",\"navy\",\"navy\",\"navy\",\"navy\",\"navy\",\"navy\",\"navy\",\"navy\",\"navy\",\"navy\",\"navy\",\"navy\",\"navy\",\"navy\",\"navy\",\"navy\",\"navy\",\"navy\",\"navy\",\"navy\",\"navy\",\"navy\",\"navy\",\"navy\",\"navy\",\"navy\",\"navy\",\"navy\",\"navy\",\"navy\",\"navy\",\"navy\",\"navy\",\"navy\",\"navy\",\"navy\",\"navy\",\"navy\",\"navy\",\"navy\",\"navy\",\"navy\",\"navy\",\"navy\",\"navy\",\"navy\",\"navy\",\"navy\",\"navy\",\"navy\",\"navy\",\"navy\",\"navy\",\"navy\",\"navy\",\"navy\",\"navy\",\"navy\",\"navy\",\"navy\",\"navy\",\"navy\",\"navy\",\"navy\",\"navy\",\"navy\",\"navy\",\"navy\",\"navy\",\"navy\",\"navy\",\"navy\",\"navy\",\"navy\"],\"x\":[0.6826064742452977,0.8143733683261808,0.09590034114495549,0.3263327861903095,0.4547205741732877,0.9570584466807699,0.9334704394333114,0.7457628149333017,0.8544864580931829,0.8128669590982616,0.014079824433866128,0.47419322548678744,0.29712021306985925,0.8202570731793016,0.9645141246777059,0.9421001884060345,0.1293274343077313,0.04217006070080587,0.9226696861412639,0.5867335293619503,0.2164657951005623,0.15111130815778562,0.0269467991990755,0.07941287087830118,0.36804168531906023,0.03681956791344332,0.3568449357995871,0.4626417425897684,0.563536182522248,0.3094807086551892,0.32152858790952477,0.4597528866633268,0.12546067791682003,0.6138102414699513,0.36146738496572506,0.05615947697232304,0.8575341088114915,0.4217561555788537,0.42041363358713335,0.8828446241396429,0.18904732689089376,0.9854171605686455,0.8916729113430035,0.27943848253523673,0.37282526528169857,0.5135279052407096,0.9112814161875662,0.4883348710662656,0.1333329817153578,0.1241293043421805,0.023293600333677666,0.8185284779597279,0.7675726081891674,0.8078321510393242,0.5178247902565998,0.12679434566981573,0.8086547781066163,0.900737921564054,0.8359266311681308,0.7390353335466763,0.5980259753572441,0.566138019167777,0.11829442842541893,0.3426346162182923,0.7639430243186789,0.3434749358783449,0.45984754880756074,0.7688101658237115,0.8211120781505883,0.9462802302966936,0.22025295425385283,0.7388855618857656,0.930668412032646,0.46088568912876304,0.548251571046234,0.23483818874089357,0.37850032795872257,0.8799734407187343,0.09504130281839462,0.9494603934265332,0.41026456361944574,0.8798186228458597,0.8356048688460406,0.4372501410533268,0.8319261060547686,0.2327239732315468,0.09564467907637186,0.8700328785548521,0.6496560933914676,0.14232466716757786,0.9909219479809185,0.26028249879496856,0.5682171956999522,0.9670788953132494,0.2981880903454066,0.1441870843256361,0.16336923413276927,0.32419690845248395,0.6324919233156071,0.9697818744655918,0.4956037244789575,0.03997663973594712,0.8078161277684872,0.04096745636328125,0.09309369190883032,0.8269262164028417,0.531783137513631,0.013152514184195718,0.6438937882033988,0.9122932110004637,0.7045930044485967,0.4845784139502911,0.5263357272648432,0.945813263216833,0.15722506193058827,0.9984111978631772,0.6974480719397044,0.6862037768874919,0.09153612830347979,0.6132391557245451,0.6601719561914028,0.28829542733547586,0.8994822715946397,0.9493975228027205,0.2377988062819224,0.8601807939069357,0.9114614788667657,0.1291585375101817,0.2287396669893189,0.7202641315570479,0.1162875152895072,0.14701886598025826,0.37807870773916996,0.015965508559392494,0.27658798557054287,0.3846702168220054,0.485402447613967,0.16247625912034147,0.9941106975175805,0.4992389502226432,0.7893841283838373,0.11980027721651887,0.032620490980179384,0.06286078000998196,0.379312035185401,0.9381510299323335,0.33477983586992077,0.34277018848795804,0.21518289522550504,0.84353791562474,0.23551227145820886,0.36685592899269615,0.8165488860203534,0.5030552429118441,0.9783291725315211,0.4744407208989503,0.2024650327275993,0.5561074293727001,0.04288098671361362,0.006063413823090946,0.5979336039333719,0.036905292612155804,0.6031687919310312,0.2394261754330732,0.2829000613801792,0.9691513022167886,0.1754902234943121,0.4144239600964167,0.4661221329085492,0.48010114912682467,0.8440695446379605,0.7050163602331141,0.17265623608263414,0.3750217700222852,0.5243606389425556,0.3424197946522004,0.06841321104992848,0.6245095213921393,0.6865968073337712,0.5059805592686435,0.9364479345883977,0.6532802798860264,0.8488768290134764,0.8786798566226885,0.14198177595187755,0.3660743592351373,0.33822242433555283,0.221367299525704,0.8454203807990326,0.9390557222366358,0.9782304724863725,0.13024161529287126,0.6267692666953171,0.8894408707992866,0.2218953896680561,0.9362639544707054,0.7583692880749276,0.8531002492056358,0.6362867683150331,0.7026921810813785,0.4702260714502252,0.8989073036465021,0.5422228846775994,0.5151881496312732,0.1198152216886883,0.3213012816652089,0.08091474984587388,0.8359140729381126,0.4557454696656451,0.34287459197550596,0.32986758744232747,0.24854251857820897,0.791787539361605,0.7744980250294704,0.9100809466931062,0.7100636682349574,0.7997297753018819,0.6213354648963829,0.05232940536766406,0.9235000640624731,0.4296946664304898,0.04368638520294921,0.45843435334601124,0.14585825946828523,0.20051349613367642,0.1345477793834451,0.8892884505945943,0.7207074959293555,0.9573810947793084,0.7471350183843569,0.33484771985063355,0.9915919861100455,0.8268726321128343,0.9701527973340218,0.3556613905989766,0.014585091923709825,0.15704247063569243,0.10219339424880325,0.6588241663042421,0.7571659790010135,0.9461871758924312,0.07868253327364694,0.8874887643738826,0.5210031297212175,0.31243825463327024,0.5718578520433425,0.06562096888658031,0.5975251738023766,0.19277569695241026,0.16302330338930104,0.11517138612385425,0.3484090463282714,0.1337973893190897,0.9001158417102382,0.6018535696763032,0.5857952228659312,0.32419201346513593,0.11624744805738618,0.0936623231589816,0.867067691210618,0.5085554933972892,0.09045303580682462,0.9181453638598002,0.5354847681290187,0.3822770835000764,0.8429184570863753,0.031410806609757924,0.28683806233743214,0.5555870909207687,0.5432905785600893,0.3939247758961485,0.809281517923175,0.9327737144328642,0.519598085149147,0.29000429810463535,0.38046371400585965,0.3323267850488778,0.08887873313222427,0.6470386041350894,0.18603633369646155,0.37330537002001096,0.06351552473303956,0.7310918471118479,0.5760666620354138,0.31623170388187427,0.5612692442127183,0.08565562621819245,0.43333631053629296,0.42207070416946957,0.3336401092085669,0.0542514568659328,0.7187887594898523,0.25350204281690625,0.6788330407013503,0.4462651489872036,0.5550129429521337,0.6573606053841771,0.8204589277244803,0.6012048979975773,0.5510918617622196,0.48603161258462446,0.19708714711501862,0.6541428606890655,0.9635298639862294,0.6240295478643124,0.4390239054993982,0.30261783114369445,0.0013331691060236572,0.7041074710035953,0.7164930056031931,0.4040466315293266,0.20459493131161988,0.46248742055710124,0.8309156766233727,0.37975426127170075,0.35655483544091093,0.9895702505550757,0.8783032764214477,0.5881173670264718,0.18742583215127973,0.33067804834849945,0.2830980780193031,0.14655340846480158,0.37884099164809915,0.24265367665232573,0.7680077943392254,0.07393489469686276,0.3353848493969721,0.5322746540015746,0.8357909415748582,0.6041606124168769,0.2144792338948015,0.22745684433447522,0.06999509299712847,0.13717795381486242,0.9427859683617336,0.579130886197297,0.12626657031455935,0.03037536532143925,0.679996338497114,0.7083227337596826,0.012504642880695416,0.27136595222010473,0.43241459003201954,0.40472654605385594,0.4775478384225229,0.6244514861077654,0.943684878315593,0.09299776857754605,0.3027020841556345,0.6511956292433289,0.47978082866442084,0.6785947269841187,0.7867652779435732,0.8603126157464673,0.07046763972749315,0.2778324497522552,0.5017728358404355,0.6108626365457405,0.8441704841668974,0.8569843033570013,0.2952192485386238,0.145195291514845,0.22526503440074885,0.42425854598489476,0.10401979872028444,0.16052785056424357,0.9049972190972752,0.5767166193507494,0.5699465679562766,0.04572406457780265,0.34363507062602827,0.46754897134056594,0.4380029479533495,0.5211285165212571,0.2455299230225706,0.835847894063436,0.4888791162906715,0.5533046072750549,0.25990872231496265,0.8181184030732738,0.09937177562217858,0.9097413376225255,0.03937020927559354,0.47245571441478496,0.4233363194638754,0.0031058263663953367,0.5598831347374896,0.7869300742883345,0.8402184345541395,0.048789724199224005,0.8379198460514333,0.5138510210389763,0.4430583149062213,0.13352684656146763,0.7019307105211411,0.015024483440564396,0.7317589831220481,0.03598028822894528,0.0331753933326282,0.4908418778266729,0.7384543919526542,0.018723485898616943,0.9252811227510378,0.771679713313763,0.6740215918547401,0.4881782145326149,0.3177078842441182,0.6469621279126809,0.33488864469801904,0.23252773809370486,0.12596456478727525,0.8076555864512976,0.9130110665436,0.0034014478846398077,0.329197864779768,0.7935776625223273,0.9597157731773273,0.9082712664797788,0.5504154186130187,0.2567230854500233,0.10366814038498373,0.4547306566826299,0.6775563675890706,0.22111866574998917,0.659191983554897,0.3711931980938685,0.9010399924326884,0.8442031152259353,0.17560243300191858,0.6503912237034466,0.06937021802729171,0.5048244591626084,0.8709027570985226,0.7401466034988907,0.4803671383354624,0.7066272117934437,0.6187002372183303,0.5884805765197773,0.896683564075595,0.9986215996487504,0.970748550458417,0.8516885376941541,0.8868605685842524,0.32502826962645825,0.46645745028763386,0.7335483301953336,0.5794596527271946,0.27129881250196786,0.02582564391605624,0.5416410230442461,0.6918451173523845,0.6940356287731946,0.8333828537029139,0.6741149525907267,0.9784674514050914,0.3594198011055535,0.5817224040776948,0.09799992237453037,0.5884713702784193,0.08873944540865475,0.13783092785463813,0.8170099506841134,0.6959584539638615,0.9052619888008119,0.20373316819948983,0.07278475723070033,0.8663624193337357,0.9321071166499415,0.6559150330597676,0.7573862450506279,0.5040964742718463,0.683074282063006,0.2345421078121538,0.7500062601400945,0.2720489703147848,0.40024457357763277,0.5965852195443248,0.27726170217576696,0.2571627972871837,0.42361089085012416,0.33969308655851493,0.8608022643752687,0.9982111794699495,0.22750893160654728,0.48563926037301697,0.2156718882923795,0.34511139691435244,0.9988458111738464,0.597888686998095,0.03410268214982726,0.8006112568425378,0.5945917065384432,0.2032343667099663,0.704144811699927,0.03156832195271175,0.6730926828006424,0.8366116846228384,0.4097766175140115,0.04395193304411937],\"y\":[0.5776089644482986,0.33600500364357355,0.013702241157266926,0.18576367037712904,0.52373022875149,0.9751570365188332,0.016529569563832558,0.7234645516248933,0.26962483945105664,0.9128461258455193,0.08067326041945244,0.9415505538693688,0.37084219734348123,0.2826282383659524,0.23446825485471723,0.22693182003696344,0.6087954189829445,0.31880719030278704,0.5868320516850548,0.7807073232558801,0.6485753673236097,0.6007764316410221,0.5736368179202143,0.17864815950436286,0.2624943182934769,0.2672729954375812,0.4942296856396008,0.9241560777238131,0.6532324408578501,0.28776850819045485,0.6935045291318337,0.40540755323912625,0.2461285691080155,0.4588451152715055,0.23452856099830677,0.4757372535897947,0.23510654876986115,0.30000907396584553,0.22548211932300355,0.08271095125994699,0.3720662752198801,0.5381681959995297,0.45343742786913854,0.5717231843507093,0.36500657941400283,0.42871019284213374,0.754526200155307,0.5600032538077724,0.8329074859980012,0.17794028265194084,0.3584974075126408,0.6379445937555127,0.4911212179581196,0.1345128765239353,0.9394555458840538,0.6799706664458202,0.6364279881441034,0.550014811218602,0.23411723144469343,0.6184577755628573,0.9133810918539109,0.5816141479645117,0.9711722913483006,0.05657490109272778,0.7289021774356347,0.9362882993597903,0.49285740052192273,0.9587243040379442,0.6490079054634068,0.7568723860712088,0.4874242356794216,0.9925178687992081,0.05129413852995668,0.957935541268831,0.2397611041970662,0.5130649374380397,0.00593570154358769,0.5175787799203081,0.9296550695753247,0.1856267237904864,0.8915594730253593,0.9969501448696982,0.34382869731042864,0.29331916982340167,0.17950648688045856,0.3267076800684775,0.7640565545759089,0.973234540616735,0.24598883868535693,0.6924558228604664,0.7358502443225935,0.960571578239014,0.27017206762610935,0.5911937053393828,0.4463377164363821,0.4270064017160562,0.19647804425544457,0.0610122004690542,0.42340914343083436,0.8302979347965953,0.10096499274904847,0.7465581360110777,0.2133053949548529,0.00029584532208271064,0.8703721093171831,0.48817637235230693,0.5765531051862263,0.9749210435893068,0.36841364331191717,0.4559059944013324,0.5133417938456043,0.7644908635988237,0.6270799938849726,0.3281760402873387,0.9699694357687163,0.5890959920981859,0.9918480221880236,0.920425853789622,0.9974371373595535,0.28880342945269677,0.5944680719560426,0.798159389459446,0.2689032332293374,0.8903012175531989,0.16153810225105536,0.6392370354885853,0.20280563116370676,0.5093360865940896,0.7314059458688594,0.9849032274526249,0.6090467994046174,0.8533777532566251,0.5740541035720231,0.03886435625283757,0.4459872222371606,0.9707808802951714,0.7734022216843023,0.24306723388237816,0.09855190857248342,0.558546358409381,0.2947477098252397,0.38254889461956365,0.7573645653003868,0.15449661638537437,0.9951770371917935,0.48704805374033766,0.8570263104106208,0.31013036567891084,0.17398379042597445,0.4222782283260482,0.8067347815710427,0.272652392685956,0.6760040664944587,0.6567387146861488,0.5519374247155308,0.358461369951558,0.8699814283455115,0.1906543680738748,0.7511102064526353,0.8997109430997782,0.4122244228207227,0.8717264616290142,0.2807012919441805,0.17937825800847562,0.06702837283735097,0.5514277962457587,0.6447416811195771,0.8938519549406191,0.9859482414805297,0.41005081680588096,0.7281598130961362,0.4124114095567871,0.7534495265706437,0.6555327403714045,0.14340702515720372,0.19139311236374978,0.43622385359597116,0.33688920569006975,0.2612968164104845,0.4257331713661987,0.9780216236882839,0.9320679722037314,0.09307078723095574,0.6647887552582965,0.08079824870752128,0.43756734416455634,0.5684305753542862,0.7345156165289952,0.7183861022032529,0.15077684696633564,0.13335829014495804,0.5427155124078152,0.004750526787187015,0.22852371248309578,0.3714582663069178,0.9681627948652839,0.9491794613321003,0.6999110271130543,0.07806827321733933,0.6724661885980979,0.48480273860207723,0.3627761964306033,0.10265703891499733,0.7996219911611856,0.5958250954807426,0.8294323234980968,0.664358504444771,0.04029147006737677,0.5866146634809679,0.7450952074384491,0.015951413873411036,0.896241761135143,0.45392228962676795,0.30692071523972964,0.48676463465766606,0.17754059275439837,0.9488096754607724,0.0006701738444866434,0.5617232758638766,0.16526741814010992,0.004513291390504048,0.047066625356499414,0.9223671218519438,0.7845106717828177,0.7765741631913349,0.21984171635861238,0.387580960314874,0.16086420161824622,0.26954486378366793,0.09412837408017616,0.9378912887785446,0.0675787331009875,0.08653310548901194,0.7493159950687611,0.12316278215633103,0.382004788864474,0.7258095030827773,0.25381036257267087,0.1652636938269897,0.592862904966849,0.36145880676292286,0.32801734895076995,0.06597081000780591,0.7136809598530045,0.26058459424046043,0.49353464786222545,0.4494495837847333,0.2585562357266099,0.12166520856945462,0.08999320092961716,0.020786549344942173,0.5884857823084428,0.16461990676219018,0.23604997455940524,0.8082081433631851,0.9231428868021955,0.964673051228717,0.8704352124936979,0.7592485466203229,0.8699793557497647,0.9760038980214868,0.16205599643777713,0.8911186251447291,0.7457364763174046,0.1739715010437034,0.7080801239485967,0.29333048528894023,0.7136828483931684,0.7270256369408242,0.8535579359955915,0.5387093586372869,0.21854445953030377,0.6403781081729367,0.09390848351044312,0.2308488871443617,0.546599708250556,0.08102728480466026,0.43192365600979044,0.6533610921018688,0.2950272195183977,0.32374924105749925,0.904338196921682,0.9444427631867318,0.30407516282046465,0.18119107387092492,0.8246376557472429,0.24708952495873626,0.028039992649190326,0.8530492986404202,0.5047310443285463,0.04026579459381585,0.48453579842720595,0.611041327006827,0.5785593994213811,0.07991355025140112,0.9487285794453654,0.8042357037632679,0.2334071874057445,0.0064032734206651565,0.8668299313006305,0.3061604478264388,0.31609806741566915,0.05051003081416783,0.8820871133623469,0.8235672758171766,0.9770346935341595,0.3103095722051433,0.43533314603303097,0.7775662574233398,0.8555371011812154,0.17938735166389164,0.8374836825738907,0.7698154226432309,0.6219016921550594,0.591485933499843,0.012011098033442802,0.31822079727180175,0.2253958308682461,0.10763674078684682,0.4221633119413877,0.8763734735970775,0.6957993090789626,0.09028452614987703,0.33346664536251847,0.47958438400627024,0.9795070801286728,0.6955140664263479,0.42071941335670815,0.7948077507668683,0.7330772973136972,0.5911916714607042,0.3417320123300813,0.5724736159776954,0.38260394870257464,0.3880927895108983,0.6833809855238934,0.3019978123506919,0.30720358248073476,0.2939329760948145,0.37300365836964244,0.3149787914153186,0.8915122899186059,0.3772806028643809,0.8675432578066747,0.9008376463737641,0.0915721405173544,0.6591161532413621,0.8451217426623638,0.4846111158966938,0.25155655204447647,0.7000674832407647,0.3603812847520532,0.858940373287801,0.6159834998975935,0.9307122669701483,0.936337029562733,0.5368722100877497,0.21515850581006213,0.6470568626215568,0.12059725817343736,0.5791762604790793,0.8411173417334321,0.2868580681193965,0.39763395825649217,0.7210719282554447,0.364352978547944,0.34141729376452157,0.5417560175230275,0.29783924913124493,0.7597775996393861,0.7011929471107645,0.6835571170015748,0.60391952179409,0.6143361548740229,0.23450039019584412,0.661967291265181,0.28438656666945517,0.714141487096585,0.6726584865808058,0.7694819605827502,0.544526542114507,0.10406027413122321,0.74973490484893,0.6872623469946112,0.8859234298332513,0.9263676151404568,0.8153932467698571,0.5846674953483811,0.2073735052790211,0.5361978822850455,0.9243673885748867,0.5630421764430827,0.6689543409029483,0.7752993534370125,0.27906049152416446,0.489127266779424,0.049653771754354814,0.7286723244303117,0.9923841026435748,0.5124255663151946,0.04060198344236632,0.8006317765587664,0.18355899551277455,0.317294949730234,0.41260897003869923,0.08684918019295529,0.3641560813362308,0.6505854522489549,0.4424321275165858,0.616396981474693,0.22409365224889577,0.9829287720181663,0.9744917829114648,0.7273594568505853,0.8485379768519395,0.5944842595036833,0.4497583254466613,0.15380236635138334,0.035801773968253015,0.5054793601712744,0.9987620578374435,0.05886600399407971,0.9250417338424122,0.8335270729602882,0.005798000984963081,0.4739948107594204,0.3970281870466512,0.2178045986515761,0.41957548974438463,0.2452008369487536,0.6894623093163945,0.636244587543367,0.08519478729390773,0.5441450227953795,0.8111909093521763,0.14580505653177367,0.9944990234373288,0.8675832883952712,0.11298367127183517,0.46144147082803466,0.5673431715695596,0.39278984759902846,0.7188908651061914,0.8414789221711105,0.6228767577774476,0.42319243813890406,0.9463255891988598,0.6838272789779629,0.0907721285315165,0.607602336839145,0.2594817922360122,0.6238642532683604,0.8205985152229797,0.44763292971774826,0.37297700403875766,0.10120094498254428,0.5363869649533629,0.7012969421619026,0.3962828957620135,0.2632555672908893,0.8545971528449045,0.4371789440228244,0.017365810472354193,0.023680431670005664,0.28963599487980807,0.6928609250582656,0.3964428232022159,0.3878414516405969,0.9624550539536012,0.622360928907114,0.9096302079312432,0.9214775051810363,0.36313552770966906,0.09642031705281295,0.57573595234821,0.054530316696366876,0.26465387978809285,0.30374169852898236,0.70232541185081,0.1991084852463546,0.7212054175187513,0.29210295051897206,0.269150883161427,0.5750789576176052,0.2622323666176176,0.23658510171353853,0.8314633717405916,0.6817240574321275,0.8718299789657038,0.46629184203650964,0.8632190857897963,0.07857652134592408,0.0010378136832932539,0.5683734279042276,0.8659392575172764,0.7123376403498296,0.07150723072991882,0.7192528976766416,0.2022364963116846,0.8065277689901004]},\"selected\":{\"id\":\"2017\"},\"selection_policy\":{\"id\":\"2089\"}},\"id\":\"1980\",\"type\":\"ColumnDataSource\"},{\"attributes\":{\"overlay\":{\"id\":\"2001\"}},\"id\":\"2000\",\"type\":\"LassoSelectTool\"},{\"attributes\":{\"formatter\":{\"id\":\"2086\"},\"ticker\":{\"id\":\"1997\"}},\"id\":\"1996\",\"type\":\"LinearAxis\"},{\"attributes\":{},\"id\":\"2088\",\"type\":\"BasicTickFormatter\"},{\"attributes\":{\"data_source\":{\"id\":\"2010\"},\"glyph\":{\"id\":\"2012\"},\"hover_glyph\":null,\"muted_glyph\":null,\"nonselection_glyph\":{\"id\":\"2013\"},\"selection_glyph\":null,\"view\":{\"id\":\"2015\"}},\"id\":\"2014\",\"type\":\"GlyphRenderer\"},{\"attributes\":{\"axis\":{\"id\":\"1992\"},\"ticker\":null},\"id\":\"1995\",\"type\":\"Grid\"},{\"attributes\":{\"line_alpha\":0.1,\"line_color\":\"orange\",\"line_width\":5,\"x\":{\"field\":\"xm\"},\"y\":{\"field\":\"ym\"}},\"id\":\"2013\",\"type\":\"Line\"},{\"attributes\":{\"data\":{\"xm\":[0,1],\"ym\":[0.5,0.5]},\"selected\":{\"id\":\"2092\"},\"selection_policy\":{\"id\":\"2091\"}},\"id\":\"2010\",\"type\":\"ColumnDataSource\"},{\"attributes\":{\"line_alpha\":0.6,\"line_color\":\"orange\",\"line_width\":5,\"x\":{\"field\":\"xm\"},\"y\":{\"field\":\"ym\"}},\"id\":\"2012\",\"type\":\"Line\"}],\"root_ids\":[\"1981\"]},\"title\":\"Bokeh Application\",\"version\":\"2.0.2\"}};\n",
       "  var render_items = [{\"docid\":\"60c61490-5b93-4f34-a7fc-079fa1fad2f5\",\"root_ids\":[\"1981\"],\"roots\":{\"1981\":\"3fa9eed4-61dd-427b-9c0a-154d66c7191b\"}}];\n",
       "  root.Bokeh.embed.embed_items_notebook(docs_json, render_items);\n",
       "\n",
       "  }\n",
       "  if (root.Bokeh !== undefined) {\n",
       "    embed_document(root);\n",
       "  } else {\n",
       "    var attempts = 0;\n",
       "    var timer = setInterval(function(root) {\n",
       "      if (root.Bokeh !== undefined) {\n",
       "        clearInterval(timer);\n",
       "        embed_document(root);\n",
       "      } else {\n",
       "        attempts++;\n",
       "        if (attempts > 100) {\n",
       "          clearInterval(timer);\n",
       "          console.log(\"Bokeh: ERROR: Unable to run BokehJS code because BokehJS library is missing\");\n",
       "        }\n",
       "      }\n",
       "    }, 10, root)\n",
       "  }\n",
       "})(window);"
      ],
      "application/vnd.bokehjs_exec.v0+json": ""
     },
     "metadata": {
      "application/vnd.bokehjs_exec.v0+json": {
       "id": "1981"
      }
     },
     "output_type": "display_data"
    }
   ],
   "source": [
    "from random import random\n",
    "\n",
    "x = [random() for x in range(500)]\n",
    "y = [random() for y in range(500)]\n",
    "color = [\"navy\"] * len(x)\n",
    "\n",
    "s1 = ColumnDataSource(data=dict(x=x, y=y, color=color))\n",
    "p = figure(plot_width=400, plot_height=400, tools=\"lasso_select\", title=\"Select Here\")\n",
    "p.circle('x', 'y', color='color', size=8, alpha=0.4, source=s1, \n",
    "         selection_color=\"firebrick\", selection_alpha=0.4)\n",
    "\n",
    "s2 = ColumnDataSource(data=dict(xm=[0,1],ym=[0.5, 0.5]))\n",
    "p.line(x='xm', y='ym', color=\"orange\", line_width=5, alpha=0.6, source=s2)\n",
    "\n",
    "callback = CustomJS(args=dict(s1=s1, s2=s2), code=\"\"\"\n",
    "    var inds = s1.selected.indices;\n",
    "    if (inds.length == 0)\n",
    "        return;\n",
    "\n",
    "    var ym = 0\n",
    "    for (var i = 0; i < inds.length; i++) {\n",
    "        ym += s1.data.y[inds[i]]\n",
    "    }\n",
    "    \n",
    "    ym /= inds.length\n",
    "    s2.data.ym = [ym, ym]\n",
    "\n",
    "    // necessary becasue we mutated source.data in-place\n",
    "    s2.change.emit();  \n",
    "\"\"\")\n",
    "\n",
    "s1.selected.js_on_change('indices', callback)\n",
    "\n",
    "show(p)"
   ]
  },
  {
   "cell_type": "code",
   "execution_count": 13,
   "metadata": {},
   "outputs": [],
   "source": [
    "# Exercise: Experiment with selection callbacks\n",
    "\n"
   ]
  },
  {
   "cell_type": "markdown",
   "metadata": {},
   "source": [
    "## CustomJS for UI Events\n",
    "\n",
    "Bokeh also has a general events system\n",
    "\n",
    "All of the available UI events, and their properties, are listed in the Reference Guide section for [bokeh.events](https://bokeh.pydata.org/en/latest/docs/reference/events.html)"
   ]
  },
  {
   "cell_type": "code",
   "execution_count": 14,
   "metadata": {},
   "outputs": [
    {
     "data": {
      "text/html": [
       "\n",
       "\n",
       "\n",
       "\n",
       "\n",
       "\n",
       "  <div class=\"bk-root\" id=\"5dfeced2-355d-484a-8c3c-a25da2e0b44c\" data-root-id=\"2183\"></div>\n"
      ]
     },
     "metadata": {},
     "output_type": "display_data"
    },
    {
     "data": {
      "application/javascript": [
       "(function(root) {\n",
       "  function embed_document(root) {\n",
       "    \n",
       "  var docs_json = {\"e0e4680b-cc90-4d9f-9a72-6fa19fbce4f0\":{\"roots\":{\"references\":[{\"attributes\":{\"children\":[{\"id\":\"2181\"},{\"id\":\"2182\"}]},\"id\":\"2183\",\"type\":\"Column\"},{\"attributes\":{\"active_drag\":\"auto\",\"active_inspect\":\"auto\",\"active_multi\":null,\"active_scroll\":\"auto\",\"active_tap\":\"auto\",\"tools\":[{\"id\":\"2171\"}]},\"id\":\"2173\",\"type\":\"Toolbar\"},{\"attributes\":{\"args\":{\"div\":{\"id\":\"2180\"}},\"code\":\"\\ndiv.text = \\\"Selection! <p> <p>\\\" + JSON.stringify(cb_obj.geometry, undefined, 2);\\n\"},\"id\":\"2185\",\"type\":\"CustomJS\"},{\"attributes\":{\"data\":{\"x\":{\"__ndarray__\":\"WIHMKPXkSUBy1iDauIYxQNZvFvmFIBZATbXfwqT+TkArSoyviR86QEKWIwNpkTVAsLSO7JOqL0AP0d5/kYtUQC/WGZG0QzJAAyxHkrS+O0AuramH/I5MQMCi57J9FRNAidNcQcFJR0ChOQ0hXztHQO47jpxGDzxARoTTyYAtKkBIobvYK2Y5QJcLQVHli0ZAVG7C9i9RTkCw2v6/jEdTQCOk72th4U5A2tdnFEZ6VEDkOnt9nYtSQLzjl101QlhAJvJSXxTCWED3aAkBU4hQQGCseBU9IlhA8ocmnSjqOED41gwIDIM7QPHQv/NhHlZAZ4tnYgzmUkCUDMlt5cslQOnf2hoEI0FAjxkNgTBPT0D8ghpkAEkQQG7oRHYHc09Ak/si8dy+VkDAbqKhuoVYQI46Z9GIS0xAkKabW1DwRUCTdrdK5rxXQHdJzpBbPw1A0fS5NzovR0CgvmsCOaxSQDKvsclMIjZA5bw3my9LUUDw1JLN8nBWQNRVWcQL2FdAPBhq+wckSUAWtpoVfRE/QNeX10RgOiJAGix1+XPyRkDpvmNQxxxXQHjE6ueZ01VA+0b61tGOUUDYn3uxta08QC4BxcAOYVdATe9VoHZGVkCna4MqgSZPQGLLCOzR91NA06V2hmlHSkCoNr6fHPNYQD0rGQZXBk5AjUZLpUBGWEC1Xqzdd0JSQPvydzGEcUBAF4W+tqFKSkC285ug1WFIQKT0ENg9jUtAHPHTrtH8MUC5ArjWpRlUQLmGzh5Z4TFAYZgbjW9sMEDShhjevo0jQGtyWo5UWCVAPq2dTyeBM0Bnayk4XaRXQJGx+X5H3lZAqNh1zoF9VkBX3Gwv5kpXQN5YvKSMYVJA/18g+ZfYVkBvqQSf4GdOQOZufDG03ktAFfuvdMTCJ0BtSfaV7gBXQAoeeNpVwUBAtyN8rtByMUDNYK3Fa3FUQBKt7FH1CkJAeQ7LXySMPUCto5ANVsFXQN7VqY9tMk5AJT3rCBdgUEBEa7cQSSI0QKCyAptqxERAxAvcFhvHTkBChQFawPAlQCx1CW4v00JAHQOQYNyIMUB8ILPA9RIwQEHn/tgtDEJAf0Qr/nyrVUD5QX2L/+s4QN1ga3XPTClAEyDXrePhQ0Bo6MAYNgxXQNcdIkCA/TpAoAdW56aQTEAsmGQsqOZYQOtV1fR/NjBAwOgpil2nPUCgUSxLHp5VQFTBoShlyjxArjV5LxjcUEBRQTaR8ssxQJvUmL0VaVRAGY+9SbcxOECcZhiifbtBQLItOSe8RUNAqDW/RHddMkBbSrUlqUBWQFcV+ZH+4EtACDo2MIgaKUAVetmPMFVFQEsjVWgS/FJAIT41NSqIVED79301GI0dQIz7o0uN51FA6TdpPF1fTUA+SYh7YapGQGEC7aN07kxA9eveeXqfAEB++ArS+KpTQCIRuPfNHUdAt3ch9fSlUkDqs6q/1kxXQKkuRuUBqkZAywQdBGvoTkBhjwNcYCoWQDoHErkSvDVAsReuZPIqVkBkY/BZZoRHQOr11AvdbklAWFDoPw4SQECijRQKdLtRQOzM9CtLq1hAjC6LK1fF7D8MuzeM9/tUQBSBSYgxU0FAwdFBNDzxQ0DXEc4mjGMjQJjhdzKN30lApFvwACc2U0ANsU+JXzdUQM5GMUMDoFFANoCzBTkOTEBq6bH8vJlMQCIAll8c5E5AaGGX2Jaa3D+IXHe4epUvQGkvjyYU2CBA9Xw+VEncQEBf3UktHlxVQG1u/jbRlERAeH2EFgXlL0Bnx+4CSKhTQCdmtcxkhlZAZt82NbezQEDHSKTSWI5SQCZLnBksI0xAyjbVGi4ZHUADe80QiGlTQIXe8+rAxEpAPw+1tlb5UkDFDMLDugE1QL6oZd5eijNA+RhF26nYRkCouHrY5etSQDBF9Va/DTFAcpIdCNG7KkBQf5u7IJo3QJfIYYjNFjdAPtZdOAG2NkA4Y54PSwRAQD3R2EjksFhAS8mPoCYLT0CuKnh1sFRAQDsaFuD6dUhAabTFibW1UkB4jkFcsUhIQIf5DFT0WD9AHhZs5KfVFkAcfY4R6E8dQGyhFmVd3ARAb8pFDUwIGkAsutVoXyA5QK8u768c+0JAMkQ1OyovUUACFyF6woJMQGpBw0zRaEtA86dZFHCRUkB9Y0sg9opQQPWim8y/10ZAAeI+r7gUWED1PMh7c6VWQIu+jA6JRU5ADnKeKAH1TUDDMSoLAbwiQJsq2JC6pkhAP+xlS8WGUUCjzuJnkcolQCA7GnR+hlFA2/9r8MLyVEBc3paIEigmQKf1sYe/c0ZA7PUALYfWKkAAYyR2ST4hQIfmNNCuCFFAmsVayvdvV0DoP3ji75FXQAhvZkreOx9A95p+CwthREAwQyol/M5KQLQfno3zVFhA1bO6XnsSSkCQJYpDBgYrQN5BkJb+zzZA6wKia37WSECjC0uJA8k8QBJ+uUPSez5AiXn06PYRIUA5z1KVhII3QPk9vav+ZUdA/s4yCL0dSkDBJZZDVrRAQEIEq/1Uxk1AerKF81zwLECS/uYRvPlRQEjXqwUkvvo/GUFTtK8iSkDTBJdXN0hUQDjMW7RZ4eQ/1n/ay1e2R0C3eFwdHEk1QObs+DZBsjhAskbCYvsmTUC7GAEDh5pQQJx5T+k4oEZAemwuEnrCHEC6avgZwxQ4QN29FUjYh09ANk+vydsiL0CGYLx762AfQPD1VDKSiz5A/MCO9nbxS0BUEmOrKitQQOWAMofB4FZALYjEhOKGTEBrmWqqOz5XQN0qgN/W0TNAEpTDmLYNJEDJEVSMZEJXQMUyhrAKdkVAiWdEyc4nVUC5PNuxkTBBQDip963kSlZAPKdFHWujP0Dn3vOGXmtQQJuX4RPMUz1Apd9AAu8mQEDlybi3KBpRQGNV6rlOvlFAfxABwQGQR0A4PeWyUjdWQHjq0EC4xwVA/NIySxN4OEAtPsiE+xBFQPp8FwDXtzxAMjDPyS1jK0BckzWBlo1UQIaAnMXVMFBAo/Ul30SXT0CeZ3lBs0AeQA97zjAmeFJAGim0Bi2lSUD6jyRp+ONQQA7RGILbTkhAPIMv23TAVkAd+mCvXZdYQBt7E2dxbTFAYScuE4ABBEDV6gzqXppBQAGFNPB6bklAzZxMCoTbUkBLuRNxy8cPQE39NU6GvUBA1FF93VxeVEBnQmt7R+hCQJ7F/g5/klJAMDVScfEeTkAwhaaF6QdXQHYphJC2+EhA+7nSt/ofSUAdsydxb7RBQGkmI1pJYUxAHF+NMdMLVECWQhbnSug/QPVYIAGrV0tA5XVwdM7OMEBRKloyA+JUQPgVtKwefzlAltkgihcJMkCC5TTPzIc7QJatkLjyySNAcbC5KfLcUUCTcNu1YaU9QLgCUJXk0DZAel4xztJqR0CDqmqR/1gzQG7kfaK+ei5A+2anUjx3VkBtNPwIEsFDQNYzelY0J0VAIs474ZyuUUB3P6sRTJ8/QHXZN0C+FFVAyXyMAxt1QUDeiuN78LtQQPkDUYmyMlNA3EL0BMkpWEBW7Yn7D6FKQBAPZ+lj5zZA251OKskbQkCrMoaKqPBYQL2bFrhxVVJA9dSrA7XMQkBT3chHAL1TQLAHFF4w7EpAEr1jvcK0GkD6W2sk4lNUQOEJv9Gk1ShA33n8KbREVUCvv4fRyck7QN4YyV5HNkZAM1LCoim+HkB4pVviQ75RQB4YhiBbbipA1VUaxF+mVkCoS2tO8l8wQBwEQdO5XFFAKpn6mZpIQkCGbH073dsjQE1PBavKjzNATOUE4BRqRUAqtGCm9/JTQMsqmqOE1FdA58VWTJDDU0AKEgh8VCFUQCZ7VM0HnlFAqU7EGVrZREC7a0ZM2mdQQPMT/rODvFRAaIf1VcXvU0A67SSLB3EwQM0k2zvsjUpAanjmKL1DREAJhmt6ioJAQNny0K4uiStAAIPAZ/qOKkAzhd5CoJxFQNEZw6uRwERAiP8hmd/ASUBtFqcGDi5SQCjD7lKI7lNACSf5PHEfUEAVjRKnRPpFQKn7dhdrilNArkVdQ88tCUA6kxQznXckQPFkFgQlBEdAwPmRcZ9DPkBNg+y4S0NXQAA83syf9LU/yTofrASyVUAkRIMxzKo9QAEbBlkr2TFAiop8m/UySkDXr7XtCjVPQM6jNIZ1XVRABu8i9IhUT0DcpznHP9wdQFxQ+DsfHUxAzwYhWIb3VEAeEyzFkyshQCNMPXkTTz1AwfA1GgV2FEDkM8agz9UuQOFG9YiUpjhAwU9aBKUjNkA7IODMTCtGQPfPr45ua1ZAaBbIenGtQUDsuQ2NFSgbQNDdlps/BElAxkfGR1L7JEBKSMvDtuVKQGLfRV4S5BRA/F6WaBEh/j8gMmhpsuE4QFTPGSmIjiNAslFr0+poO0DhR9Sb5rtYQNCtu6tj80hA/EYgdm+VQUARYyj4PCEXQBgd0P3ApFZAfX6jNLxhPkCp6Bx1prZTQFCUZh3QuVdAU0QisKu8TUDcSAjDLbYoQLu/IMTZHFFAv3vDQXXOS0B3qSNnLupUQFG7VnmdcT9A/gDUC3wuVUAleB8GTs1WQDJP7ADfs0VAJLO4HNLQRECA3pH8PAQrQJZo4rxEnjtAEfgbqn/sUkCyMWPrcrM8QGAVa6TS0UJA1mYWKkN3RUBtQkhIj8ZTQLjFBRvsGEpA/iDlhcw3HEDuBa5ZgZs+QGo14twnJFFALIasu5XVNEBFU6y6iQdVQCWRcr9rnE9AXFbSVHTmR0ApKsPaLxAhQIIg+iW0ajdAaWP57wvBVUC4L6GjsEYDQIDC1eE+aFZAgcrzVUqdS0C2nmNDhLZWQISk3qIieTtApdLWuTS6AkDzpmQFo8A5QCLySMwe2EpAMOW/zzrXVEAMTC4HbxM1QCGPJ4Tz4VNABN+2jEQjVEDS0lzC065AQIsotWntmldAyihuV144JEAbq6MlOygSQBZJh5PO5yFAGvahYEPwQ0DpYpHePZRPQK4/YxP6RVdAPew40MQLVkDklz8G8U9JQMwY4/G7wDBAZTHryi27S0CNLYTwKlc5QM+3n1uR60hA724r2FqUVUCk09TrS2tFQCGE36mxb1ZAfCunRGzPTkAQP0tIh1lYQA9eDcMENSBANfpAz1KmVkC1+GuI0YdRQCqU0KyEc1hA3dz2FdndPkAm9fvjnPFXQMOa19JjFlJAARI+9cr9VUDB20RGw8lFQIZusmtHYjdApzcpkvlXGUCTUYYBahpYQA6laBbP2kBAcgtZpHpnRkC/SFL/5+kfQEphv7e7fSVASWak/7WwUUAkwN2A9wxGQMKqivs8k0tAHapq1p4LNkA+3sSH4rFEQBg+UsvWzCtAkVQH4bRxVkBkFWM772NRQCupOlhm2lRARywfG0QmBUCP296defRMQGgbW0Q5Ck9AU07T2zwRUkB3dQ6xN7I4QM/Vjz/1tzlApuRY68bhVUBpoQShKjZJQMyT4djy0E1AtlXLURq+GkDXbTrxKfFCQPSDwz3kXUpAGQ4BHMoWO0B2uGWstKFHQEC+YN77qVZADGXZNvDLKUD5zGj0IQJPQK8A2r4jZ0hA6mR/GTbwBEDwbfa/M3hWQIjPLROyXkJAcG9v+LaNJkAuHlq+DuhAQKFdJM9osE5A91eC5zBzTkDuAGiOR8sgQFzryN2qaEBAEOrVaax9QkBLZciK2s9SQISnIDjYaUZAUPqGHY6qVkBwK2/oBI/EPxgTxyU6ujFAgs5i3NkrLUDMUtTEGy5GQMwvCt7/4iFAICAmHvUPPUCyLed+3NVNQPtj5555glhAYmCaH1yaO0CW7PWHlu1XQFdy2P6ioElAL8jrRF9QLUCuTu+HuMBYQDMiTJDYWElA8gp61Te4UUD+f8Ljb8dCQGb2Go1gw05AMZqdu4f2UkCh0h9d8bk1QEKAj8wC5EBAFs/aC4qYPEC1mwV0gYBCQCXzFiuPgURAwK8vn/4nL0AxHn28fTdTQFTWEv71/jxA7cN58l2qU0DoCa8vrShVQJxqrqFdsFFAbU0HQMpJUkAcIMoQzjkaQG8L5P+N0wdAlRPtZABwVEDNZFhaubdTQLUPpmH31kJAxJcKmLITT0CRAytkMtJAQEjIoYkMf0JAySavzuS2U0Cclt31/DBCQBZl4ZytPipAn9PgrI3sO0CdvBMgQCtMQDPgk6S4rjVAiMd3/pnOSkA6+3xIN39BQLWu0zmsQlhAY4/l3aswQEA9Nu4ofjBGQB/Ca4JM3EdAADgM6xokVkC04OaBQ6ruP0KvhXBT2ENAs2hrQP9CTkCwK1P1c05YQHdVKpKiJiNAlUOly+5sUECWv6eqWhxNQKST2+JqZ1NATh28gCioVkAc6fDLCkxYQB3q7Ip9EDhAQ7mSFDVzTkBmqCF/NnhDQCJpQE/SaVNAyUi69EcjQUDDmSSE2rNYQH+fHKX1ATpA5vyqbvHkM0AA9xpcVG27P+sEBJ5zfVFAmRLjiebVTEDmq5yQD9dXQFjhwWDXETtAjcPMK2buWECQSprQyGAoQAbCGFc8yFRAW538vOEkFUDxnRwFkik6QB29V0OwVlBAZj7XhwqvSEBW7hQGD5sbQFwaZi8doVFAkuekEVMFQkDXBdtuj1QuQMGr5nqPL1VANSjBQizqUUDUl8FYLZojQCa+roCZv1VAm9iD+xJ3VkB7e4OfTMBYQMLBH2wtRVFAbNQJNjbmLkDlmccvAvNUQHKylrGfwzJAVFPRfYN8NkAIwKMY5hQ3QBZ4tLxK4VNAmztpb6NvU0AbwmXW1vxVQEWRo1ubylFAens/i70hUkB6Jkm3N5wzQJshaJqIZlJAAllm4pxiEUA4VelzNrpUQCkojwyQQVBAFTNxguidSEC+m+OE1uo8QKJpjTQy5zpAOlQQMJIzUkAn3KSbHnRBQHZISPh0PCdAD0wiLGrOTkCqjKpYKDceQPlBFJSsCDtARC+BA6QSVkAs1hrrPqxIQDnqd7e9RExAUWOZnW+/SEDMswiNrTJWQG+XS50cn0BAyD6L8HUlTUCVihQ+j2xKQDVJ60pZVkJAEUzvuy4dP0B8oqb/x8RVQIlpAT9vWlNAT9B4cnnoSUBX5tV0jYRTQPauwsbCaldAVu90+3fWSkDcP70pUt9OQGw/YDKwzjpAPooSTDUZT0Czvgip/aseQL1yB4eqQVNAhhCLcsOQT0Ct1U7CRmhSQDD3kJH1qkRAiCzfYMUDVUBkiTANETtGQDsuIjtav0hAAhMqm7qJQEDrs+aVOUtAQGxa64XgjjFADNaIBGNcNkBJ4rdg6j4gQP6fdVaSGklARGLpe0MWPEAUQOU/OzsgQBN2pFoao0RAom1qzgZB+j8jDrr4H1oVQDmjFvAK5ixA9pZNEt5BS0BN60RlaPI2QPr9xYu+skVAg8Zv3iO1P0A8Zmjv8HhVQGVPPLQ3BVRAPaF2277+MECE5UPmvs5KQHu248j6j1FAwHgOaqHVOUD/TCGUpNpVQB5oEslG7x9AivTPduDbVUBEdAmiyXBSQFI88ggMAlJAup49E4/zVUBzKsFgj383QDccKriFdT9A6BKoQ/6PR0CncGScjWclQGcTgIaYziJACsRQK64eKUBVy8pKYPZHQG4WP0eTdVdAXLP1BOI4SUBHOgHWdRRQQL0yNHQLtT5ABwl9jzVyRkAs5VIflxJJQC6mGqXt71ZA+xqi02pTTED8P8yFIGhIQJCY2jTCKjNAOL3MnAK1QkDkLRvaL4ZGQPvEvjqGXkJAbm5eJ7KnMkB1VCMr+xFXQCUb6VYrU0RA7W07Y+OTOkADaiUti1tVQMqk9Zu3eVZA1NtECGVNOUCHwrra17VOQFhFzE6XGFBAVbHYGj+6R0CTyzYDCGFVQAr0OeUJtFZAvf9GHrpSMUClbpKKYspTQKq11icpjUJAJurLpliIRkBrGfTNzUdIQIKlBNSgsDJAb2+P0qLkNUBFPa4K+AxMQOTEEkCmKzZAxCUBeljiQkApFJ6SuXwqQGg8VHqT/EZA46sDjnasNUAmyFX6Cl9XQFcDZB779S5A4p0Qw8/PV0CJpTyTFQxNQIey9WstzDdA+O3YaE8+QUAU+lfagDoTQOIB12mMfjZAiHEnVOjDMECyIV5WCSZNQFMD57OplVBA1aV8KPwPPkCLx1QYrl1WQNv9+gs4VlBA18gTpYasSUD2c64BrP1VQBskSKA5JDlAdyUM9TOYVEAEijBOy6xYQLhOBciptFhASO7138xDU0BHJxJ5BQ4/QAjPQou41URAtdZ7q8qMMkAjJLNFH9RSQBfiP2wsZ0lA/D5iNAf/WEAGIJ68UjQkQI4f9zA8/T9AtuCAY1/iTkDBeut67NozQDmlgeZxhlRAly7buZkXLUCi2S4ADo1XQEeGC9VLdA5A+aN1gk19M0CfWTWQqG1KQJgEkpr22VVAtpyZjJalWEAZxgKLaApDQCRvomwVdlVAwmci+SBNGkDDVSV96gpEQIjXq8GjzSFAwjSohHRRV0DqJnL7wps1QLDTFFP7rUBAELxXapmEIEAvMtoV2URQQNNPEqmIr1JA+cawHGlkWEDRdkRPUyMwQGplotpgTkFAwyXdW3fFSEBG4CQdG3FYQNpS9Ge0kDpAzgQ776ciTEDEfjhpvuE7QKJK15vtXFFAYynuq59aUUAC5T5Z81UeQDJJt6US/iNAxdMkQujQUkAcwycTushPQFFpWGQ/30pAChQcCVEPUkBCFM6JCYdRQOQcc6S5ruo/waRMxag9WEAx6mg2iSdQQNTyYo6vykRA8S2jnnewVEBQ/2zUUNBUQBoXIwcmIlhAHssd+w89TUAiB1+VXm0dQNCYMWn9TTtAxXh+OsJsQECYksBYrRpYQMZx1/iT/1VAp6nc/csmOUCqfgRYr2NTQGYjfgZeX0tAZLuwYNBLWEDV9In/q5BUQCEHvICf9UNAdnxvmqrOP0DAjXE5S7rgP+C+6ha3AD9A5aQ9dmQWSUBBuHo6DGtIQGDlFQLeEDFAvVU7oWjiVECWcLDsyu9UQKJ4RG2PaChApwKR/XW7REByugzHCS44QKH/mVSaKy1ABL3BbWzYMkDGbwncDc0DQDgIzffU8TJAINP8xledUkALNF9f67BQQOVxtj69BFBAspzg5CfYNEBpHCfLnC5IQFXKxuFcTFJADBChOvzRSEDhslusvP4xQOTTvSqoTlFA4iLd4z4WV0DXX1XZXWchQKuZW1Pj2UxAYbJuGtlIVkA1kOjHhh5UQF1JDiV5qVJA9KTnAeMzV0D9FNvq2/RWQDZkKbLTUjlAfv/0SmYKLUD4UQOjDlJGQDu+14xf9ldAxemaLqHCT0AtD5Wart4zQIXCaiaK1UtAQSopht2PQUDkPU1Z7as8QKKDEtx0AENAhuDHwP5IU0AzZIgHIzFLQPNLlvMLg1BAoDLVlS8dQUBSTnLDVhlUQP6W6+uB3EpATRypbdTeSUCPcFzHwPwwQC7UAvhe11ZADM+406NUJUBUdktmLWBLQPuXQNd03FFAo8OwjNcmJkC/dJN7YMxDQKcChN4tNldA7UkClakLUkCsRHU3bUVCQLjVCsJiSklAqEwBy7GxU0B3lXHNGLowQMgXbIEuwE1A7wPSKfrFPkBO6/f3LX5SQAwNsxX2KFJA1P90bk54A0CzV6GG5J5IQCkIIuUB2kRAI22ZZXsMREDQzMWFUKJVQM1/DQKXAURA9fj0b2MWU0BcyonQbYc7QMWgat+0+Q5AEmeSLE/RSkAgbmkwmfNXQCg4X/iWnDBAyGTsOCZrSEA5jbbpTbdXQFTl6skhUVVAUq3YD4MQUUBTDiKrACw3QPr8ajA1WiZAST1DO0n5QECSJz0E8xBXQLVc6UrVmzVAF4QF+aTPWEBxN25aN6BLQLgQoayOYSpAEAJIGcp8RED4AGbNbWI2QFZzA9ElOz1AsDQmHIVyE0BF/3v6bm5YQBs7cOl3IVhAfRpApz7YVECkgKGkAGtSQLN/V2c8fDNACkh43jDDI0ACU5JYJXxLQG2KW8pvzVdA7f6yggI6BUDZJpgfNWZHQKW4GIYpWUBAid6g3WRUVUB+BRIZHk9WQE7MFu0uKUdAFUrzeZdCA0D+9Uc3AtxTQFeoz8n8BzhAgdXoWN+1KUAn0+H9hdZQQNZgY4TirFRAA6jjjihiFkBCA/USWi5DQHOyEerWKE1ALaXyxqW4QkAtUaP/1BFGQPc+ABn731hA0Xwsu26KUEABAXaO96YEQJax031GK1JAjgvHGt41UkCRcDXXZa1SQOWQfol63E9AdyBrg2w2T0BIQ4e0CYtRQEgzV8Xd01FAup81XerPK0AT8A93msVGQBHlF1K9NkZAY4NQyiw6UkDYeXRXvP5MQFgUqBUdwzdAiydjDCQ9VkCerEPdPYRVQLzDf181BRhAcx5acHE6UEAkNK3DhSo4QFSnxlD+MzJABaX7mmzOCkBG+AOOoBMzQOh7DqUpNENAgT9QXz9UMkBSqkbRw3H1P78STv4st0FAOTDG/sVeTkBgd/KYJ5dNQOr2NAL1Uz5AfMTDHEmcHECQ/KGQser8Pylks4Gj3EJA297W8imFSkDowwWA8pNXQA3gLmOaYj1AqmalLrskUUB/yHnU+utSQBrbT5ToXQJAlfJitjyvUkALoACCiLBDQDH4r3cezEJApJuTmRDbTkCDggwDDZ9IQHf6vFRGZ0xAr3HrxEowUUDEFDIecTMvQF2wj1NYD1NA/bNqUCOQRUB2lxVdFeBDQAseywP8fDxAreYeG6FRTEC8vEkIi6hNQGaydCcxvUVAWAbpUXTiLkB9r1vN24FHQFZzX5DdLjVAY0ebU5bIS0DFZ7R9kZ9VQFF0mXvuWlhA5x/VaC7bT0As8LWJwLc8QJ1gVuj4hUBAer9uiuw6WEAZK04qWOdIQFRBohv6dEVAqs0FDCRPKkDLaKU8IIZYQGAB4jXXy0VALRQ9QSsvLEC6Sc/V7WxCQM0cjG8ABCVAEo6LvCnmWEA80bTccUNLQM9axQyr8FVAr6ApzACzU0Aof9kMqe9PQGiQge3hEktAft7qa6CyUUC7K4uORBpBQDSRvXU60CVAYfe1B8IuVkAQLavp4Ko8QF/Rf6/DlVRAYDr+IpuoVkAV9AX/7ntEQOb1siaLClZAZlIHq8/YHEAAwlHxJtRRQJh3YIZUkFNA4ikfhercREAaNuz1poxQQJKcvPfKTFJAlP3MgrUoUEDmh1Ypzp9VQCy3mEh+2TtAmUvAxCxuOkAaaDTAzfVYQOmyP0rtWlVAUtV09Tg1RkBgv5wWN6JSQG8BHcfoIThApmn/r8lWWEDQvyN8AL5LQN6Y2g8/AlZACiG2rFPMRkDqAsa7Ae0lQMtTCkZcA1RAqguukZD1/z/TuiP2vQhDQJw6nt7wciBAAncEnk4sVUAMCjzK/cROQD2MR422cEJAltzR9HiNU0A2if0MnNhSQPBChROMSTtA5hxoV7GHS0CE/XYoiUFGQJgzLypMp1BAKRFq3eazUEAf3E/L0PdCQIKEgArGD01AuLn8uL1GUEDYYWQYR79EQDUh2QAkpVVAEm/KCspNPUA0eIQN3mZSQEYmuk+9gEVA3EI7dhZNWEAIDqHjfawhQIA8zhScY1hA2uN8arXwKUAuGJN5w/1RQDyissGo8ERADX7jIFpHVEBkIt3cRc81QDe2mXsvpE1AqM9Vn5ScOkAde4YqZ1tWQCyZyXpnOkxAdtQEPOyRM0BAHqes89VDQDnzr3uiY0lAmFRc1DLvVkDy6qYu5b4tQCgGq1ifWjhAHC+JgPClUEDamMqB0CQuQD8DBq8Jt0RArS3K1LRDQUCdn1ozet9UQLqsBfAcs1ZAaNoC1HTsTECNoIBMNGFBQMCf6zytpb8/Hzcox5ibV0Abo4j0pkAkQFTd1svyXkpAxVgpDyDnVkAt3ZdKNClRQHXLYe5QsTFA+dCzoIvVM0CAKkbaaboxQBFhQNv2DztAyJsgWcJKTkBDPbIFTzhOQA0vmKBTBFdAdtxOG/mkV0Algh8B189VQOocsiIu6VBApOMgfmAWMUD9gVI7hFpUQC8SGF3EOlhA/oJUgC/lSEB61EjoyntWQGlRBL5o1wVA+wMWdBnpGUBworayCCM3QH2M68GvZU5AI5ZGaTe+P0BBnv2UfKQcQFiB611RcNE/PAAHOKTJVEAgfdzoMlFTQMUFgSqqPVhAhfCE/YGDKkBbyF2ZcxZWQNhcAYnmlEtAkx03MoA0UECBskus6G9LQLAXCY2U7TNAcLuGodhQ6T84ex21VVJCQAxKx6M58FJAzdLlQk3BUUAhrDo63Dw0QODcXV+93kNAI+GdrPphE0BfEy09sq9RQFT6Y76gtVRAAXnvIKQvU0CNX0uVbARSQOx/paL8ZFJAPwO38ShdQkDme+zbZSxVQNrXHZ0jxU1AKNyODrRaUkC5XnnU4zlXQNZbJXUe4kxAj4sVyNCUV0DxQ54fAPBIQNUg2v3+vUVALPX9CO+cUEAlcxxJCclBQNayWhVeZDtAq8TL6DmfUUDEEhTUgnkzQN66yO3hXUlAnq/lY0WQU0AwOh72PgREQCQN9Gb3tjdAmLkTH/ZaQ0C2o1MLS/FVQGPCZgxTQUZAb1UpG5u+U0DOf97M+ENLQHczmYRLC1hAaaH31pdyV0BvBig/9uM8QOR+hgH8qiNAOTRHmoe9RUD4XfzFL2dWQIJ60FyKhFBAYMlKYChqVEDVmWB4SZFFQFa/G8Tky1JAvfY+eVf4MkA7VFVrdu1PQLjz1yUCWlVAnL1KKPWVRECcObBwLf8dQLnY6t3SoFZAJ7TZZp4MTECIxOAyRtQeQLr0SZ8GkkxANBMMOblDGUAZPkT3lRBDQMRWPJbzUTdAi3/kXDWGN0C4mYVDHg1KQFdlMDJP/lZA5xFyyZ7WIEAYfdhbxCc0QGXLdQ3yDkpA1y5HCcHRVEAMDxxYBOMyQPwp0wybN1JAFBvmmP+sREA3RiIp1JZNQM2ts7hNEklAznhX7VfKWEAuL8Oo1mZVQDZkWDZCKzZA1wsT23KUVkAI7YXA1JYzQHb8k61Y5k5AshIlB9g1REBuU9asRatGQHhesf5TslVAbnHjvGhVU0BjwDRQRxRIQMbXdhitjUJAIktdCp8VNUBeh+FmvpJIQDvToFTZ3FRAcbmAWqIeRECRHYBx6fk1QJ2kOXaqsUhAx4z7BhuMOkAKANjZpQNVQIk/BJiEzkRA5XpVJV5sVEDUjso21WBSQOwydPSYiVFANSjbP1X7U0AFD1IZAy1LQCJJpTshHzRAomaYxaGVU0DWcruETcFWQIeQ0s2Au0RAUPvsyYb/SkDc8I285RM7QI1c7lDyFTtA81RX9QgvR0DJj6TlvzVGQFT6goLzllJAu5bz6HegVEDmlwfRPdo3QCvi+wDEm0NAn8WsO0ReTUASeGdvs0MjQJuH20/MAkZA6+tWCambREAceCPl0W9SQAZIGDQ1UjtAPtoONrE6KkDOjmRvgghVQMPJZMuQ2UFAtQ5XkNuERUCixVfaz7A4QNc0tX9UcjhAmWQHirTjTUDwaawuio0nQCa97KXWSDNAmRoPh8viQkAMK0x6/XJMQHo2+FoapjFAzubTT1AHL0DXbRd2i09EQGPY5ayDmUdArwnrX8y7JUAgNxeCswDQP+IvthtFelJAX2AQPhUzGEA33q2wQrdKQBkIjDmsYlZAQlxA+9r+V0AAv+125EFYQPVtGu7gFE1AUOjklvXu+z/KqoNtArxNQOWHpkzSuzdArd/FZD2nDUCRlfMCLWhRQBVhDwvbR1dAvEQuSAJvSkCTD5feo1JQQMnnBRHys0RA/z8uK2IYN0AyRGXPWbxQQK6vNDrajE9AfXVpf4InM0CEWyg0xx5PQCHefS4A0zdAUS/YpaFXRUAt2NI5Gw4KQKjs2vmVTUpAiGPJG7B+7j+QRL8/YvJSQCKZ+sxPS0NAVNLt6+dHNEAcJVABLj5TQPKn/f3g6FBA8D236q5dUEAHASo79nBVQK8rzRMuZz5A4NCQb5dOVkAG1QKO761PQJGiTSfHi1BAmnLMEz/T/j+WC2ol785XQPqX5sIQdyxAcysYioAIREBxTTAO43dAQE0dnXjm4FVAcZGK16aVWECABcQux3JYQFwkxTA26E9Ar42P9XV3NUANB4i32ENLQI1l/rCQg0xAhDzO3nxzUkD2c+GjmWxCQMH3iH6NgVRAS1MXFMmIU0Bq/u48jHNLQEdmkEQp6EJA4bTTtml0VkCIEuWuKuImQEJkECTTWjFAnULr3rl+TkDfNCEFQjpWQHJqjMaTpvM/yRldzUqdQUBSdILTKIwtQCzlj5WZqQxAJllNbe8NUUCAPSQVQB5XQNUBRsb0M1BA0Y59+gOYMED1yugynMhXQOXO53bn/E5AYcbLAm9OUEDI0CVA3bpWQHPilyxwb1JAg5sr9vKWUkBX9+aSfTULQGESn/t+UiFA7myhpSYrOUATyJ9Z4gJMQHx37TBYFVFA8gnHCNUaTkA481sME2UtQE5XsAp+g1JAiO8P47FOKECGKjTFSbFNQCRZ2eSJECJA3sZBFXjpMkC8DhuSDHtVQOj4j/d/rFBA1mR0ey0X/T/+WxOt/21TQHMpBU9MOTRADV0NG+cCQEAoj1NcmKERQG1YiOKSX01AkROj0AtnQ0D/3pjPXhAjQD5f36Wg2DFA8jE4f839NEBXIvckJkkjQKZheI8sHVVAwjuubF7/VUANd1Nd1oxTQKLd7oWXRFJAzHzk946lU0BMqiOa7ctHQD2bFHvY61VAcZ0xAKNURkB29QeD2UVFQGnaJBQRXEdA1LYqBQyPT0CeKVEzbL9WQNjN0WoeCDxABYHzg3SFPkBgUxdTGW8jQGk1Rryi0lJABXRcwZzNVUAb/DrE84c+QA6z8mTLTkNAH+ga5kyPSkDQpHCcZMsgQPI85poT7EpArTgJ9zfdV0CChdVPdY1IQLCjJRTtXVRA3imBd7I7TEBjyRn0x4c9QMZfZiOfylBA70nhIIobVkBa1xO+lDFKQAsslWtmTFVAo/WbAIZuQkC7W/rTOERUQEJeRunqdVhAwG5jArVDSkCSIS/bPhlXQJPF3wUgE1dAHJ+XaoVNRkBKZaOgST00QCvE00THmzZAGBTXoKUEOUCEHNOjuuQ9QP7A0Vld7ChAnmUhYNP+MkAFbQFD98dUQC7Edq3uX1BAHzTwJtfJO0CCcSZSZ4RTQLUZxayIdlVArPJxQ7fsWEA0IoCF9dw6QOisRgYhzVRA1fq5AOSqV0ApOXG7WphXQLdKrhy75VVACttXwJnLUEAVL6/VWYFPQL7ceHN6nClAxzwUx1dcS0A4lxk3I19XQC3QNuKMfy1AE980/hzyMUCkbLKrdQUmQBpHYAPQM0tA0wKGovBFUEBgxMlqUDRRQKl3Y6XDVFJAkpV0UMXIVEBvjIQH2ORIQMGRzJWp4EFAp68S2iukUUDUFSI9ZzNQQKBmUH5RMDNAH4Qps1mWVkBSaJwbHeZAQB1ppPiuSVJANO5cu3FBUEA7mzevpmBIQIyxaHTAsSFAP+X+YQgqNkBwviAMlYhWQPIKvPYWiytAxh31N44cQUD+AqjkBm9QQHcP2l6L5DVAw9UcgpkBVUDL6VaY4RoUQKp9rHT7ykxAMoS2SlZfUUAR1rBPy4M9QNMW3kU3zkRAmLEUxNweVkC0Bpj485ZRQL1E20seyzNAe5KQLP1fHkDGYeIT7uZVQC1iWwhu4zRAOm/HzJDVM0DkZ0cXnos/QGPka2J7MCVA+HsCYyZPPEAMihdDbSxCQLMfysR5DTVAMvQC+9OKVUB3qWYszVEzQLbeq40aSE9AKrP2ONP1V0BmMcfJZVVRQPsx9kyH80JAWYQlqBdcR0AzxEWnidsAQK/dDEYmKVRAqRjsFmgXVUAjYzg45AJDQMVEgHKWzlBABlB135wHNkCNl+EFqwFSQPzK3Uq7UCFAHWvagoDtVEDzd2ZK7wlKQIxEb/KqbVFApuNBjWyyR0ALByhOPoJVQD8D2nRr1VRAdfFyeF0gSEBodLZIp4M9QNUcWWr0YDFA28dlqP25U0AiKnpoI/0jQMVNQhMYBkxAfIXZYlugR0D8JVA3lDdDQNyujQk6JzpAZ7NyvjfpQ0Cd2GkcoLFTQHqwLc6eqlBAlppWpaCLU0B58EqA0VNNQPdsqmKck05AJDmM0lHoM0Dk5vW53R88QAayV9QQlFRAW3+gyFVqEED3PdRtfcRXQEiLG8cLgURAXQ2bxmBQR0BHeAwDGWZWQKkCliTUj1JA8YXOet06UECnnCxTTgVUQMD/cVAlGVFABE+KeAiQV0DJnoecZFs3QELv4BxB7f8/Mi2a9fooF0DKrvCl+zdLQH9bSqIWZ1NAuDLldK1CTkBOc6ikKW5VQF28LaUmIERAp1mdnBRCTUBwBepwPorhPzra9eej1x5A0mMJFnxtVEA1837XYgJSQKqSRpQXLBFAVSoUyOVWTEDgMkEiHVkoQK6kuXFd01hAmGIcbQSrV0B0eo2NnuPpP10duegY7QRAztT9kwLnREDOcdzKisNLQL/g3XwIvDdAiXe9xAUML0Aon6sCavVYQHJW4twoizZASSa2fmVdSkBuwrJ7kr0SQBKpo99JHD1Ao2HAi9GvT0BO/baWtuNDQOwgTCiqCldAVXPe6PkaQkCpXxvHab1DQGnOdpHaCjtAR0UJyOebUEDtr1PiH9hSQCqNdSJy6FBADAnXCv63NUDRyATTOd1PQI+NENTYckVA4N/uFc+CGEAxNzTe3xhMQDXJLJLcPlRApb1nfbtwVUAE98B7kpA8QF8Zviu5NiZAl1Ma7tj7M0Aa9rk+Us5UQPGNB1wmEClA8KmBdxZHR0AGSYb1LwM3QFhLiHOjDkRA/rgb4Vd8QECDTh0wOzAwQI1L7VUcElRAvP2oxeBWNEDiPVDaKpM/QDv9nmMrv1RA3wLoLeW8MEC/Ht87NttQQES9PgrexVFAopF79X7cUkBZyo7qCSc9QBPg2SxPOjZAwcRsE8t4KUB7J3xldl9YQPsPVnDQ60tAsufQJ4iiOkCR9iKNi91RQKD45EkmQVJAnvRhVnN2UECKsJsVoTNUQN5wInTDmiBA/MgWuFwHRUAVM2wJHZlUQJFSKEAU8UdA1hYfVDfEK0CJe5o83vJWQGDaflQ60EtA6p0lTKjgLkAfN82PUW1UQLTH1/rpzVNAScY5I3kYOkDqAzUtaeJUQGs40IUUsQhAS0PPv7RgVUCb8MZzNPdVQHdndAdKpUlAxdpLUxK7AUB0CGwZeI08QOi5xTiZyExAtv9IlN/mV0D6VMLnavFWQJBCg5HhzSpAlBL9wR0bUEBoMp9yPGk/QEmEaTWvLExAgMUVUvpNFkAIIGkOLJlPQKjGnKOE0FRAlH8k/NU7SECxji3uSBEyQAA9PcRPkUVATX7p/Y7rVkDwrVQNrPdRQKO8VdRVMkdA4xnoaIa+VUBX4g4LNndNQMxtTFqlBk9A/SjWeeQqUUCXsyAnIgNXQJ1w60JCJUZAwZZZAtjmSECaC3eLvx5IQKvdujP1F0lAmsrIWhpbJUCif6HXlTEwQFaYzcRho0dAYJ8DJ3XUVEDrfEQCLXxHQHFavBr5ClJAmhbWavXDPEAaJFGLsE0SQDYAh22HMihA0Co5Lm4FVECARYolkPxUQEaGC8qzqihAGZQ69N5jV0C6BR4KOvRIQJ6Z9ldWRzJAUHMEmybNVUDlnKSEcb8/QB4B9XGWd1hAcw9eCwouUUB4BjkpRAwQQNRY3YTbPTdAxQAXzXRkQ0Dh6Qz92xJCQI4ceQCuEUdAVPY1ww7bDUBunIUD6y4sQINte0kZ11JAehuiGD+mMkDa9jdV/D9IQE6JeSgpIyNAJ0M5BIoxVEAtjETDJOxTQKkhY3BwBSVAlmReGLr/MED6nbrHiwkZQPDGYuu1DABAZdRXTZVkOUAWxHuoUxc2QMhKuKSD3lFABkM9UDsG8D9j+hYgeG1BQKcvO0yQeEVAD4yLuKmBOEDwJY1X90BQQNCs6BEkWD9A+YRwsfrkRECKNxOT6/4oQIZPLmdpYCtAhiWsYMDAM0BMuAKCSSJGQIzegveUiVNA6kRATOaCUEAMJPe9ushWQE/XrfZgXFdAwSzwaZlQQkALfbASLJlGQChCTu6bllFAd/mNgrZPRkDeJ5MRIhxNQKpEXk8kT1RAJLo/bWxoP0CgGXduzw09QM8gSEGDOR9AlMOoY18KEkCUq3hc2gwIQOKHLMtrfD1Aq+Qm7fzxPEAbl4dalAhRQARUJH61C1FAqNafYGLeM0Bms1HTy7JVQHhcUdMIBklAnGexMhBpJ0Aih6+/8Hg9QGY4jo82yhdABdKrkiP0MkCiA1LEDrQjQEa/AB0JlE1A9A06FTJgT0DQgn5cBUQ5QJzhBfrd2SpAVOi7xzl6NUA91N7sBYUfQLhb8WWtnx1AiHRtIVwLVUDZs0wpXs1XQMT8L1sTTE5AThJGMAg1M0BxyesE9ahDQEreYlh0MUVAqq0djs4SUUD6iBIUX85YQODTRzKarzVA4vAyxCT9UUAvz2mqjFxRQMYpdeCrAFZAsH9SeIO5V0D2r2p4RcdXQMSK6fZDlTtAxD8baogJU0BrCLwLS0hSQAZZPcSm+klASbDjdkl/NUCK8JBGXmdYQHxzfnnlS1VA01ZUCstnQEB95MmyHVxJQBqQkFGiOiZAojwaG6q+R0AGmsJyoiVYQCbXu+9dvkxAVW8ScJmUM0AjDdmzXDw4QD826Cat7UNA5CNLriq5UECNC/xUPrlTQELZ4Zc6pEtAVlma7ISpU0DdIOb4YTE4QJu/+wmyzz5AIXGIeb9BUUBqLKUvfHhXQDxd/FJsVjlAtiV5O2oOPEDRjzsaBe4JQCsJVM8P0VVAL46AA8LyU0Da0p79Vw0wQNpFAdFhplJAxrOW7PYLVUCqRligu+tYQMgjrj70MkVALI0zX7kcSEBwvG4jyJtSQDQXg28ipihA3EHfntpZNEAvWW+T9S05QMIKeWdNtlhA7485TQaMRUAyJgND2Q8SQNqitNl2s01ABL9k1BlRQ0AX06GLeT0TQE4aaxcGUgdA1EjYCOb+KkCq1EoPNYBSQHJlbOYarFVADB3FdecNHUCi+5XNYZpJQC0st39EUkNAgLLlhb6JDkD3PkVRW7xOQIzq3DRwfDtAgbV5yXYPI0D8KyBroOtSQOwjKLn2d/g/8mllug52NEBg8YsitGo/QFX1brO+uFdA9Rozj9CYQUC8a2kln6QyQFCCBiYy6jZAmED1RyyMJ0AqI+5Do6s1QM0cR9jGziRAGyzZqfl3M0CziX3YJeFQQP0BNb//HlJAC36CwC+wQUCxIsE1s/JJQJMwu354iD9A2l7JynZHS0BWkY5jxlFPQPlD4UhQPVJAA/M5uzEMRUBPnSHbAklIQLvcqBmmV1FAsvjPwWUQNkBMHStQBZhVQDnapY90a1JAQZr15xBtU0BrgC6s0N1IQM8KKhmTT01AhT3jzGh+PkBY7adU3HA/QFPqki1thiRAgd9XaEwtWEDcXzjL/UBTQPO1LlCDbjBAOOGVFFyqIEB1mVBiSihWQJbfkn7Alj5Av6hw3yBRVkAmmMVROo9KQNmaMtPxQFRAaFTW3HPfVEBEhETYNasjQM+ezVwK709ABWyyAIstWECogSGphJAoQNHACPQdR1VAvAz48WpQVUDplLTxfwZKQIJw2EpC7VdARvqyT4IpO0C8ln45ICBUQG337BsYICRAL44RnX2hRkARWxbEGqhQQKzCFiGSmUJATm8mPZ5VOUAY/5i6na1XQIn3b353gyNAGGMmVSkiV0BBV4Onwp1CQO+oynbA7VVAc18jXMPeR0ClAHz8/S5QQCUnW5uQl1ZAVJkVzfb2QkAD7cNGKeskQGknomDtHldAMmX88oaoMUCXdad+d34YQAplu+KnXTFA9kSu5oeLT0Bw69hA58RLQHPIvmWJGVNAj4OuqJP1LEBBB/0Z7/VBQLmuVMvKNktASWB82Q0SHUBsgWVf4mJRQJJrAHlJ/kVABdfaflT7FUCpEjRXEBZTQPFUF4nkFlhAIIgPvaCKMUB82cvw0SdJQApHIdp4ZlZAKPilXilBIUBKniYcHCU8QBwgXwVC8UlA07aqcnrvV0CG1BwCL6dRQLq/OTJOXkRAa5kyZ/hLQkB9Vus2eThYQFB3v3u7HUpA7q/sbtA0UUApwJkH8f9GQAfR0A6fYyRAgyQYlxIrT0DNLXCU75dTQLcQgVQG1UJA56t/p4e4TUCq2+mXzb5YQIDzJ1YQhj5AUYg0Euz+UED73EpYN4JOQPRBHkzawEpAUGcOZMBZSEA0F1qb729QQAf3B5WcxFBArHobOKM0WEAsLPH4WlRUQF1Gwd0y+1dAX9cbzuYnREDkM+Z+iTAWQBRaGmsy6UVA1P+MhFL1UUD/fCZQFhpHQDR1/LHVq1VASFu1ffgtVEBr4hcJmw9DQJJpkcsdXz1AZSr9UOBVJEAZ+v8yjY5WQCkqKzpUYTVAi2hx19q6RUAowENPYzlUQDEd6YmHczpAXK+UAk2PUkA6IvbneFJXQGhhaiY5ZjlALHKEoly8SUBGrJ7LUB1JQIpRzDIfBytA0aW6yekQRkBq5oZPrjRYQKNZPyf0ujZAzOde+bVJTkCiP210/q9FQItTPZuU2zdAKcXNjRc/SkBW5A5VAmNQQE3DD3glw1NAqHzuHz+fUkD2dxMmnn1JQCyq0iQ521FAgvCr9NfaPUCgsGSYlTfMP3JQKPE331RAgybLAY9WVEBEAnyQhl02QKCCsH8wv1ZAfY9iT1pjV0BZHx4PJmlSQKhPKO9TSFdAvMMhGKE/SkD76/RK/WxJQIVkyKHeaFdA8dNblSY9HUB/AxlOg0hTQNA2YdtYUClA0srpErYzN0CDyfkMtPtXQLmnmBgzVUtA+XpUBYVzJUD3+zKgMn4yQFou5RNOdjJAD1nsg+uRNkAzHhTa1TRQQOkzoQphwCVAp9sSS8BYNUC+geNw4IpQQJ01VYWRnElA8n7HEAASSkDt8GWDwgdOQONkEW/FTVdAlH8PZ7UAV0DBo4G8q7VSQO5556shYUlAE6ob2fcDVUAsWzm88jw+QG/ohvJ3ZVFAo20l6U2vQkAwMimktmQvQOFQDBjDVVBADhz7peb2U0CMYbG6W2tXQIFLXRYT80FAUnho/hA8VkCsFOpUZn5BQH4KyDtdMzhALq4PEafcPkCxALAUJp83QCCj0UFj9fE/0DRc1vbVIUAcFPCXxg4NQDdvDAYxxVNAPCez3kCsGkCUPECfybtJQA==\",\"dtype\":\"float64\",\"shape\":[2000]},\"y\":{\"__ndarray__\":\"YLGfqP1sSkC1TIU6NwoGQLjzXJYAOk1AG5xVMp7EVUCvXc8xiYxEQDnhzz6kP1VA3WaN21MHUEDAMNq+lCdNQLomNHJ0j1hAlB1hyCgvPUB7hWcVSP9NQJlo9UjLPT9ATtnbsPqqJ0Db9x4njzJYQHSd7lNUFVdAQGuJB0TIVEAmPxPzUCg+QHG/QPQ4N0ZALpX/+0J/UUAw8mDMJfE7QEIDMtbBZkxAH1cjyYAvSUDiKmZzVPdAQKK7AGJS0DFAd8auIAGyMECGVr58CsRXQNo7MmuttjNALoJvzjkqMECVPBOn2kg1QDBTn/j1blJASVssRVTjMUBVh3QSmoBXQJg3lalIwk5A5gjkETUHQ0AKJUqzxblNQNU3ZZ9BuT1AMQ5fahq4O0AIw6gS5/E5QOWHZgpxhldA3M3TBM5VNEADzUqMK5VCQFNNrIu9RlNA0F6qIup7MkCkC77yjeMWQBRMp30M5UNAi4JI2bzJPEBUTOIJBXxEQEGr+9ftP1dAVqroudUu9z+wDR8w435UQIkHcN+4vEJA9g/P2+ZKTUBikaOJYZ83QLn8mAofKVZA56Lh/sOCQUB+j0Z1ttUjQKc5e1+brktAAB3YzV6QMEBzgz4MKhhBQMF2eFr7iVZAoQ/SocWvBUA2LXM6cfFAQA/0CeQ9ry1A6uCL8UohKUBQPI2xMohRQEQFKn75g/M/p28wen58UkBBd7skU0pWQGUBC1DaeTFA7NIKprhUVEDFdTnv7XI7QIzdtmlVs0BAYb+8xuaDV0DlP5AWyoALQFOfrKQD9TJA+PMOwxKzVUDX7xZWnsNLQO597xvXlkJAiBEhYfvEQ0AVa0as+SFPQEBwiBxeXU9A1ASW2s+4UkAI1g4TcRdSQIXaD4ZLBSRAI2rm0jSnVkD9PNhW2rVTQEXQBckDqElAW1aAeu0LSkBYruzzxXn1PyqBy67irFVARbPS3sY7UUBEhLdZyhNLQOuYlUuVDERAhtTEfgueIUA42kLr8L9RQMqkkxAx4zZAB+ssK6W0OUA4lU/DRZFJQNMFaH7BAlBAX4WUzegPU0Ah2azkGkI3QDVPsELR7kRAvG3ZR627MUB6CvU514sYQEKSS74tS0pAIBPvDbnPQkBgVUn9SHlXQP074/yM/lhAs8m5SN7BM0DqTu8cTsxAQHTxFGpaCUxAHJIh0Yb6UEAAs1SnWuJCQKUyoZxirVVAMjMSikhuV0A2GrFew/k2QA6vWXFoHEVAFLmrtgfxSEBmaZXzNW81QFb0cApcxVFAevLTDDAQV0DGmTfOdOgwQOH49flJzEtAiqrPhxvSU0CVtorqV4kzQEEDU4cb/jNArojijmtYWECHyGbKQZRUQLCXYYo5FFJA7Qqptpy4Q0ARaiw1xjlSQA9tmsJcs1RAVnJe6EPqR0B5NI0OELQVQESOwhiyYFJAiVDk+tBkTEBP+aNiPcJOQHZwoubb6UBAg4P51WS+UUD+nEyAp/dXQA+tMZ1qFAlAnna255QbR0Aw3KEK+s9WQJukmueFWCBATJ0uHTjKSUALtR4IailPQEzvGb5r4klAwwyQhHvxSEDV5RzdcXQOQMjIZcxQ7VNAuAJe74AVKkBkO3DD9PJJQLurFy4tTVNA6oL4xncPFUD4FWBcc/RIQJyKIh5NH1BA97ZapHjRRkCtZ9vYFXBDQM6OJNTo2UpARaU74V2MPkBDhsAFfZhXQHGVnZnvLVdAi+wjDXf7T0CdhbQJC0hTQMZIIIQqE05ASG5+R5nbSUDKgh63EutHQK7VgfZFwzJA8r3TAOhmTEB2Yp9RhstTQFZFSzEEEzlAc3nXzwbMAUC2AicCPjZLQPxqI5wXcFFA+7BJIBKFU0DbKYZXtpQ8QCVsN2tqpTVAZh3MGR+XS0AYDRRvsexHQMbRGZE5DENA+5VzzDX4VkDFwtrnlbdKQMhHje2/FlVAkBhGBanaI0DoBcP9thxKQK7JJEfcvVVA4N9FB8FKQUBh0Jkg1ME8QKXNEo20g0pALNyXFhqrWEDeapiC0Jg0QNxHmffWJ0hA8slI1DdZ/T+rEzQAe1VRQB0GqCgjclFAO4Vvqb3yTED8JyPeJWkzQErZlxl8eFNA8L66IRskU0DkbjYOv2FRQPsczUJXv1dA35ZmCA6LTUD0ckAuYTdUQMX5b8e62EBAuAcniHSXNkBOouuDz0lGQA0JY7DfmFZAbOFxIXQyU0CMmCaL1HhTQDLDUgR8eRNAfxUiSD0wV0AmMSgWqvtHQNnaeQRUAFRA8DnSS75BQkAT213IUFdJQEV7J3MbslRAS5IxtKXRT0DsCv72QThDQOSLVbnmOVJAJAZNHj/oTUCNTZaS2QBTQCxdQbHfNlZAo18NeKQITkD83wB++qY7QJ3GW9VemVhAq4Rsgho9C0CHpvFxWMM0QBamAsxsaDJAeTOKos0DPUD3MDz9ENdSQIrgTUBVqlVArzJclqCgRkC/otYVvQVQQED1m/2/1TVAc8Qxscr0QUAKlPQ5/7FHQAnaP1Mqg1RA8Y8lrkLPU0CNj9tDuSBQQHNTEbP2Z1hAxVEXL+HbTEDv7ErQLlguQDcoSm6lzVBAj39yfDYyRkDCf1zmax9CQK467orpkzpAFd5g0FnAT0Do+XFzOI5QQDCgkcuAV1NAcE2mKWS1UkDIYE5QrLhXQD1mGUVY5j9ApCOW12HKV0AC5uR9CMs+QBnPCZo0kQJAcGfHluK6HUDUyahU/81SQILMC5M3yVVAi7RlufDeUEChhYrv5U5YQEBkpcrkgj1AeC7q2qRSR0AmLlI3StkxQGcSuV/7C01A1KrhMInCRUASVHnd5k9WQA1blU5aVFhA1C/01Y02LkD2uWhWajdUQHGatQC+kURA4DJJ0cp8T0AvEKupTIhVQHUb+MwhsFhA+Z63ElUXUkAj5ed9mZxVQO6icBYSj0hA24pGmDntUkBoXqUm+tdOQCfcYXVS4ERA3+K6r3tZSUBr+4XuwEBRQJY4D5ihQVVAzGcvesYUKkA216/R7clFQJiWN/LZ+ylAXh10wqSsSkCtWsXHKv0VQNMBw4Z1MDJAFgIylEF1QEDAL+WkF8cFQAFzgWhZoVBA/jwUTWLUREBefVsKEjRUQFL9WVSrzDZA0HHbtaRhDEBqqNkjl40TQJzyhrUAxDNAMtpbnGjqTUAcDZVbryE4QPCemzincVJAglInCG/3UUBPBlxTP4E8QM9U6b5JcTxAFddcMvPsVUAeQ/CSkaz5P7SQcJaxUEJASG643JyIV0Aw7XTPrXNIQOeroRDvIFZAJLDz//j5L0CXR+bUzzhRQJBZc6Q+oTNAIT/AoGJZVkDwsoGIuZ1TQFAov7l1vVNAyfAo6kG8OkDcs14FFXVEQK7VDXHhAklASbIWU0QiPUADBKGtWQtVQInOKKA+v1NA5QhPKkKTWEATkFe0BCNXQAfmidYyeVVAS8YQDYq9OEDjd4OwUKBKQB6GBvmfnFdAOjA5gepVUEDm8lCzpRtUQGarIuCty1hATjHbTv6mMkCvD/svH7FAQP5fjFDdQkdAjzrqtO4iUEDPfVnJyQU3QAY8XjJAcEhA5MaNOZa57z/N521omz0wQCzUthIWfVhAn/VEff8HH0BuL/1Q6VImQNcvm11elkFAAC4Bi5jNQ0CKtT0VPhNWQNcMYinhv0hAGY/f0k5yUUA6VWkfUoJWQAjUVpbPaUFALsuG5YPGHUBU/rD3nelWQI1QGER5QERAcVQpWXxKL0C4y3ZR9vtMQP/mtxarOFhA1FPr7QREHUCSlWTdMchDQFD5b49W9E9A8SXFq1UFU0CoWGOYyJNHQJJo5s37Vvc/nhfRnvleUEDjorAaFN1QQCRadZUqD1FAYzvRUthfSEBUGYaUAeMkQKOgU6eeq0VAORRyL37TNkCtTvVhKv5KQIfjrXGhmFdAo6eN94zNQ0CGbsMzdZFTQD/bibUbglRAHgiB4Mw/TUBQBv6hvnxRQNXNceVgEFRArpaclJo5NEA7wrk6GFFBQO7/0iK3W1dAd/6KSWC1MUBoNBL7iIxVQAoxYLoPx05ARbZQtLHdVEBKvuo06N9HQP767SreBRtAWU7/1WwzSECMVDKVJKdLQFqFrbeX1lJAFvd6RQJBLUDEYkeqBbRBQIHcKkbRllhAZIZ1ouMeQ0AWtQDQfltXQKeNlf5xTjNAtVTh3Zq5S0BZ19TLz5ZQQMmwdnFnLTRAc40sA1CvUEClb7g+HpFRQJFYeJcdRlVAsJA+iK0cOUC2X/ddGo1SQHWNc/7gj1FAZtvs93vyUkDGkHBcsUtLQHLc8FxVFztA125DgHD1LUAtX3JbTnFGQMaX+bUEJUpAEVGtyL7RBEAEJC6EptM7QAY6DvZOUfs/t8fTPt5cV0BSdw1w/yZTQIHxP0KzZzRAuvCWDqYHJEAoeKRbIF4hQLYzsYQcAzlAA/6IrYTSVEAGEm6Smh5FQIha+/vgkkJAT1+6BA1qSkCt1xpfEGYMQLRC4BCmnUpA+vg3wrBEQkBvea/aNSJSQLrV+gZ+FEdAxK78Si9vV0CuULYgF0BXQIu2HbK/WjRAHMcadaueMEDEsk3+KVBGQN6qbV9qRFFAvrh5KZOvRUDhj2cTMqVAQBQxeyKnwkhAhjIV5xHxSUAieEx17J79P/3nHO0OyEVAYHQXlaArKkAqHEZ1EqFAQOCvV6SkKDNA7tcEmBUeOkA9ArA48IQ1QEbSCdkky1hAVqA0G1meUkDpAr4DlphQQIasDDk0YRVAyVyUSmTdV0BlOtPnSKVSQGC8GIW/klJAiKo9jctpR0CSDYw/Pt0eQNCmZSPY+1JATzURo5/TTUCOYEV3c2pWQAfSlEfKNlZAP8IUI4TXVUDLa5FNxqBVQPnbQ6yoXFBAcDHAlfngT0CQvuFAaes/QByHMyUT4hBAnY/VAqSFPkDaYf0/kvlAQCFJVWls4EpAnSO61w7XB0A6GCtaHJ1WQGSChiJocDxA60SImDi5R0Ad0qVhewUqQLe/RFsx40FAZrbPSS8CTkC4YR48HFBVQI5ZegfplzVAAXy2t6NbUUDNMWwt/xsfQBwIIBeUDU1AOK+hkLfMUECNaRvLhGJJQBRWmvGATDdAaansa7LNL0CyEScwADpBQJ5gRFIVSUJAX3AaMDLHU0DiicmusT44QHm6UBL+D1hAYGpR8fOBI0DEl0mQ20JXQIzhLgFA7FBAszSZTKXVWECqFgq/xDZWQFKt/i9P1UlA0jNKV0MNVkAypyonnYBDQHv6hEKZbEBAzqHQAhGMQkDWjggIB0E7QI+1gMDPZldA0IfvC8TKU0AEbIgxOtMDQGr4gln6rkVADli8b5TyU0ASdYtkqblYQGSwH4LdMDxAKwDmcqd1UkDu78ZpjAweQND33UpUfDRAwBdJavTsVkBl6eIDVEMuQLPr6yGo40tAWwklvBOBQ0DH6llXPKBSQPeOIvutskJAcp5AgFNVR0APh+Lcnj9IQIooUuRnoVZArmlWQLMAU0C1KO/pvNRGQA36MqGZqFNAmwf7Y1ZYSUAy2SYCMd87QHelHhghpjtA5rc7VVieV0CW48xoKLtJQNJZyC7m90dAtxrSfduJRUA++z/stjVTQI5wC9O4eDJAtODxb9mMQEDeW4At0ocQQCnKxoYLpTZAhL8T2+8bNkA8WngRchs5QGzaZ83TkkFArE2WN+PcP0BbSnTnmHkvQAYedwHBBDZAWFFkNDThI0BAAjlyhL9TQJcl6xdBD01AVSmUe9SDO0D/JH25AKRJQPsnIAJz3UpAttAy+hnHWEC553Fp7iswQKfXr3y22k1AkMWftTv6EUC3EjDOkG5UQLtxQ+4koFJAG10unxH1N0BXxhW/zD5UQAu+p8uzJVhAK13KkhjiWEB+fpuQ7wtFQM4jfbldpzVAy800Vt5OU0CQ0d6s3YQ2QCNE4piyOjtAWZDY9nUGR0DJI39WjE9QQPt4YsijCjBAP6/9wAgKN0CfX+LlcMBOQKxQ/ejyDzxA5b0OzO62E0B2SAKf50dMQLT3+da8bU5AJQiLeOqbQkBs4kJ1LHjoP7584ComBypAob9sdCtUVkBBaPW9sI9SQPRRpr0NQEJAqlUH+VV1NEA+kVXVAHxYQE58toTor0pAPljmkdo+BEB8LyaxZatJQPyeHjcM1lNAXlPE+BbzS0DRsmluwjVDQDy4dK7iEBNAIdR1g1y5REB6e5MCewNQQDzoYcdPzjVAE3WOEIsVR0Bz9yo9JCRLQCgDZouRGx1AMXwD8uaRVkD4mYuu+7JSQEUKvQjKlUpAIIM9oP8ZMUAwmjl7Dv1CQI1oFcU9WlVA5pJcPGoCUUBCcllxyitCQA8e/vAa3FFArF5Kes7jQkAQ6DIy84s4QIeZ3v5xAVVAMiRAPCZWV0DY6wcG6CPYP8w3KeFCf0ZAbWwUAAEjSkASLYbwb+9UQFaqJU4YtFBArBZqqmM7T0DoBTgqHukrQJoh01ACnkpA7MILSQ1xOEAg/iTYlJFKQHkecPPvFEBApdMMkkKmLkDIhjyAHZJYQDpLfruoD0JAXTyZxSB7U0CoHulxnxZLQCDK8kqFU0VA2oqMOZ2vR0BhWX87do5RQCRt3pIJHBFA27f9s5WxQUCXl5eCNNxWQBS6O7LUs1hAxudFjh5pOED+bHo2/3JQQFLhqVXdwDhAiGbva+T0VECUGe0w+gs4QM4FQwWxCFFAl+kTq/bgVkCEY+U7FLQ+QPEXX0UfJydA4TK/SpW+IEAY5zTzlQFYQAN/x1aXozJAzRmtH4nnRkAZs2jpqB4gQMBY8q0U2jxAie7Rbn9PVkBjPgTYYG9XQOGByDxdokBAzK75/92ETkBO+VfKnyNQQMHmhmKRlUJAH86URcSKQkD/NTMfbiMoQDQTashNNTNA1myCnXQePEBlqBda1nAyQD+xjA5AGFdAKpBeN57GNUA9QdNlgBtSQATUEr0yqE9ASi0sLiUhF0AgsyJmQcc7QLZo0JVkNy5ALnGWvgOEQkAXf42l8l5WQI2fFwk5nlZAcr4MoPpBV0Db7cFjlrRDQBE/e1eGADBAhAOAeIacSECKb7bd7+9LQAcKbKzij0BAP/XXVpPAVECacZ0bl4g+QMt/rIXNlUhA5Gk8rix6T0DNVWSJqARPQGdTeJzFIFJAdNM5Og/ZSkBIRfP7tFdTQHlZqkVZ1lFABe7S3/YgR0ASeqGdZsxGQEutrU/mZk1A8ruczCwKUUCoxTV2vCVAQDUCmHi5lkdA+NlnTPjqSkC4+i7WXhHUPxU7PozhQSdAtTbytQU4QECoMbN4SJbrP5AsTjra/z9AAMLS93kNUkCapDh0bUwXQEAxsnFH4O8/abhkBqu+TkCv7/ElT9dVQOiU0mCp+E1AX8WEDfMtMEBTOh/aOn9WQJNJNDF8zlhA8IRQfXqoQEAzqbPfqH5WQLnHTR6Af0BAyS3itFKBVUDrl4T0aWxFQFPDaZZeolJAgN8bZtCDqj/rlu2oSSVSQNo7p31KUDhAhdkhI13zWEAeTxz1oMtJQIue27FhDlVAjvvd7KjGVkB7ysza675CQOpeJNCeZlVAYo8DzswcVUBZvrtVnzdOQAzISeXEUVFAdTsD7HCmAUAswEkjaGZTQApJRxlsYv4/swu40G3tQkBWVIgCLCRSQPW9OYmnLlFAIoua0P2MJECYeLV6qpAQQC6ulBp6yVhAEDsgczSrVUDFf1Wp/wlUQI8h40YV+DpAPnOBdOPCLEAIB0US6ZFWQH/eu+7qkUVAvwJXhIpzVEDcuhM3BSdVQNG5b2fkRVBAibxywAx5L0DEOAZY8aUtQHoPIpklAlNAERNE4GxJQECbbbKgG8pHQDrq9uG7y0FAAHlzqbjwI0A2bsNelN5YQPJ0eEuN5TJALA2uZrmAUEAG+qCWWhdMQJuH6whkqVJAV+7Z1VF6VUCPh5km+ONNQF2Ylw/e6FNAYo+qgrN5UkC3BiejI7BQQGdweYvFYlBAdob4hammKEDySkv4N2xQQNLOcoFLl1JAGkdpZ2vaPECzDqwVDwcwQH9BT8FDUixAyqIA7A1IVkCs9dhDZE0QQGwbClEWpjtAkU89MpJ7WEBI9Y+RCpQoQG1WirI/qFFAvUs5xwn8VkBduGfXcfNSQKB2FxwOFzJAsGcczFvNREB/6Lt1rJ09QKD4kRdLUSRAss3phDrFV0CR96p2viJAQKFP7G5o4lVAc2zEyRNDLUDIV1ffxOIvQL7yhfZCxVNA1yfr7bzjTkAsYtlnzdE3QHIDTR0aYTRAyQFCRo7aUkAHjlefdg1NQOndCH6HRzpA+XieRk4YH0DF2enkNqxMQOVnxJMqsFBAGB1MGBDJQkA9Bqca4+0AQDCpBMaiVhVAiom+/96bQ0BEtPnx4S5YQEBNQKVyclNAGyk+14W8SECreENfdURTQPoFXlhVjU9AbLjzNZqLQkCBynJER3lXQDMaRbHe3z9AVpAnQ0zmV0Dg7dSUwdpXQCe1/99QflhAsa3uqr8iIUAN6oYnMCtJQOZzweN1f05AIJM0Em5tWEBlG7NpXHxAQKVC562Vq01A001huI2wUUByPwx+07xYQFZSc+HyvEZAoGetAe13xj+d6uE/wZ9HQC/CqOgzklRAV6PbF45KUEDv4otIPYxVQMIEuG5F51BAIBLNLEEMUkCfjNXgtJxRQIdxV3IAM1FAQV+0UpO1QkDkYqc78wtUQBmKoNDdMgxARB3CKGaSTEA8SDvJ3CknQEhQZuCS1x1ATmBWpm5aNkBKe/I0XShHQC/lAGZ1E0VAPtjpffd0M0BZguqMz0ZSQDFKbbWJvEFALjmxAV6cCEDqC2Wyc4JBQCSYP9G8XlhAEoyA+JKBS0CVxBCz6JtBQOU7fKm9OyBAoFCuzppTT0Ap0UdRRkpSQASGxOqPADJAIRMULFsbQ0AqFTjs2mFKQEp/wEHtcDZAq66BCGOnL0DohrQp6UU4QHm1delmG1VAlCA4O75GU0AYq5X/3RJCQPQLiyzEuu4/HTk6yzVuRUBPRBqxFzJXQAyM1usYZlBANDjD+B7SSUD9x4Gf5oFUQDNF4g+qyVhAHiCkYbXQF0DjicnHQ2ExQG7CxBVnZy5AidXjGGiuPUBb2q6PZydTQEu2LPORfVRAiQRb6y9VCkDlaeY9E7suQHXftcQIrT1AWnlcPRiSQUDyTggiIPVXQNbeP/UY9B5AjV+0ZJ9wVUA3gthdOdZLQNI71Iq1p1VAjHeRJrZZR0AudoHFTPJRQFbqUrUzWSBAbC6s50s7R0DNVoQFyQxXQOypOZuomkdAMLyQP+eKPEDyssrlpf87QBTg1VqYn1NA8ByeRjUtQ0Aabzm5YSAhQNb0laeKr0JA4E2tMF+CHECw13i8B7lYQOfDsamGoD1AAe/S2qTEAUDsBn0NGvo9QJEW6wl7GCtAMY/McIJXVECJbXepGmo4QInHQRKhmkpApQvRdPWzRkDAir8Q5odBQPYjLhodaT5AGsZn6xIOQEDXv/RofqZGQFbkV9GDWzpAZRWEAoukSkAI6csQenk6QDRPFPqDXD1AzmgFDCa3T0BTXtK8eAY7QKMSIsSrp1RAKgEqnXt3BUC/msJ2Zpk9QD8utyMz2UhAYlYB/qA6TECYryC7x21QQMN0B+nPO0BABBNkXcv1/z/ZU2/CJSU9QHExojCzAFhAXpR9wKyiUkDJOWdyTwpSQOaTZ53VTzlAqrynbbySI0Cd1Rtd07MEQALrtfQgPU1AEXogguINUkBUytpYhF3yP5S7ufqj3EdA0EnR2ePlU0DSzU6vDdxUQGE/M2nWOztADgK+EX+3VkAYyllPGDZBQJ7Ql0QusU5AcCpg3NCxUkDlzeUK2740QHRwnsWCszdAOdT3MiT2TEAOR/gKfGNAQDg0Wq037lZAWgb0gUFjVkB/8VnVcORRQNOVj3zexxFAAL4AyED/jz/Ks6TtoPpGQOz/x1JbPVRA7Prs+bObFECKHEKS2LAEQESDdorpyklAWCJoeSxwSUBto00GSaE2QOnfvgEs0ktApcjKucm/T0Dz2PYAUVFFQPuDMKKatEVAlXyY0Tj3V0Avp7osTlREQBxqqRr3LUVAGvIEMovGQ0DSMTpjtTAnQPLD/VCzy0xAWARSEnNHSkBRDqXnqTkMQORrf0nAnVNA5TdLP9pgRkDd1Bswsh5SQLgIyJwOUUJA+YiCowg2UUAvH07frZcGQM/0QwvswjhAZqzjWh7JNUBpNNnRCvgIQOSgeH14JVhAgzBps8g7WEDPbIV+l7pWQHz9vfF9QhZAJgLcd4rQMkCw3B5QR+pGQFKVG1sL4TFAimxJh6R2VUDK/quYGTtJQGoxMhTnazlAN7BLqzMkVUDRSg+BUDY6QGQ+5C9ChTJAO3KEyN2MLUC+Is0MUepTQE76zaxoG1FAUnXLVBQsR0CS89dC45hSQN4ppdtNClFAsef+qWHASEA8maKX6esAQIzTM/TP+FBAKMmkq5/pVkCPzXYZU98mQLq1eH0KFVFAV9K1M7taTEAhx9FaXNZOQCGqkwHgYSZAGobOYSp6NECSje0vVQRYQJEjTHx4SSVATvUkai1pVEBJca5dRy5OQP49lfFPjFBArwtN7tpcWECcJhy6UEVYQPvC2UebdUtAwHsdVafOUEAFDu+R825WQIJor7VUxkhAJ/yj9U/kPEDo7eiShcw/QBdkZZ7JR0VAB3AHadk0LkDAoPVzj3RCQN0j3iT92RBAKP4N8GiRTUB4q/Tq/4RLQMVb7M130jlAY4JDPnGYQkDz5kU2c4wdQICRFfgJotE/MVWq0cGRV0Atj0nvo6w4QGlUxOa7sEBAfkX65FT2IEDts+IprrI6QAi2mW3chdQ/zY5bPS+XVUAASM7jJ3hFQOaH6wHtj1FAatDxdINAHUC4DPG7FjREQJv1K07biUtAirDoyf9+NEC9Vvgvhg1AQKxBDifBYlFAUiJaPaohM0DgX68UMK5UQAwExJHIlidA9BHZ0OIyUEBENYHhJmErQPdiRvbeu1dAVJ+YgBA46T/78NBIYsVJQPazKzO6G1RAZEJxGGiCGUBmYXXKhfE5QCpJTEHF7lBAxvHOgZVQL0AMdhUEEcE2QFJhMpLJGTdAJBfs9D2CPUDy+tMMxj89QNhlNqD0QEdAafv8ZtTMWEDd7PKSvM83QHW987cRXlNAWKl+viOyRUAYNGTUKeI4QKK5AVo660BAqcA+1PN/V0AxGVsQfE8xQLLjw8z5K1NAaiubF/ZXN0CBXxFLK8FYQF07SdOYjktAFIqUP1hqV0BSDpA2kAhYQM20VSnwTVFA+ZHyrIG4WEDiiSSg+1BSQNqivlz8ZUhAXxrnt67tIkACei5L06sQQI3OcBZOn0JAh0AW50BQVECrCYkFHwtYQBbl5xWidkFAHBmoQA3nEEB9gRjE4e5GQNl1awxdVzdAf2pTwdvyV0ALfR58l0BVQKXVvrHFQ0JAFjFe2Z+mU0DeOr/tnfUjQEklQoPeZExAPrzBE1PaV0BxTU4slyFUQPTFSmzPLURAX7FZh6IJWEB2B2f6cD1UQHCgF1h9/VZA2gpXdhNDQ0AEpsLpn0JBQNJ8WixUJx1ArPWH0wknNkD2MLcMLBNEQOubH3hlHDlAE+dfc7rdR0DmcIbr3QUMQNBbfl10WyVABvVHwOUqNkDxlTP13ldCQN9G0lI9ZUNAJObA0IT8NUC8enCDJRw4QHniqeq65lNAgxElwgGKSUCXvk6pa9tLQCQ4wOXVuRZAosf278R3VUDCNUGOf49SQNdfIyLS3FNAZhf8QzLLR0DKh0R0kiFRQBn3mujedUhAzIAQ61XPR0A5S/eQemZVQOeK+G+zNjBAu0h7r1JBQkC2pMul+jxQQJ1QvGW+BUtAxHi2mODfUkBGHJ1zQ1JKQDejYlr1LgJAl85e9OIJREBGlKXGoaJTQDYW7fpNhlhADfWYqzf6UUBgbjrsJ31UQEtZ0+fO/ilAogdNbpOlQ0BM4t6Y6LxWQBhuPdAbjlhAO68pAKKLPUBcTe8sK8tGQCqCG/lez1BA9fPmR1sDT0D+eMiikhw6QFxH2GBuSFJAwmHr3NhsK0Buj2fJKwlNQFFiEJQESkxASUJjhv3nTEA/6bhnN5tXQAeTUkm3yyVA2uzFaUWIQ0DHKz2RR8EwQOx2unFpXkhAytwG3rsaTED+E3T63YZVQG66ttGnd0xA6aCEmc4PVEChM3MYeltEQGkRhfsaZDtAp2H+yoI0MEC21/XKfflSQLiflb0+q1NAgR/RG4gFWEAa2H4A4mZTQBLBkvtUgEtAPK+Gp3fzQ0APjk09iZIsQLGYIvdhTFFAMKwoI9JmP0DJkMiA025VQIntMHtQj1RAJ/8VP+KCVkAiVm8EK39VQMZxym5/DzVAbGjVNFJYUUB6ndpAnypEQMjhtLyOeVNATX3bnh7bV0BXNcbD85RFQFxbAfX2a1VAQW5r6yX+RkAir7mZNNEnQPyUWXdyJT5AUwA3RAStVkBKys4i5VAwQN9wKDAkCUtA2JkgnKsBNkB6T8NCbhZGQIyS9fbQv1FAAqK8YXrTQkBcDIjLwSUyQJdBozTZID9AyR9W6wQ3V0D2JTiS2IoYQPz5HjR/wkNAniCs60qkHEB3qUKWFCJGQKOUYuFwSVBAM5MZAhFEQkDfB1lvh4ZEQGXyfxgzwE9Awh4hvOV4RkBd6U3EtsVRQPhN9uvGTytAW61O0OMEV0DfP9V95QVYQGqe1U7urDdA8nQDif+mQ0A0o9+q111PQMK10AQe3lNAYwqoPFihUEDLs6FVF2M2QDuLFlM1Sz5A33ms3kx7SEB1QjWCPsJFQJP32STko1dA7TRsFX/TVECIs47Vfs9KQBVsAuA3aU1AjlrG53kPGUASFHZhZU4mQNCtyuD65kdA7be4QiB1AEAzkU3v1NhSQBpbfHnAqSBAsUg19wdQNUD/lmExczNLQAEhUEJINUlA6DxXBF8mREAGSZuB4BdNQINWNg7o4UFAbjOt8LqBRED1t33ZMsRPQKoRUoGPbfk/CCzNfK5rO0DU1AQLY2YgQC+YLdK4sFVAxY+L6g16WECMmOwHh/83QE/mYDqLrgNAd2+HXU0bNECplWmauJhXQFijEEHNzkhAo4Essq2DV0C2yNCh0sETQHFGwO2lsQBASucC2jPEUkB8paTnbT8QQBa5qsfza1dAgGtDtLt2VkCuhSkvspxQQJ7oh+T+3VBAQ1HiZllnUkCfhL88Y/1LQK+RLRalg0RAd+bGMiMGQUBa879xE9FSQABTMTVnQFZAxBkJJvnSQkCw8c3zRZxUQAdmndLMeDtA5W4QtFa1LUB4YOV3fA9EQBylp7MMpVhADA/hODb3PEBnuWSCmFRUQKxilfvlSTlATEeFmYjFQEA/Piq0XFtYQNXMC2+KFExAAC8gXg9kOUBhx5t4RAVEQF/N8jZPgCtAbS9g59eCV0B6jXurQsoxQJ9afKARfBBArqM0FjUmTEA+3LAVGT8kQBB7/U4v3ihASjmvcGN8P0ChW7gaOE4+QLt5HGyPvgJACPq9piQMTkBm7GXJAPZDQAxNx/sHvyNALBvC7W7EKUAtTH3HUJFMQPVcwb2SQVZAtGzluc+8UkAlHeYv/BFLQEHUYFQ67EtAgQcuV5sYVEDGBclVm/I2QDnk3oBdkFJAPc2G4uXiU0DOSt4vyenxPyd5j+ERelJAVagK0bflVEDZ1gw71fdVQEpUps/E2y5A00HLHIlfUkBspADjWypTQCzKOV02TUBAERsWK8ucVED8CQ+7tSlKQAcfwJTwXldAA9ctWvvgPkBXydsrF/dTQLP/MG4V2k9ARxrapSiWJUA3GM0F1RVOQPXXi0JPOlVARJTshC8AMEDM4uZleq1WQKAAv+HeCS1ADvkv7z2JRECpNnNU6QQVQODEY3aIEbk/FyrNot+VPECkxei7vypGQON/N3QrfTdA+oH4JvaoUUDwAOsYyIRXQKBSiOPqRDVAUwgCdwCUUkA5m5gxQnQyQIV/K29ZWFBAq3ASzddPUkBMb+bmPbMXQHSEhDumAydAkNDx8N4hUEAGlQ4SIopKQEhHMrqfUi9Aszi3r5O5VkBQ7N4H25pQQPuna6Ma+1BAvJqYI0z8IECGA2+cSC1UQGP0Q/9RFExAJfqh6in5UEAqFJoTh2dTQOUPUzWJ2khAwut/RNndMEBGtwN1gA0nQJIxk8w/w1JAtmhhCefeTkAa15AVLV1FQFWsE7+81kNAMHwZZz2SU0CYrqwB1xQ+QHgxZPOCH1BAAtTLnBuQH0AKusOJDU9XQAkOMClv+1hATQqdh2gSQEDhCj1BXzNRQG6NnMS57VZAZfoKYd1ATUD+5ziKdNYtQKZVxEzMSBBA8SX5zXehAkBTnQfcmJxRQE4NzpDo/DpAMluHd/xXR0Cw+ZzDnmNXQDShlhCGBFRARwFYc+iSUECpHLvGcGRCQJNxFAylNjdAmsQQJOrfWEAeQ5rqZXtVQBl0M+N97VJA0pVAVUlkPkC1bZnwbIkwQHsv7U0cglRAzs8u5kZqMEDkhbXkMtc2QAEaNABHgEFARSL+lK46VUBFAmzWDI9TQCoLPuYrY1RA98jLPXcwN0CMTEf6EzYEQNdIInS1wURAP/6KoAHVVECF2k9UyktSQGfj31+U2CZAB0EOD9QITEC2unF/HbkgQKkrEig8f1FAXCBKWfQsTEABu1ivXV5YQODYpe66UVRAlvOF5tnRVUDz+xc9tdpYQMsAOUl/21FAPcpbTDnmI0CQ4tyh4S1DQEIirPjQfkVAXDLioCB3WEDNfpueww9VQKNpbAELi1hAROal+DLISUAo9tZL2uVQQPqnteFBlkpA01SWtNv7SEAFLfHy1HhGQPEZVY1J30NAw6gB+LkoVUC7cwMotqRYQBM3bXTRT0VAPq+2Hrl/SEB0IdTblIJVQBD4ei+b+E1AMtKunWkaQEDOVf8LkGdQQKoem3FMXD1AGmmxt7dRJkD+Ywy1DIZUQGYj2SlM0hNAPs+RMBSOUkAUXcLRKGBNQB/Fa7GhEEVATHTgfqEe+z+wHuJBUpdXQFS5bFOIKVdAUR1tQUl8DUA7KY9VcqVDQGE04qQ96EFA3D9CVcTVOUCuFI9wrXlTQD0bopiE8FVAtyasxmh7TUDoABiWjmpJQD2SsE2gQghAUpKL/0dIFkBLMInRiyE6QFRy2zyQdD9APwKU8FWcQ0C89KcxbNUgQGozCS4ndlRAP5CbjK7YV0Au8Azo/plJQGe8k5aVe0FAW0TgX69tIkDlOIEfu3pLQG0Grkus3U1AbPt63XqfU0C85kIXt5pTQEZAuHXovVhAAbnHj6InSEDL1zPblI4yQLqKATVz1jVAyJfIUt50U0A1Z7mqGLdTQGLtKlLEiyRAnrDOQe+uVEB4DbCMDisxQLf/PikSRUJAkUEtd/KaVkCferhTwjJRQKNdsAUIeUdAX36qnuEvSkBLQzmxN1ZJQO5pW0CS8ENAHLTN0Zy+TkC2wSD7QEdTQMSEnPhMdFBALC7+xXub4D/VHsL4FYM/QGAn27gF+lJAJVXBakZjREBTegptzQZMQJBe+vLN4DlAnvAI9sVSVUAK7lwp4OJRQJgIREg6D1VA9WazJu8XLkBwGCFsqnI4QNrozPmMXUxAFJsv1ku7Q0DdEoIiK6JQQGLUyeyp0lZAbop20/bbVUDe09MuPxQ8QBbe8nvcFShAuX46t77eO0CNWojWdBlRQG4+l/cD/DBACH7DBN9VU0BLHlOw6JJMQNq+W0DSulVAExBbn96qUECusmwcczNSQO9EqfjN6RdAYvH30pK0MUBCOcNqp7lDQA5xUZuRtFhASTlK8hI4QEBxinfnBGFXQNSJcOac6VdAwEq0yjN0UECoK20woIQwQFDg+SVv1x9AzAo3bVRaPkDwp0gr4SNTQLwkeKXdulNAL+3UTBdZPkB/RQaefZ1UQP5kGo41iUlA5Tm8W2PEU0BAKOUZbj5XQMpywPQPxlBAz4mUYunORUCmDldJgjdGQNVK27eEyQJAszMc5XVCUkB8A9800QciQFOl0SttFjZAzPOcC7LWTUDZIbqLSR04QMX7pmMxt1ZANIsp0IVvKkCZeo1vCJhRQMZISOk4OztAoA8+Dhi1V0CjP9erjzpUQN48oJxNElhAukzo+cE2IED6apHRQe00QIt7KL1fSU5ARIojS445QkBTRH44qdU8QFseirWm6EdA7FYRfJbISUDL5Ur0wB4tQISYBMYpH0lA9Qmw1gj6UEAl4xWYQl9HQA0xUv36K1JA6DNverzBSkD+68+F1lE7QD/TtL2xtj1AbMqLdkcrUEC0r5SJdXlNQKD8URD6ckhAMPe3I/f8PUCt+rR+XhVYQHfnf3lGmlJApPpQqfloUkAgGQlt/jhGQBnILslvT0VAjKbzL/tNVkCxdojdrkgWQNvEiSZObT1A7FRquWktMECAsGWXB/4HQFnM0A9hME5A6xTrjoeOREA4131o4khRQHU8HhXC70FAArpAW3gaS0CwNXcWMzNUQKvrA52SWlJA6//kkoE0T0DTSmW3HyVYQNT1t9BLEFNAuhWM6VQmR0AoWLdAxzYsQJZDzm5zOlRAAsmKwmJ+T0BSMvtD6sgwQJT4lz9SXExAtdryl/akQkAMbrV2FrBQQJcZZy6NXFNAOhaD2v+8OEBeQIi7aNU8QIeZEXUXeFhA2ae2RzqQO0BE0AFCzMosQH5azu/SYlJA2kHOkRIFRUA62AsLU0hTQA0BT+p8/jZAsGbcNpqtwD9pzwsTPUdEQAL+Mp1x/ktAE5eVZSY+U0Dzc9nBtNVNQMEXBno8QVBAGXN+sGg/PkAPSEiKSO9OQHZSERnA0DhAl59YXOjCIkB7Fmb6e4hRQKYQ4d7jnzhAmb6DIPdYU0ByAvhqYPlWQNq8xP5HuzhAPCAqrDt6WEDrSV06Du9UQPF5raG4zzNA5rsFuxcJVUD3RZ+ZkvNCQNU2LXrhZ0xAG71VrCr9S0CZcNtPkLJRQHRS4DcmDR1A0SbBxFCrQ0CpRg4SVulBQI/PmB6PizBAtTe0bfJNOkCFxTzG7YJVQHRrxgseHlNASGBxw56DMUDVEEzO/LNMQGxOcDxh1FFAEPXGSpDlVUBoIzfx40VKQHma5lFTVVFAADNqmk7QTkDA6bW4EkJTQA5K0czkL1NA+Vd/X91sTUAa/pevJS9UQEpsSrN1xSBA6z/9ykM4REDJwVzR3CYhQMiEXPRPojFAFO1dDMelV0DIaxmJc+pJQAS/6KPKLUpAhRDxMsG7P0DL1tQToWU/QHJbzvY/EEZAKkG+ds2zRUA1vvctE1pLQOQluF62aVNAOVqc0abTRkD2tcLsAS1VQJV4c0K+yktATtvKCjPVP0BLZmk1om1YQIlLHLtsmFhAKBIyaLpBPkAc5EmrtLU1QML4YSnLRVBAIizdjyz4WEArqBvblg9TQKUKrXtfs1dAZo3OLEJSUUCF36fTo35XQByitEpSqjZA/vP4oUsBUkCpcdva1iRWQFDYsDCmm1RAeu5p5kUoE0CqPNunQfZRQMkCWwQigVdADM3wrk8QIEDvhsCJ7JU0QLuJ8UolQDtAPhvTnrzdSUBwsNSxkQBRQFTbOEEHUE1A85aD1VNfS0AsegS9xuRJQFiEmUXzVlhAFEbTPO+AVEBQ1KS/35dUQNJMN5EtxkJA3NdROpqyT0DUn+Lue5IuQP0wHstlRElA0aRdYPjUWEAI8S1+yvZNQPy6Ykgp0EhAnaZ7tqlpRUC4BMGJPZo0QHaqd0Oy6C9ARO0HuoYyGkBAs6v+QtBDQPNqbjXZLVFAtlXdfxPmQUCpabGkqNpPQLC5tFtDIzFAYa0/Dc+kVEByBKwD9D5CQL41ra7WtDlALK473uBxJkBwcUALptJXQFL1rNoRSjBAcna+DhxsVkDB/e/D3pU3QC5lgodh01VAqVBOk5PFVkDLna3q+SxNQLkEsGRvdkpAojoPg3bhI0CiITqo379XQOi1v7aq6FFA9KfK7cZHVUDxXoTM1aFWQMqOS0LTBVVAceE/pXrpU0B8PWfD3ZhBQIKCzf6vXExACFFSc4VpUUBOe7luSCY/QPRh0adzDUlAqclFV87oUkA1FvtuSZZWQHHl6EalGlNA7xwBh+X6RkA5pjuV3Y9VQLC8NTC1CVhAq5KTEPvcT0DoxI4kGENQQBz8m2xl4lZAckJJT2/tUkBl0Yw4V09WQGUkpKGli1ZAhmuviG3EF0CFRVwDm+1TQISd3HaKG+w/PqUi4FSAS0CpxHcsOVlLQB/wLrt/J1hAkw9zs7HeI0C7rMuccTBJQAoC2UiNBFhA4ldp02WaSEBpY5S+EKArQBPVHxTJp0tAwcBpGq4DQEAyUxNL7OgOQC/P+3p0RktAMdCyPJ+kQUDilWVwgVtOQH2ASI0Xt1ZAoKhlCA8NIUABd5U5I7pQQNZhxpZcqPU/778r85gWR0BwcHucLb4mQIJGkwA7uhRAKroVsW9uVEAM71wgXiJYQLZpoy3osTRA5r063CChSkB2UiyrC884QArL+Rykz0BAQ/xJ65EaUUCrCDoIibEuQAOnYRn1cidAgGHu78aKAUAmqGTcBINJQDzzDK+03ElA3Il/XX3SSUBwcPNqBu/WP2z7t5QBuEJA2EurvQrJ/D+NIXWn+4RVQOWpz0bAuBhAo/t0t3yuWECtvMuH4/VHQNIoiMeRa1RAgcEFltKQNUAIlt4Nqx4xQNhBI3ZGxxNAMtv0vjYkQkDCV9bTpoxYQG8LIccvxVBAEfKL3hVkUkBs1q3vNy1YQJHT5DxAgjdAGSqqQ9RmP0BWtzEdkphWQArH7enbeUFAl1c68L4zV0BOH5MVB7RDQPKR6nEDzzFAoU8GbRepO0CUVAvVNzpCQDSutF/sGUNAbaAir7ArMEDOt5C5T4tNQOSGY9UtlERAkaN1c9p3OUA+DQuhX5FLQO4B3jobXkJA3CDP7p41N0BA+2/QhTM6QGGxW2FubkZADxR6io6vPkCDhuP3aDQwQA81pYm2PVNA3ZvBl9RAQEDbjUHk/PJXQFOiVwPa1FZAXpVTzh65N0BLb3m9m5ojQA90y4ZQKFBAotzOop5VSEBZIjGRCTlHQBEoWA8NSEZA0oi3JK3KKEAuWVZTwJ5IQKYCOyJqpBFARSOaK7q/VUCTC9corulKQKVTevrAZkJArnMbY4sDEEASbT0ISKIsQNxkDOQIpS9AYKx56VBOzj+ZyRoviZNFQE7uIPL021BAh5jsdWQEKUDx2O/ofotKQIyN+jSFg01A1w5tpB2EG0D52z1/425XQNjUeHD//1VAP6z55AMZHkCI39Jwp5VRQNEvjVN1J0xA4fA9o5HhLkC6HnPeBEpAQPMz4rWwTklAWRwYLSU2T0D7KgROe3c4QLtS3H+MUkNA4FuzzkLWWEC4zsrBw/w0QC/GVixGhlBAxNT2b8XgSEAZI30MQq86QKH8gVn/vwdA0PytR7AwUkCn09C6Bd40QCrVFY63Wk9AtFZS1IVvUkCNB7iLwGVKQJ6Z+6I0GVRA51k9KenrLUCVk7RAMuhUQBT2V9xRnRpA9vjUY+1dQUDWaMJmA/tUQLRgS3QD4DVAyGSIkE3dV0D9qzvmNylAQJu3mmVl0lFAvmbyn3txVUDMRL5elD4fQIwGJrrMy0RA80GAbjiqRUBG1+zFRoI0QGUbuDA6rFBA9q91br2oVUCC9Py7CbouQGJp1gyVb1JA81uAQNAPWEDzPQrC7S0+QN0fpRT6ZjlAkJTykcabVkDxYEdHXgVYQFoyEAQAzFBA9l4hTN+/GUAq3kun3PhRQN/MwakpIVJA0YhEFo/tUEDDmT1aP3RTQIhsLemAKlNAsxdJEVxKIUDCEo9wliwxQEjClG3NyERAxFJvckCdWECu9n3idhFIQDKJ2pgdmDpAx2P+dGk/A0CWelXKQbpYQOiewGuOpU9AQ/UH9mwoP0DPadz+h25MQMCIP32cE1FANmELwcg2TEDbB1ZbugtEQP9yY6Zb2ktAWq9CCiliVkAWjee++60WQH5Tsa+9c0tAhI6NEvQ2UEBl/3mvLrVYQHcEk8HY0FBA6msa82fmQECFRFi7FJk0QJAQenQHkz1AMIlL2Wdx5j+ZQ3x9C+lVQGFTJ89QR0BADFia+wuVUkCJSA/9GcVVQIj/qJ53YVBAh6WblbegTkCNyyhj1zBLQDK4TUjZfURAbtaUp3EBFECUxLKysShSQN0xtCTbtlhABztmd8n5MUBCQYiIVspUQNg51w4bTydA7p4zG6CmNkArXA9HhwdFQPZPu8WwWFVAAvHr7oWeSkDja7TcOr1SQOuHucFglFBA/B/Nl1CnSkDZIMJ0OOBXQHTa+Varg0tAJTDX+v7+TkCz+93lUsE9QKSZUoshFDdAXONgH9IMQkBLHBydbH9DQOt5ZEQ3C1FAHzyidiMVP0CU9swWI6hTQEroCJsXXUVAKJWjePiLOECkfvdCOgVKQAbTW84MQ0pAcVzcMIsWOUCGRsU8cDQ9QIi/n9VRNlNAqQx8EWgsVUCa80VriXlWQCwH+TnPu1BA+7mKSIesU0AJ1cgcmuNXQOhCplBVs0FAE3Tuw6mTTEAJXPKgzpU/QDGzTryW+EJACCQo2qDPU0AI8855KoMpQCqAmy3x2i5AkzPuy0DoTkCu9EGMW4dDQPrcV+jjeExAblL7xZA3VUBKjSP8bfglQIirBN2Al0ZAIfBbn6UwTkDHjoSrSiU1QOlL1UDo6ldABQsrke1IVkBmnM7o7fNVQCITi2ftWURA1U+5HIWhUEAIkVtI/UA/QN0m01XBB1JApAQoa7eVTUA08vgLyE85QEpuNkGumVhAvU25yLP/SEBP5rx9B80gQI7BaNfc30xATBdMFzssTkAFkwPubcBSQJjQETSRS1dAPnJUgwBHKUC1LerlB2ZQQJCa+9pxhkpAIVe8LOAXAEBQdMr+jQ5GQGI78L+K4jpAd5zssrL9VUAVeYEGCUlTQHaWuGC4fk5ACWeZlQc6JkA24B2v3aYTQKZ6eGmARSRAeAeAv3LCT0DKrBSrKXlEQGpGVN+1t1BA5gxf6JleUkDxE+eiZ7xYQEQ3nJ9wzVdAh8p5DkHZV0AtwAdfJeVRQBacM/VGrT5Abf6rMcOuP0CW6QDhAipHQCsA9IJtJlRADWwoT67iT0AtfWCOs9BYQGxUcC18WUxA5qWTgxoAMUDEZCmsfYMEQJcIVpR+fFVABuRRFqdsLEAcRlS1fy4IQORh8Sl0o0xAQSFrybh7UkDiuXM+Y8RRQA==\",\"dtype\":\"float64\",\"shape\":[2000]}},\"selected\":{\"id\":\"2269\"},\"selection_policy\":{\"id\":\"2268\"}},\"id\":\"2175\",\"type\":\"ColumnDataSource\"},{\"attributes\":{\"width\":400},\"id\":\"2180\",\"type\":\"Div\"},{\"attributes\":{\"fill_alpha\":{\"value\":0.1},\"fill_color\":{\"value\":\"#1f77b4\"},\"line_alpha\":{\"value\":0.1},\"line_color\":{\"value\":null},\"radius\":{\"units\":\"data\",\"value\":1},\"x\":{\"field\":\"x\"},\"y\":{\"field\":\"y\"}},\"id\":\"2177\",\"type\":\"Circle\"},{\"attributes\":{\"bottom_units\":\"screen\",\"fill_alpha\":0.5,\"fill_color\":\"lightgrey\",\"left_units\":\"screen\",\"level\":\"overlay\",\"line_alpha\":1.0,\"line_color\":\"black\",\"line_dash\":[4,4],\"line_width\":2,\"render_mode\":\"css\",\"right_units\":\"screen\",\"top_units\":\"screen\"},\"id\":\"2172\",\"type\":\"BoxAnnotation\"},{\"attributes\":{\"below\":[{\"id\":\"2163\"}],\"center\":[{\"id\":\"2166\"},{\"id\":\"2170\"}],\"js_event_callbacks\":{\"selectiongeometry\":[{\"id\":\"2185\"}]},\"left\":[{\"id\":\"2167\"}],\"renderers\":[{\"id\":\"2178\"}],\"title\":{\"id\":\"2263\"},\"toolbar\":{\"id\":\"2173\"},\"x_range\":{\"id\":\"2155\"},\"x_scale\":{\"id\":\"2159\"},\"y_range\":{\"id\":\"2157\"},\"y_scale\":{\"id\":\"2161\"}},\"id\":\"2154\",\"subtype\":\"Figure\",\"type\":\"Plot\"},{\"attributes\":{\"fill_alpha\":{\"value\":0.6},\"fill_color\":{\"value\":\"#1f77b4\"},\"line_color\":{\"value\":null},\"radius\":{\"units\":\"data\",\"value\":1},\"x\":{\"field\":\"x\"},\"y\":{\"field\":\"y\"}},\"id\":\"2176\",\"type\":\"Circle\"},{\"attributes\":{},\"id\":\"2268\",\"type\":\"UnionRenderers\"},{\"attributes\":{\"data_source\":{\"id\":\"2175\"},\"glyph\":{\"id\":\"2176\"},\"hover_glyph\":null,\"muted_glyph\":null,\"nonselection_glyph\":{\"id\":\"2177\"},\"selection_glyph\":null,\"view\":{\"id\":\"2179\"}},\"id\":\"2178\",\"type\":\"GlyphRenderer\"},{\"attributes\":{\"children\":[{\"id\":\"2154\"},{\"id\":\"2180\"}]},\"id\":\"2182\",\"type\":\"Row\"},{\"attributes\":{\"icon\":null,\"js_event_callbacks\":{\"button_click\":[{\"id\":\"2184\"}]},\"width\":300},\"id\":\"2181\",\"type\":\"Button\"},{\"attributes\":{},\"id\":\"2157\",\"type\":\"DataRange1d\"},{\"attributes\":{},\"id\":\"2161\",\"type\":\"LinearScale\"},{\"attributes\":{\"source\":{\"id\":\"2175\"}},\"id\":\"2179\",\"type\":\"CDSView\"},{\"attributes\":{},\"id\":\"2265\",\"type\":\"BasicTickFormatter\"},{\"attributes\":{},\"id\":\"2269\",\"type\":\"Selection\"},{\"attributes\":{\"overlay\":{\"id\":\"2172\"}},\"id\":\"2171\",\"type\":\"BoxSelectTool\"},{\"attributes\":{},\"id\":\"2159\",\"type\":\"LinearScale\"},{\"attributes\":{},\"id\":\"2155\",\"type\":\"DataRange1d\"},{\"attributes\":{\"text\":\"\"},\"id\":\"2263\",\"type\":\"Title\"},{\"attributes\":{\"formatter\":{\"id\":\"2267\"},\"ticker\":{\"id\":\"2164\"}},\"id\":\"2163\",\"type\":\"LinearAxis\"},{\"attributes\":{},\"id\":\"2164\",\"type\":\"BasicTicker\"},{\"attributes\":{},\"id\":\"2267\",\"type\":\"BasicTickFormatter\"},{\"attributes\":{\"args\":{\"div\":{\"id\":\"2180\"}},\"code\":\"\\ndiv.text = \\\"Button!\\\";\\n\"},\"id\":\"2184\",\"type\":\"CustomJS\"},{\"attributes\":{\"axis\":{\"id\":\"2163\"},\"ticker\":null},\"id\":\"2166\",\"type\":\"Grid\"},{\"attributes\":{},\"id\":\"2168\",\"type\":\"BasicTicker\"},{\"attributes\":{\"axis\":{\"id\":\"2167\"},\"dimension\":1,\"ticker\":null},\"id\":\"2170\",\"type\":\"Grid\"},{\"attributes\":{\"formatter\":{\"id\":\"2265\"},\"ticker\":{\"id\":\"2168\"}},\"id\":\"2167\",\"type\":\"LinearAxis\"}],\"root_ids\":[\"2183\"]},\"title\":\"Bokeh Application\",\"version\":\"2.0.2\"}};\n",
       "  var render_items = [{\"docid\":\"e0e4680b-cc90-4d9f-9a72-6fa19fbce4f0\",\"root_ids\":[\"2183\"],\"roots\":{\"2183\":\"5dfeced2-355d-484a-8c3c-a25da2e0b44c\"}}];\n",
       "  root.Bokeh.embed.embed_items_notebook(docs_json, render_items);\n",
       "\n",
       "  }\n",
       "  if (root.Bokeh !== undefined) {\n",
       "    embed_document(root);\n",
       "  } else {\n",
       "    var attempts = 0;\n",
       "    var timer = setInterval(function(root) {\n",
       "      if (root.Bokeh !== undefined) {\n",
       "        clearInterval(timer);\n",
       "        embed_document(root);\n",
       "      } else {\n",
       "        attempts++;\n",
       "        if (attempts > 100) {\n",
       "          clearInterval(timer);\n",
       "          console.log(\"Bokeh: ERROR: Unable to run BokehJS code because BokehJS library is missing\");\n",
       "        }\n",
       "      }\n",
       "    }, 10, root)\n",
       "  }\n",
       "})(window);"
      ],
      "application/vnd.bokehjs_exec.v0+json": ""
     },
     "metadata": {
      "application/vnd.bokehjs_exec.v0+json": {
       "id": "2183"
      }
     },
     "output_type": "display_data"
    }
   ],
   "source": [
    "from bokeh.plotting import figure\n",
    "from bokeh import events\n",
    "from bokeh.models import CustomJS, Div, Button\n",
    "from bokeh.layouts import column, row\n",
    "\n",
    "import numpy as np\n",
    "x = np.random.random(size=2000) * 100\n",
    "y = np.random.random(size=2000) * 100\n",
    "\n",
    "p = figure(tools=\"box_select\")\n",
    "p.scatter(x, y, radius=1, fill_alpha=0.6, line_color=None)\n",
    "\n",
    "div = Div(width=400)\n",
    "button = Button(label=\"Button\", width=300)\n",
    "layout = column(button, row(p, div))\n",
    "\n",
    "# Events with no attributes\n",
    "button.js_on_event(events.ButtonClick,  CustomJS(args=dict(div=div), code=\"\"\"\n",
    "div.text = \"Button!\";\n",
    "\"\"\")) \n",
    "\n",
    "p.js_on_event(events.SelectionGeometry, CustomJS(args=dict(div=div), code=\"\"\"\n",
    "div.text = \"Selection! <p> <p>\" + JSON.stringify(cb_obj.geometry, undefined, 2);\n",
    "\"\"\"))\n",
    "\n",
    "show(layout)"
   ]
  },
  {
   "cell_type": "code",
   "execution_count": 15,
   "metadata": {},
   "outputs": [],
   "source": [
    "# Exercise: Create a plot that responds to different events from bokeh.events\n",
    "\n"
   ]
  },
  {
   "cell_type": "markdown",
   "metadata": {},
   "source": [
    "## Additional Information\n",
    "\n",
    "There are many kinds of interactions and events that can be connected to `CustomJS` callbacks. \n",
    "\n",
    "\n",
    "* Widgets - Button, Toggle, Dropdown, TextInput, AutocompleteInput, Select, Multiselect, Slider, (DateRangeSlider), DatePicker,\n",
    "* Tools - TapTool, BoxSelectTool, HoverTool,\n",
    "* Selection - ColumnDataSource, AjaxDataSource, BlazeDataSource, ServerDataSource\n",
    "* Ranges - Range1d, DataRange1d, FactorRange\n",
    "\n",
    "\n",
    "For more complete examples the User Guide section on [JavaScript Interactions](https://bokeh.pydata.org/en/latest/docs/user_guide/interaction.html)"
   ]
  },
  {
   "cell_type": "markdown",
   "metadata": {},
   "source": [
    "# Next Section"
   ]
  },
  {
   "cell_type": "markdown",
   "metadata": {},
   "source": [
    "Click on this link to go to the next notebook: [07 - Bar and Categorical Data Plots](07%20-%20Bar%20and%20Categorical%20Data%20Plots.ipynb).\n",
    "\n",
    "To go back to the overview, click [here](00%20-%20Introduction%20and%20Setup.ipynb)."
   ]
  },
  {
   "cell_type": "code",
   "execution_count": null,
   "metadata": {},
   "outputs": [],
   "source": []
  }
 ],
 "metadata": {
  "anaconda-cloud": {},
  "kernelspec": {
   "display_name": "Python 3",
   "language": "python",
   "name": "python3"
  },
  "language_info": {
   "codemirror_mode": {
    "name": "ipython",
    "version": 3
   },
   "file_extension": ".py",
   "mimetype": "text/x-python",
   "name": "python",
   "nbconvert_exporter": "python",
   "pygments_lexer": "ipython3",
   "version": "3.7.3"
  }
 },
 "nbformat": 4,
 "nbformat_minor": 4
}
